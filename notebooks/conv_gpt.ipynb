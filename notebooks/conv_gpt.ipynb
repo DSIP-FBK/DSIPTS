{
 "cells": [
  {
   "cell_type": "code",
   "execution_count": 1,
   "id": "3f6b7188-2dd1-4f95-89e8-e08e1cca8fc7",
   "metadata": {
    "tags": []
   },
   "outputs": [
    {
     "name": "stderr",
     "output_type": "stream",
     "text": [
      "/home/agobbi/.conda/envs/tt/lib/python3.10/site-packages/sklearn/preprocessing/_label.py:99: DataConversionWarning: A column-vector y was passed when a 1d array was expected. Please change the shape of y to (n_samples, ), for example using ravel().\n",
      "  y = column_or_1d(y, warn=True)\n"
     ]
    }
   ],
   "source": [
    "from sklearn.cluster import BisectingKMeans\n",
    "from dsipts import read_public_dataset,TimeSeries\n",
    "import pickle\n",
    "import matplotlib.pyplot as plt\n",
    "data, columns = read_public_dataset(  dataset= 'weather', path= '/home/agobbi/Projects/ExpTS/data')\n",
    "ts = TimeSeries('prova')\n",
    "use_covariates = False\n",
    "ts.load_signal(data, enrich_cat=  ['hour'],target_variables=['y'], past_variables=columns if use_covariates else [])\n",
    "train,validation,test= ts.split_for_train(  perc_train= 0.8,  perc_valid= 0.1,  shift= 0,  skip_step=1,past_steps=15,future_steps=48)\n",
    "token_split = 4\n",
    "max_voc_size = 256\n",
    "samples,length,_ = train.data['y'].shape\n",
    "tmp = train.data['x_num_past']"
   ]
  },
  {
   "cell_type": "code",
   "execution_count": 2,
   "id": "bf0cf24f-7285-472e-b757-81cead3a531d",
   "metadata": {
    "tags": []
   },
   "outputs": [
    {
     "data": {
      "text/plain": [
       "[<matplotlib.lines.Line2D at 0x7fba127cd750>]"
      ]
     },
     "execution_count": 2,
     "metadata": {},
     "output_type": "execute_result"
    },
    {
     "data": {
      "image/png": "[encoded data removed]",
      "text/plain": [
       "<Figure size 640x480 with 1 Axes>"
      ]
     },
     "metadata": {},
     "output_type": "display_data"
    }
   ],
   "source": [
    "\n",
    "plt.plot(tmp[0])"
   ]
  },
  {
   "cell_type": "code",
   "execution_count": 3,
   "id": "c65d83b2-8411-4a86-9486-4c01ef56080e",
   "metadata": {
    "tags": []
   },
   "outputs": [],
   "source": [
    "import torch\n",
    "import torch.nn as nn\n",
    "import torch.nn.functional as F\n",
    "x = torch.tensor(tmp[0:10])"
   ]
  },
  {
   "cell_type": "code",
   "execution_count": 4,
   "id": "e56ed342-310a-4191-b2d8-658ed158a668",
   "metadata": {
    "tags": []
   },
   "outputs": [],
   "source": [
    "class VectorQuantizer(nn.Module):\n",
    "    def __init__(self, num_embeddings, embedding_dim, commitment_cost):\n",
    "        super(VectorQuantizer, self).__init__()\n",
    "        \n",
    "        self._embedding_dim = embedding_dim\n",
    "        self._num_embeddings = num_embeddings\n",
    "        \n",
    "        self._embedding = nn.Embedding(self._num_embeddings, self._embedding_dim)\n",
    "        self._embedding.weight.data.uniform_(-1/self._num_embeddings, 1/self._num_embeddings)\n",
    "        self._commitment_cost = commitment_cost\n",
    "\n",
    "    def forward(self, inputs):\n",
    "        # convert inputs from BCHW -> BHWC\n",
    "        inputs = inputs.permute(0, 2, 1).contiguous()\n",
    "        input_shape = inputs.shape\n",
    "        \n",
    "        # Flatten input\n",
    "        flat_input = inputs.view(-1, self._embedding_dim)\n",
    "        \n",
    "        # Calculate distances\n",
    "        distances = (torch.sum(flat_input**2, dim=1, keepdim=True) \n",
    "                    + torch.sum(self._embedding.weight**2, dim=1)\n",
    "                    - 2 * torch.matmul(flat_input, self._embedding.weight.t()))\n",
    "            \n",
    "        # Encoding\n",
    "        encoding_indices = torch.argmin(distances, dim=1).unsqueeze(1)\n",
    "        encodings = torch.zeros(encoding_indices.shape[0], self._num_embeddings, device=inputs.device)\n",
    "        encodings.scatter_(1, encoding_indices, 1)\n",
    "        \n",
    "        # Quantize and unflatten\n",
    "        quantized = torch.matmul(encodings, self._embedding.weight).view(input_shape)\n",
    "        \n",
    "        # Loss\n",
    "        e_latent_loss = F.mse_loss(quantized.detach(), inputs)\n",
    "        q_latent_loss = F.mse_loss(quantized, inputs.detach())\n",
    "        loss = q_latent_loss + self._commitment_cost * e_latent_loss\n",
    "        \n",
    "        quantized = inputs + (quantized - inputs).detach()\n",
    "        avg_probs = torch.mean(encodings, dim=0)\n",
    "        perplexity = torch.exp(-torch.sum(avg_probs * torch.log(avg_probs + 1e-10)))\n",
    "        \n",
    "        # convert quantized from BHWC -> BCHW\n",
    "        #return loss, quantized.permute(0, 3, 1, 2).contiguous(), perplexity, encodings\n",
    "        return loss, quantized.permute(0, 2, 1).contiguous(), perplexity, encodings.view(input_shape[0],-1,encodings.shape[1])\n",
    "\n"
   ]
  },
  {
   "cell_type": "code",
   "execution_count": 5,
   "id": "96b0e491-c409-4bb2-b97e-ca4ec08d8ee3",
   "metadata": {
    "tags": []
   },
   "outputs": [],
   "source": [
    "class VectorQuantizerEMA(nn.Module):\n",
    "    def __init__(self, num_embeddings, embedding_dim, commitment_cost, decay, epsilon=1e-5):\n",
    "        super(VectorQuantizerEMA, self).__init__()\n",
    "        \n",
    "        self._embedding_dim = embedding_dim\n",
    "        self._num_embeddings = num_embeddings\n",
    "        \n",
    "        self._embedding = nn.Embedding(self._num_embeddings, self._embedding_dim)\n",
    "        self._embedding.weight.data.normal_()\n",
    "        self._commitment_cost = commitment_cost\n",
    "        \n",
    "        self.register_buffer('_ema_cluster_size', torch.zeros(num_embeddings))\n",
    "        self._ema_w = nn.Parameter(torch.Tensor(num_embeddings, self._embedding_dim))\n",
    "        self._ema_w.data.normal_()\n",
    "        \n",
    "        self._decay = decay\n",
    "        self._epsilon = epsilon\n",
    "\n",
    "    def forward(self, inputs):\n",
    "        # convert inputs from BCHW -> BHWC\n",
    "        inputs = inputs.permute(0, 2, 1).contiguous()\n",
    "        input_shape = inputs.shape\n",
    "        \n",
    "        # Flatten input\n",
    "        flat_input = inputs.view(-1, self._embedding_dim)\n",
    "        \n",
    "        # Calculate distances\n",
    "        distances = (torch.sum(flat_input**2, dim=1, keepdim=True) \n",
    "                    + torch.sum(self._embedding.weight**2, dim=1)\n",
    "                    - 2 * torch.matmul(flat_input, self._embedding.weight.t()))\n",
    "            \n",
    "        # Encoding\n",
    "   \n",
    "        encoding_indices = torch.argmin(distances, dim=1).unsqueeze(1)\n",
    "        encodings = torch.zeros(encoding_indices.shape[0], self._num_embeddings, device=inputs.device)\n",
    "        encodings.scatter_(1, encoding_indices, 1)\n",
    "        \n",
    "        # Quantize and unflatten\n",
    "        quantized = torch.matmul(encodings, self._embedding.weight).view(input_shape)\n",
    "        \n",
    "        # Use EMA to update the embedding vectors\n",
    "        if self.training:\n",
    "            self._ema_cluster_size = self._ema_cluster_size * self._decay + \\\n",
    "                                     (1 - self._decay) * torch.sum(encodings, 0)\n",
    "            \n",
    "            # Laplace smoothing of the cluster size\n",
    "            n = torch.sum(self._ema_cluster_size.data)\n",
    "            self._ema_cluster_size = (\n",
    "                (self._ema_cluster_size + self._epsilon)\n",
    "                / (n + self._num_embeddings * self._epsilon) * n)\n",
    "            \n",
    "            dw = torch.matmul(encodings.t(), flat_input)\n",
    "            self._ema_w = nn.Parameter(self._ema_w * self._decay + (1 - self._decay) * dw)\n",
    "            \n",
    "            self._embedding.weight = nn.Parameter(self._ema_w / self._ema_cluster_size.unsqueeze(1))\n",
    "        \n",
    "        # Loss\n",
    "        e_latent_loss = F.mse_loss(quantized.detach(), inputs)\n",
    "        loss = self._commitment_cost * e_latent_loss\n",
    "        \n",
    "        # Straight Through Estimator\n",
    "        quantized = inputs + (quantized - inputs).detach()\n",
    "        avg_probs = torch.mean(encodings, dim=0)\n",
    "        perplexity = torch.exp(-torch.sum(avg_probs * torch.log(avg_probs + 1e-10)))\n",
    "        \n",
    "        # convert quantized from BHWC -> BCHW\n",
    "        return loss, quantized.permute(0, 2, 1).contiguous(), perplexity, encodings.view(input_shape[0],-1,encodings.shape[1])\n"
   ]
  },
  {
   "cell_type": "code",
   "execution_count": null,
   "id": "d48fb31d-7727-4528-b4a7-62b1088c4808",
   "metadata": {
    "tags": []
   },
   "outputs": [],
   "source": []
  },
  {
   "cell_type": "code",
   "execution_count": 6,
   "id": "781bf9cc-efa9-4958-871c-8b87fa5442fb",
   "metadata": {},
   "outputs": [],
   "source": [
    "class Residual(nn.Module):\n",
    "\n",
    "    def __init__(self, in_channels, hidden_channels, num_residual_hiddens):\n",
    "        super(Residual, self).__init__()\n",
    "        \n",
    "        relu_1 = nn.ReLU(True)\n",
    "        conv_1 = nn.Conv1d(\n",
    "            in_channels=in_channels,\n",
    "            out_channels=num_residual_hiddens,\n",
    "            kernel_size=3,\n",
    "            stride=1,\n",
    "            padding=1,\n",
    "            bias=False\n",
    "        )\n",
    "\n",
    "\n",
    "        relu_2 = nn.ReLU(True)\n",
    "        conv_2 = nn.Conv1d(\n",
    "            in_channels=num_residual_hiddens,\n",
    "            out_channels=hidden_channels,\n",
    "            kernel_size=1,\n",
    "            stride=1,\n",
    "            bias=False\n",
    "        )\n",
    "\n",
    "\n",
    "        # All parameters same as specified in the paper\n",
    "        self._block = nn.Sequential(\n",
    "            relu_1,\n",
    "            conv_1,\n",
    "            relu_2,\n",
    "            conv_2\n",
    "        )\n",
    "    \n",
    "    def forward(self, x):\n",
    "        return x + self._block(x)\n",
    "    \n",
    "class ResidualStack(nn.Module):\n",
    "\n",
    "    def __init__(self, in_channels, hidden_channels, num_residual_layers, num_residual_hiddens):\n",
    "        super(ResidualStack, self).__init__()\n",
    "        \n",
    "        self._num_residual_layers = num_residual_layers\n",
    "        self._layers = nn.ModuleList([Residual(in_channels, hidden_channels, num_residual_hiddens)] * self._num_residual_layers)\n",
    "        \n",
    "    def forward(self, x):\n",
    "        for i in range(self._num_residual_layers):\n",
    "            x = self._layers[i](x)\n",
    "        return F.relu(x)\n",
    "    \n",
    "class Encoder(nn.Module):\n",
    "    def __init__(self, in_channels, hidden_channels,num_residual_layers=3):\n",
    "        super(Encoder, self).__init__()\n",
    "\n",
    "        self._conv_1 = nn.Conv1d(in_channels=in_channels,\n",
    "                                 out_channels=hidden_channels,\n",
    "                                 kernel_size=3, padding=1)\n",
    "        \n",
    "        self._conv_2 = nn.Conv1d(in_channels=hidden_channels,\n",
    "                                 out_channels=hidden_channels,\n",
    "                                 kernel_size=3,padding=1)\n",
    "\n",
    "        self._conv_3 = nn.Conv1d(in_channels=hidden_channels,\n",
    "                                 out_channels=hidden_channels,\n",
    "                                 kernel_size=4,\n",
    "                                 stride=2, padding=1)\n",
    "        \n",
    "        self._conv_4 = nn.Conv1d(in_channels=hidden_channels,\n",
    "                                 out_channels=hidden_channels,\n",
    "                                 kernel_size=3,\n",
    "                                 padding=1)\n",
    "        \n",
    "        self._conv_5 = nn.Conv1d(in_channels=hidden_channels,\n",
    "                                 out_channels=hidden_channels,\n",
    "                                 kernel_size=3, padding=1)\n",
    "\n",
    "        self._residual_stack = ResidualStack(\n",
    "                in_channels=hidden_channels,\n",
    "                hidden_channels=hidden_channels,\n",
    "                num_residual_layers=num_residual_layers,\n",
    "                num_residual_hiddens=hidden_channels//2\n",
    "        )\n",
    "    def forward(self, inputs):\n",
    "        x_conv_1 = F.relu(self._conv_1(inputs))\n",
    "        x = F.relu(self._conv_2(x_conv_1)) + x_conv_1\n",
    "        x_conv_3 = F.relu(self._conv_3(x))\n",
    "        x_conv_4 = F.relu(self._conv_4(x_conv_3)) + x_conv_3\n",
    "        x_conv_5 = F.relu(self._conv_5(x_conv_4)) + x_conv_4\n",
    "        x = self._residual_stack(x_conv_5) + x_conv_5\n",
    "        \n",
    "\n",
    "        return x"
   ]
  },
  {
   "cell_type": "code",
   "execution_count": 7,
   "id": "21a4bdd2-423c-448d-80a5-e22b98978b9e",
   "metadata": {
    "tags": []
   },
   "outputs": [
    {
     "name": "stdout",
     "output_type": "stream",
     "text": [
      "torch.Size([10, 1, 15])\n"
     ]
    },
    {
     "data": {
      "text/plain": [
       "torch.Size([10, 14, 7])"
      ]
     },
     "execution_count": 7,
     "metadata": {},
     "output_type": "execute_result"
    }
   ],
   "source": [
    "E = Encoder(1,14)\n",
    "print(x.permute(0, 2, 1).shape)\n",
    "x_t = E(x.permute(0, 2, 1)) ##BxCxL\n",
    "x_t.shape"
   ]
  },
  {
   "cell_type": "code",
   "execution_count": 8,
   "id": "b956dad3-0a2c-4d51-9241-34712d3fcbd3",
   "metadata": {
    "tags": []
   },
   "outputs": [],
   "source": [
    "\n",
    "class Jitter(nn.Module):\n",
    "    \"\"\"\n",
    "    Jitter implementation from [Chorowski et al., 2019].\n",
    "    During training, each latent vector can replace either one or both of\n",
    "    its neighbors. As in dropout, this prevents the model from\n",
    "    relying on consistency across groups of tokens. Additionally,\n",
    "    this regularization also promotes latent representation stability\n",
    "    over time: a latent vector extracted at time step t must strive\n",
    "    to also be useful at time steps t − 1 or t + 1.\n",
    "    \"\"\"\n",
    "\n",
    "    def __init__(self, probability=0.12):\n",
    "        super(Jitter, self).__init__()\n",
    "\n",
    "        self._probability = probability\n",
    "\n",
    "    def forward(self, quantized):\n",
    "        original_quantized = quantized.detach().clone()\n",
    "        length = original_quantized.size(2)\n",
    "        for i in range(length):\n",
    "            \"\"\"\n",
    "            Each latent vector is replace with either of its neighbors with a certain probability\n",
    "            (0.12 from the paper).\n",
    "            \"\"\"\n",
    "            replace = [True, False][np.random.choice([1, 0], p=[self._probability, 1 - self._probability])]\n",
    "            if replace:\n",
    "                if i == 0:\n",
    "                    neighbor_index = i + 1\n",
    "                elif i == length - 1:\n",
    "                    neighbor_index = i - 1\n",
    "                else:\n",
    "                    \"\"\"\n",
    "                    \"We independently sample whether it is to\n",
    "                    be replaced with the token right after\n",
    "                    or before it.\"\n",
    "                    \"\"\"\n",
    "                    neighbor_index = i + np.random.choice([-1, 1], p=[0.5, 0.5])\n",
    "                quantized[:, :, i] = original_quantized[:, :, neighbor_index]\n",
    "\n",
    "        return quantized"
   ]
  },
  {
   "cell_type": "code",
   "execution_count": 9,
   "id": "2ff8d9da-543f-430d-84bb-db40eabaf24d",
   "metadata": {
    "tags": []
   },
   "outputs": [],
   "source": [
    "class Decoder(nn.Module):\n",
    "    def __init__(self, in_channels, hidden_channels,out_channels,num_residual_layers=3):\n",
    "        super(Decoder, self).__init__()\n",
    "        \n",
    "        \n",
    "        #self._jitter = Jitter(0.125)\n",
    "        \n",
    "        self._conv_1 = nn.Conv1d(in_channels=in_channels,\n",
    "                                 out_channels=hidden_channels,\n",
    "                                 kernel_size=3, \n",
    "                                 padding=1)\n",
    "        \n",
    "        self._upsample = nn.Upsample(scale_factor=2)\n",
    "        \n",
    "        self._residual_stack = ResidualStack(\n",
    "            in_channels=hidden_channels,\n",
    "            hidden_channels=hidden_channels,\n",
    "            num_residual_layers=num_residual_layers,\n",
    "            num_residual_hiddens=hidden_channels//2\n",
    "        )\n",
    "        \n",
    "        self._conv_trans_1 = nn.ConvTranspose1d(in_channels=hidden_channels, \n",
    "                                                out_channels=hidden_channels,\n",
    "                                                kernel_size=3,  padding=1)\n",
    "        \n",
    "        self._conv_trans_2 = nn.ConvTranspose1d(\n",
    "                                                in_channels=hidden_channels, \n",
    "                                                out_channels=hidden_channels,\n",
    "                                                kernel_size=4,padding=2)\n",
    "        \n",
    "        self._conv_trans_3 = nn.ConvTranspose1d(in_channels=hidden_channels, \n",
    "                                                out_channels=out_channels,\n",
    "                                                kernel_size=4,  padding=1)\n",
    "\n",
    "    def forward(self, x,is_training=True):\n",
    "        #if is_training:\n",
    "        #     x = self._jitter(x)\n",
    "        x = self._conv_1(x)\n",
    "        x = self._upsample(x)\n",
    "        x = self._residual_stack(x)\n",
    "        x = F.relu(self._conv_trans_1(x))\n",
    "        x = F.relu(self._conv_trans_2(x))\n",
    "        x = self._conv_trans_3(x)\n",
    "        return x"
   ]
  },
  {
   "cell_type": "code",
   "execution_count": 10,
   "id": "013c2888-3ea0-43d5-952c-988e7a039397",
   "metadata": {
    "tags": []
   },
   "outputs": [
    {
     "data": {
      "text/plain": [
       "torch.Size([10, 1, 14])"
      ]
     },
     "execution_count": 10,
     "metadata": {},
     "output_type": "execute_result"
    }
   ],
   "source": [
    "import numpy as np\n",
    "D = Decoder(14,6,1)\n",
    "D(x_t).shape\n",
    "##BxCxL\n"
   ]
  },
  {
   "cell_type": "code",
   "execution_count": 11,
   "id": "6e2e7e31-a555-4c08-8692-fc5d6e18f059",
   "metadata": {
    "tags": []
   },
   "outputs": [],
   "source": [
    "class Model(nn.Module):\n",
    "    def __init__(self,in_channels, hidden_channels, out_channels,num_embeddings, embedding_dim, commitment_cost, decay=0):\n",
    "        super(Model, self).__init__()\n",
    "        \n",
    "        self._encoder = Encoder(in_channels, hidden_channels)\n",
    "        self._pre_vq_conv = nn.Conv1d(in_channels=hidden_channels, \n",
    "                                      out_channels=embedding_dim,\n",
    "                                      kernel_size=1, \n",
    "                                      stride=1)\n",
    "        if decay > 0.0:\n",
    "            self._vq_vae = VectorQuantizerEMA(num_embeddings, embedding_dim, \n",
    "                                              commitment_cost, decay)\n",
    "        else:\n",
    "            self._vq_vae = VectorQuantizer(num_embeddings, embedding_dim,\n",
    "                                           commitment_cost)\n",
    "        self._decoder = Decoder(in_channels=embedding_dim,hidden_channels=hidden_channels,out_channels=out_channels)\n",
    "\n",
    "\n",
    "    def forward(self, x,is_training=True):\n",
    "        z = self._encoder(x)\n",
    "\n",
    "        z = self._pre_vq_conv(z)\n",
    "        loss, quantized, perplexity, encodings = self._vq_vae(z)\n",
    "        x_recon = self._decoder(quantized,is_training)\n",
    "\n",
    "        return loss, x_recon, perplexity,quantized,encodings"
   ]
  },
  {
   "cell_type": "code",
   "execution_count": null,
   "id": "a44fb252-4896-4a1c-a24c-75b33484ffae",
   "metadata": {
    "tags": []
   },
   "outputs": [],
   "source": []
  },
  {
   "cell_type": "code",
   "execution_count": 12,
   "id": "ca6c76f0-acc5-43bf-aafb-e55bf1ac524b",
   "metadata": {
    "tags": []
   },
   "outputs": [],
   "source": [
    "from torch.utils.data import DataLoader\n",
    "\n",
    "training_loader = DataLoader(tmp, \n",
    "                             batch_size=128, \n",
    "                             shuffle=True,\n",
    "                             pin_memory=True)"
   ]
  },
  {
   "cell_type": "code",
   "execution_count": 14,
   "id": "52354faf-e82b-470a-8290-2cbbc9d86b54",
   "metadata": {
    "tags": []
   },
   "outputs": [
    {
     "name": "stderr",
     "output_type": "stream",
     "text": [
      "/tmp/ipykernel_24317/1667347900.py:21: UserWarning: Using a target size (torch.Size([128, 15, 1])) that is different to the input size (torch.Size([128, 1, 14])). This will likely lead to incorrect results due to broadcasting. Please ensure they have the same size.\n",
      "  recon_error = F.mse_loss(data_recon, data)\n"
     ]
    },
    {
     "name": "stdout",
     "output_type": "stream",
     "text": [
      "1000 iterations\n",
      "recon_error: 0.108\n",
      "perplexity: 4.024\n",
      "\n",
      "2000 iterations\n",
      "recon_error: 0.100\n",
      "perplexity: 3.756\n",
      "\n",
      "3000 iterations\n",
      "recon_error: 0.108\n",
      "perplexity: 3.937\n",
      "\n",
      "4000 iterations\n",
      "recon_error: 0.102\n",
      "perplexity: 3.941\n",
      "\n",
      "5000 iterations\n",
      "recon_error: 0.088\n",
      "perplexity: 5.643\n",
      "\n",
      "6000 iterations\n",
      "recon_error: 0.089\n",
      "perplexity: 5.428\n",
      "\n",
      "7000 iterations\n",
      "recon_error: 0.087\n",
      "perplexity: 6.357\n",
      "\n",
      "8000 iterations\n",
      "recon_error: 0.080\n",
      "perplexity: 7.875\n",
      "\n",
      "9000 iterations\n",
      "recon_error: 0.084\n",
      "perplexity: 7.934\n",
      "\n",
      "10000 iterations\n",
      "recon_error: 0.079\n",
      "perplexity: 9.938\n",
      "\n",
      "11000 iterations\n",
      "recon_error: 0.080\n",
      "perplexity: 9.523\n",
      "\n",
      "12000 iterations\n",
      "recon_error: 0.081\n",
      "perplexity: 10.049\n",
      "\n",
      "13000 iterations\n",
      "recon_error: 0.076\n",
      "perplexity: 10.241\n",
      "\n",
      "14000 iterations\n",
      "recon_error: 0.078\n",
      "perplexity: 10.699\n",
      "\n",
      "15000 iterations\n",
      "recon_error: 0.077\n",
      "perplexity: 11.803\n",
      "\n",
      "16000 iterations\n",
      "recon_error: 0.078\n",
      "perplexity: 11.576\n",
      "\n",
      "17000 iterations\n",
      "recon_error: 0.077\n",
      "perplexity: 12.198\n",
      "\n",
      "18000 iterations\n",
      "recon_error: 0.080\n",
      "perplexity: 13.333\n",
      "\n",
      "19000 iterations\n",
      "recon_error: 0.077\n",
      "perplexity: 13.995\n",
      "\n",
      "20000 iterations\n",
      "recon_error: 0.075\n",
      "perplexity: 14.703\n",
      "\n",
      "21000 iterations\n",
      "recon_error: 0.075\n",
      "perplexity: 15.045\n",
      "\n",
      "22000 iterations\n",
      "recon_error: 0.077\n",
      "perplexity: 14.554\n",
      "\n",
      "23000 iterations\n",
      "recon_error: 0.074\n",
      "perplexity: 15.263\n",
      "\n",
      "24000 iterations\n",
      "recon_error: 0.079\n",
      "perplexity: 16.501\n",
      "\n",
      "25000 iterations\n",
      "recon_error: 0.081\n",
      "perplexity: 17.120\n",
      "\n",
      "26000 iterations\n",
      "recon_error: 0.076\n",
      "perplexity: 17.441\n",
      "\n",
      "27000 iterations\n",
      "recon_error: 0.074\n",
      "perplexity: 17.614\n",
      "\n",
      "28000 iterations\n",
      "recon_error: 0.078\n",
      "perplexity: 17.258\n",
      "\n",
      "29000 iterations\n",
      "recon_error: 0.076\n",
      "perplexity: 17.397\n",
      "\n",
      "30000 iterations\n",
      "recon_error: 0.076\n",
      "perplexity: 17.245\n",
      "\n",
      "31000 iterations\n",
      "recon_error: 0.078\n",
      "perplexity: 17.629\n",
      "\n",
      "32000 iterations\n",
      "recon_error: 0.074\n",
      "perplexity: 18.758\n",
      "\n",
      "33000 iterations\n",
      "recon_error: 0.078\n",
      "perplexity: 20.266\n",
      "\n",
      "34000 iterations\n",
      "recon_error: 0.078\n",
      "perplexity: 20.962\n",
      "\n",
      "35000 iterations\n",
      "recon_error: 0.075\n",
      "perplexity: 20.951\n",
      "\n",
      "36000 iterations\n",
      "recon_error: 0.075\n",
      "perplexity: 21.006\n",
      "\n",
      "37000 iterations\n",
      "recon_error: 0.076\n",
      "perplexity: 21.472\n",
      "\n",
      "38000 iterations\n",
      "recon_error: 0.078\n",
      "perplexity: 21.308\n",
      "\n",
      "39000 iterations\n",
      "recon_error: 0.074\n",
      "perplexity: 22.322\n",
      "\n",
      "40000 iterations\n",
      "recon_error: 0.082\n",
      "perplexity: 22.022\n",
      "\n",
      "41000 iterations\n",
      "recon_error: 0.074\n",
      "perplexity: 22.343\n",
      "\n",
      "42000 iterations\n",
      "recon_error: 0.079\n",
      "perplexity: 21.468\n",
      "\n",
      "43000 iterations\n",
      "recon_error: 0.077\n",
      "perplexity: 21.839\n",
      "\n",
      "44000 iterations\n",
      "recon_error: 0.074\n",
      "perplexity: 22.228\n",
      "\n",
      "45000 iterations\n",
      "recon_error: 0.078\n",
      "perplexity: 22.815\n",
      "\n",
      "46000 iterations\n",
      "recon_error: 0.075\n",
      "perplexity: 22.226\n",
      "\n",
      "47000 iterations\n",
      "recon_error: 0.072\n",
      "perplexity: 22.235\n",
      "\n",
      "48000 iterations\n",
      "recon_error: 0.077\n",
      "perplexity: 21.724\n",
      "\n",
      "49000 iterations\n",
      "recon_error: 0.076\n",
      "perplexity: 21.504\n",
      "\n",
      "50000 iterations\n",
      "recon_error: 0.077\n",
      "perplexity: 21.357\n",
      "\n",
      "51000 iterations\n",
      "recon_error: 0.074\n",
      "perplexity: 21.463\n",
      "\n",
      "52000 iterations\n",
      "recon_error: 0.077\n",
      "perplexity: 21.368\n",
      "\n",
      "53000 iterations\n",
      "recon_error: 0.075\n",
      "perplexity: 21.046\n",
      "\n",
      "54000 iterations\n",
      "recon_error: 0.075\n",
      "perplexity: 21.057\n",
      "\n",
      "55000 iterations\n",
      "recon_error: 0.079\n",
      "perplexity: 20.993\n",
      "\n",
      "56000 iterations\n",
      "recon_error: 0.075\n",
      "perplexity: 22.427\n",
      "\n",
      "57000 iterations\n",
      "recon_error: 0.075\n",
      "perplexity: 22.021\n",
      "\n",
      "58000 iterations\n",
      "recon_error: 0.075\n",
      "perplexity: 22.359\n",
      "\n",
      "59000 iterations\n",
      "recon_error: 0.075\n",
      "perplexity: 21.870\n",
      "\n",
      "60000 iterations\n",
      "recon_error: 0.078\n",
      "perplexity: 22.070\n",
      "\n",
      "61000 iterations\n",
      "recon_error: 0.074\n",
      "perplexity: 21.482\n",
      "\n",
      "62000 iterations\n",
      "recon_error: 0.074\n",
      "perplexity: 22.869\n",
      "\n",
      "63000 iterations\n",
      "recon_error: 0.078\n",
      "perplexity: 23.905\n",
      "\n",
      "64000 iterations\n",
      "recon_error: 0.076\n",
      "perplexity: 24.710\n",
      "\n",
      "65000 iterations\n",
      "recon_error: 0.075\n",
      "perplexity: 23.800\n",
      "\n",
      "66000 iterations\n",
      "recon_error: 0.078\n",
      "perplexity: 23.843\n",
      "\n",
      "67000 iterations\n",
      "recon_error: 0.074\n",
      "perplexity: 23.441\n",
      "\n",
      "68000 iterations\n",
      "recon_error: 0.073\n",
      "perplexity: 23.335\n",
      "\n",
      "69000 iterations\n",
      "recon_error: 0.073\n",
      "perplexity: 23.417\n",
      "\n",
      "70000 iterations\n",
      "recon_error: 0.076\n",
      "perplexity: 23.281\n",
      "\n",
      "71000 iterations\n",
      "recon_error: 0.075\n",
      "perplexity: 23.322\n",
      "\n",
      "72000 iterations\n",
      "recon_error: 0.079\n",
      "perplexity: 23.351\n",
      "\n",
      "73000 iterations\n",
      "recon_error: 0.078\n",
      "perplexity: 24.851\n",
      "\n",
      "74000 iterations\n",
      "recon_error: 0.076\n",
      "perplexity: 24.928\n",
      "\n",
      "75000 iterations\n",
      "recon_error: 0.074\n",
      "perplexity: 25.037\n",
      "\n",
      "76000 iterations\n",
      "recon_error: 0.075\n",
      "perplexity: 26.104\n",
      "\n",
      "77000 iterations\n",
      "recon_error: 0.074\n",
      "perplexity: 25.849\n",
      "\n",
      "78000 iterations\n",
      "recon_error: 0.076\n",
      "perplexity: 25.451\n",
      "\n",
      "79000 iterations\n",
      "recon_error: 0.078\n",
      "perplexity: 25.614\n",
      "\n",
      "80000 iterations\n",
      "recon_error: 0.074\n",
      "perplexity: 25.575\n",
      "\n",
      "81000 iterations\n",
      "recon_error: 0.073\n",
      "perplexity: 26.398\n",
      "\n",
      "82000 iterations\n",
      "recon_error: 0.075\n",
      "perplexity: 26.081\n",
      "\n",
      "83000 iterations\n",
      "recon_error: 0.074\n",
      "perplexity: 25.388\n",
      "\n",
      "84000 iterations\n",
      "recon_error: 0.077\n",
      "perplexity: 25.319\n",
      "\n",
      "85000 iterations\n",
      "recon_error: 0.075\n",
      "perplexity: 25.518\n",
      "\n",
      "86000 iterations\n",
      "recon_error: 0.076\n",
      "perplexity: 25.180\n",
      "\n",
      "87000 iterations\n",
      "recon_error: 0.073\n",
      "perplexity: 25.166\n",
      "\n",
      "88000 iterations\n",
      "recon_error: 0.073\n",
      "perplexity: 25.434\n",
      "\n",
      "89000 iterations\n",
      "recon_error: 0.075\n",
      "perplexity: 25.082\n",
      "\n",
      "90000 iterations\n",
      "recon_error: 0.077\n",
      "perplexity: 24.949\n",
      "\n",
      "91000 iterations\n",
      "recon_error: 0.076\n",
      "perplexity: 25.496\n",
      "\n",
      "92000 iterations\n",
      "recon_error: 0.074\n",
      "perplexity: 25.214\n",
      "\n",
      "93000 iterations\n",
      "recon_error: 0.076\n",
      "perplexity: 25.775\n",
      "\n",
      "94000 iterations\n",
      "recon_error: 0.074\n",
      "perplexity: 25.655\n",
      "\n",
      "95000 iterations\n",
      "recon_error: 0.073\n",
      "perplexity: 25.551\n",
      "\n",
      "96000 iterations\n",
      "recon_error: 0.076\n",
      "perplexity: 25.892\n",
      "\n",
      "97000 iterations\n",
      "recon_error: 0.074\n",
      "perplexity: 25.708\n",
      "\n",
      "98000 iterations\n",
      "recon_error: 0.075\n",
      "perplexity: 25.595\n",
      "\n",
      "99000 iterations\n",
      "recon_error: 0.077\n",
      "perplexity: 25.274\n",
      "\n",
      "100000 iterations\n",
      "recon_error: 0.075\n",
      "perplexity: 25.036\n",
      "\n"
     ]
    }
   ],
   "source": [
    "model = Model(in_channels=1,\n",
    "              hidden_channels=64, \n",
    "              out_channels=1,\n",
    "              num_embeddings=128,\n",
    "              embedding_dim=128, commitment_cost=0.1, decay=0.0)\n",
    "\n",
    "\n",
    "optimizer = torch.optim.Adam(model.parameters(), lr=0.005, amsgrad=False)\n",
    "model.train()\n",
    "num_training_updates=100000\n",
    "train_res_recon_error = []\n",
    "train_res_perplexity = []\n",
    "device = 'cpu'\n",
    "\n",
    "for i in range(num_training_updates):\n",
    "    data = next(iter(training_loader))\n",
    "    data = data.to(device)\n",
    "    optimizer.zero_grad()\n",
    "\n",
    "    vq_loss, data_recon, perplexity,quantized,encodings = model(data.permute(0,2,1))\n",
    "    recon_error = F.mse_loss(data_recon, data) \n",
    "    loss = recon_error + vq_loss\n",
    "    loss.backward()\n",
    "\n",
    "    optimizer.step()\n",
    "    \n",
    "    train_res_recon_error.append(recon_error.item())\n",
    "    train_res_perplexity.append(perplexity.item())\n",
    "\n",
    "    if (i+1) % 1000 == 0:\n",
    "        print('%d iterations' % (i+1))\n",
    "        print('recon_error: %.3f' % np.mean(train_res_recon_error[-100:]))\n",
    "        print('perplexity: %.3f' % np.mean(train_res_perplexity[-100:]))\n",
    "        print()"
   ]
  },
  {
   "cell_type": "code",
   "execution_count": 59,
   "id": "fa667dad-5f84-41f1-886a-41070bc23e9c",
   "metadata": {
    "tags": []
   },
   "outputs": [
    {
     "data": {
      "text/plain": [
       "tensor(0.0974, grad_fn=<AddBackward0>)"
      ]
     },
     "execution_count": 59,
     "metadata": {},
     "output_type": "execute_result"
    }
   ],
   "source": [
    "loss\n"
   ]
  },
  {
   "cell_type": "code",
   "execution_count": 60,
   "id": "b354ebf7-2952-40fc-9021-6f20088f44ba",
   "metadata": {
    "tags": []
   },
   "outputs": [
    {
     "data": {
      "text/plain": [
       "[<matplotlib.lines.Line2D at 0x7f412412b6a0>]"
      ]
     },
     "execution_count": 60,
     "metadata": {},
     "output_type": "execute_result"
    },
    {
     "data": {
      "image/png": "[encoded data removed]",
      "text/plain": [
       "<Figure size 640x480 with 1 Axes>"
      ]
     },
     "metadata": {},
     "output_type": "display_data"
    }
   ],
   "source": [
    "plt.plot(train_res_perplexity)"
   ]
  },
  {
   "cell_type": "code",
   "execution_count": 61,
   "id": "b6c2700c-28c7-402d-ac8d-5a5ed38f177f",
   "metadata": {
    "tags": []
   },
   "outputs": [
    {
     "data": {
      "text/plain": [
       "tensor([[ 37,  30,  30,  16, 114, 120,  95],\n",
       "        [ 72,  44,  53,  94,  35,  68,  21],\n",
       "        [  0,  82,  28, 120,   4,  41, 118],\n",
       "        [120,  94,  35,  26,  58, 106,  53],\n",
       "        [ 72,  53, 120,  94,  77,  95,  82],\n",
       "        [ 68,   4,  98,  92,  69,  53,  68],\n",
       "        [120,  94,  35,  26,  58,  98,  53],\n",
       "        [106,  92,  92,  58,  65,  30, 120],\n",
       "        [120,  94,  35,  26,  14,  98,  53],\n",
       "        [120,  94,  94, 114,  58,   4,  44],\n",
       "        [  4,  35,  35,  26,  14,  98,  53],\n",
       "        [  4,  35,  35,  26,  14,  98,  53],\n",
       "        [103,  64,  24,   0,   0,  64, 103],\n",
       "        [ 95,   4, 106,  77,  69,  44,  28],\n",
       "        [ 59, 119,  59,  78,  59,  59,  59],\n",
       "        [112,   0,  82,  53,  53,  74,  97],\n",
       "        [ 28,  37, 120,  35,  92,  12,  72],\n",
       "        [112, 118,   0,  68,  68,  97,  24],\n",
       "        [ 68,  37, 120,  35,  92,  12,  72],\n",
       "        [ 72,  53, 120,  94,  77,  95,  21],\n",
       "        [ 21,  95,  44,  30,  20,  72,   0],\n",
       "        [ 37,  20,  94, 114,  26,   4,  44],\n",
       "        [ 82,  44,  53,  30,  94,  68,  21],\n",
       "        [ 42, 103,  64,  97, 112,  23,  42],\n",
       "        [ 74,  28,  68, 120, 106,  21,   0],\n",
       "        [ 97,  74,  41,  68,  68, 118,  24],\n",
       "        [ 12, 106,  98,  69,  16,  37,  68],\n",
       "        [ 95,   4,   4,  77,  92,  44,  72],\n",
       "        [ 97,  74,   0,  12,  95, 118, 112],\n",
       "        [ 72,  53,  37,  94,  35,  68,  21],\n",
       "        [ 24,   0,  82,  95,  12,  74, 118],\n",
       "        [ 84,  97,  74,  21,  72, 112,  24],\n",
       "        [  4,  35,  77,  58,  14,  98,  37],\n",
       "        [ 42, 103,  64,  97, 112,  23,  42],\n",
       "        [ 74,  82,  68,  98,  98,  21,  74],\n",
       "        [ 53,  30,  30,  16,  26, 120,  95],\n",
       "        [  0,  44, 106,  77,  77,  12,  68],\n",
       "        [ 53,  20,  94, 114,  26, 106,  44],\n",
       "        [ 28,  37, 120,  35,  92,  95,  82],\n",
       "        [ 42,  42, 103,  84,  84, 103,  45],\n",
       "        [ 68, 120,   4,  35,  92,  12,  72],\n",
       "        [ 72,  44,  37,  20,  35,  68,  21],\n",
       "        [ 37,  20,  94, 114,  58, 106,  12],\n",
       "        [112, 118,   0,  95,  95, 118,  24],\n",
       "        [ 28,  37,   4,  35,  92,  12,  72],\n",
       "        [103,  84,  74,  72,  21,  24,  24],\n",
       "        [ 44,  98, 106,  77,  92,  53,  28],\n",
       "        [ 98,  92,  92,  14,  65,  20, 120],\n",
       "        [ 28,  37, 120,  35,  92,  95,  82],\n",
       "        [ 72,  44,  53,  20,  94,  68,  21],\n",
       "        [ 68,  37,   4,  35,  92,  12,  72],\n",
       "        [ 82,  44,  53,  20,  94,  68,  21],\n",
       "        [ 37,  20,  20, 114,  26,   4,  12],\n",
       "        [106,  77,  77,  58,  65,  30,  37],\n",
       "        [118,  41,  82,  44,  53,  74,  97],\n",
       "        [ 44,  98,  30,  69, 114, 120,  95],\n",
       "        [106,  77,  92,  58,  65,  30,  37],\n",
       "        [ 44, 106,  98,  69,  16,  53,  68],\n",
       "        [ 28,  37, 120,  35,  92,  12,  72],\n",
       "        [  4,  35,  77,  58,  14,  98,  37],\n",
       "        [ 97,  82,  12,   4,   4,  21,  41],\n",
       "        [ 44,  98,  30,  69, 114,  37,  68],\n",
       "        [ 84, 112, 118,  82,  82,  24,  64],\n",
       "        [ 95, 106,  98,  92,  16,  53,  68],\n",
       "        [ 28,  37, 120,  35,  77,  95,  82],\n",
       "        [ 44,  98,  30,  69, 114,  37,  95],\n",
       "        [ 45,  45,  64, 112, 112, 103,  45],\n",
       "        [ 45,  42,  64,  24,  24, 103,  45],\n",
       "        [ 95,   4, 106,  92,  69,  44,  28],\n",
       "        [ 41,  68,  12,  98,  30,  72,   0],\n",
       "        [ 64,  24,  97,  41,   0,  24,  23],\n",
       "        [ 28,  37, 120,  35,  92,  12,  72],\n",
       "        [ 28,  37, 120,  94,  77,  95,  82],\n",
       "        [ 68,  37, 120,  35,  92,  12,  72],\n",
       "        [ 24,  97,  74,  82,  82, 112,  84],\n",
       "        [102,  45, 103,  64, 103,  45,  42],\n",
       "        [ 68, 120, 120,  35,  77,  12,  82],\n",
       "        [ 82,  12,  37,  94,  77,  95,  21],\n",
       "        [120,  94,  35,  26,  58,  98,  53],\n",
       "        [112,  74,   0,  28,  68, 118,  24],\n",
       "        [ 21,  95,  12,  98,  30,  72,   0],\n",
       "        [120,  35,  77,  26,  14,  30, 120],\n",
       "        [ 12, 106,  98,  69,  16,  53,  68],\n",
       "        [ 72,  44,  37,  20,  35,  68,  21],\n",
       "        [ 79, 102,  45, 103, 103,  45,  79],\n",
       "        [ 64,  84, 112,   0,   0,  84,  23],\n",
       "        [ 37,  20,  20, 114,  26,   4,  12],\n",
       "        [  4,  35,  35,  26,  14,  98,  53],\n",
       "        [ 28,  53, 120,  94,  77,  95,  82],\n",
       "        [ 95,   4, 106,  77,  69,  44,  28],\n",
       "        [  4,  94,  94,  26,  26,   4,  44],\n",
       "        [ 97,   0,  21,  12,  12,   0, 112],\n",
       "        [ 28,  53,  53,  20,  94,  68,  21],\n",
       "        [ 44,  98,  98,  69, 114,  37,  68],\n",
       "        [ 72,  53, 120,  94,  77,  95,  82],\n",
       "        [ 44,  98,  30,  69, 114,  37,  95],\n",
       "        [103,  64,  24,  74, 118,  64,  23],\n",
       "        [ 28,  44,  53,  20,  20,  28,   0],\n",
       "        [ 28,  37, 120,  35,  92,  12,  72],\n",
       "        [ 72,  53,  37,  94,  35,  68,  21],\n",
       "        [ 44,  30,  94, 114,  26,   4,  53],\n",
       "        [ 41,  12,  37,  94,  35,  68,  82],\n",
       "        [ 23,  84, 112,  74,  74,  84,  23],\n",
       "        [ 72,  44,  44,  30,  20,  28,   0],\n",
       "        [ 12, 106,  98,  69,  16,  53,  95],\n",
       "        [  4,  35,  77,  58,  14,  98,  37],\n",
       "        [ 72,  44,  53,  20,  35,  68,  21],\n",
       "        [118,  82,  28,  37, 120,  41,  74],\n",
       "        [118,   0,  41,  68,  95,  74, 112],\n",
       "        [ 28,  37, 120,  35,  92,  12,  82],\n",
       "        [ 45,  42,  64,  97,  97,  23, 103],\n",
       "        [ 53,  98,  30,  16, 114, 120,  68],\n",
       "        [ 82,  44,  53,  20,  35,  68,  21],\n",
       "        [106,  77,  77,  58,  14,  30,  37],\n",
       "        [ 68, 120,   4,  77,  92,  12,  72],\n",
       "        [ 59,  59,  79,  45, 103, 102, 102],\n",
       "        [ 24,  97,  74,  28,  28,  24,  64],\n",
       "        [ 79, 102,  42,  23, 103,  45, 102],\n",
       "        [ 98,  92,  92,  14,  65,  20, 120],\n",
       "        [ 44,  98,  30,  69, 114,  37,  68],\n",
       "        [  0,  72,  95, 106, 106,  21,  74],\n",
       "        [ 28,  53, 120,  94,  77,  95,  82],\n",
       "        [ 28,  37, 120,  35,  92,  12,  72],\n",
       "        [ 68, 120,   4,  35,  92,  12,  72],\n",
       "        [118,  41,  82,  53,  53,   0,  97],\n",
       "        [ 74,  82,  28,  37, 120,  41, 118],\n",
       "        [ 68,   4, 106,  77,  69,  53,  68],\n",
       "        [ 64,  97,  21,  95,  68,  97,  97]])"
      ]
     },
     "execution_count": 61,
     "metadata": {},
     "output_type": "execute_result"
    }
   ],
   "source": [
    "torch.argmax(encodings,2)"
   ]
  },
  {
   "cell_type": "code",
   "execution_count": 484,
   "id": "b70f593a-a95c-4697-8d2e-15790b9e27cb",
   "metadata": {
    "tags": []
   },
   "outputs": [
    {
     "data": {
      "text/plain": [
       "torch.Size([30, 32, 8])"
      ]
     },
     "execution_count": 484,
     "metadata": {},
     "output_type": "execute_result"
    }
   ],
   "source": [
    "quantized.shape"
   ]
  },
  {
   "cell_type": "code",
   "execution_count": 477,
   "id": "b76aacc3-d2b8-4faa-ad0a-a36bd33f4791",
   "metadata": {
    "tags": []
   },
   "outputs": [],
   "source": [
    "vq_loss, data_recon, perplexity,quantized,encodings_x = model(data[0:30].permute(0,2,1),False)\n",
    "vq_loss, data_recon, perplexity,quantized,encodings_y = model(data[0:30].permute(0,2,1),False)"
   ]
  },
  {
   "cell_type": "code",
   "execution_count": 479,
   "id": "d16819ed-9ca2-4e99-8693-34ce5e2e2369",
   "metadata": {
    "tags": []
   },
   "outputs": [
    {
     "data": {
      "text/plain": [
       "torch.Size([64, 8])"
      ]
     },
     "execution_count": 479,
     "metadata": {},
     "output_type": "execute_result"
    }
   ],
   "source": [
    "encodings.argmax(dim=2).shape"
   ]
  },
  {
   "cell_type": "code",
   "execution_count": 448,
   "id": "2c723578-7146-440d-81ad-0328eef2cce8",
   "metadata": {
    "tags": []
   },
   "outputs": [
    {
     "name": "stdout",
     "output_type": "stream",
     "text": [
      "number of parameters: 2.70M\n"
     ]
    }
   ],
   "source": [
    "from minigpt import GPT\n",
    "model_config = GPT.get_default_config()\n",
    "model_config.model_type = 'gpt-mini'\n",
    "model_config.vocab_size = 128\n",
    "model_config.block_size = 8+8 -1\n",
    "trans = GPT(model_config)"
   ]
  },
  {
   "cell_type": "code",
   "execution_count": 476,
   "id": "2fa15ead-8e65-4e4e-9b9d-c167691c95b8",
   "metadata": {
    "tags": []
   },
   "outputs": [
    {
     "data": {
      "text/plain": [
       "(tensor([[[ 0.2571,  0.0743, -0.1801,  ..., -0.2465, -0.0404,  0.1106],\n",
       "          [ 0.1221,  0.2051,  0.0380,  ..., -0.4007, -0.0010,  0.0805],\n",
       "          [ 0.1666,  0.1352, -0.3188,  ..., -0.1891,  0.3921, -0.2439],\n",
       "          ...,\n",
       "          [ 0.1980,  0.2870, -0.3885,  ..., -0.3751,  0.1064,  0.0598],\n",
       "          [ 0.0058,  0.0642, -0.0312,  ...,  0.2215,  0.4970, -0.3951],\n",
       "          [ 0.2371,  0.1826,  0.0691,  ...,  0.2225,  0.1072, -0.0570]]],\n",
       "        grad_fn=<UnsafeViewBackward0>),\n",
       " None)"
      ]
     },
     "execution_count": 476,
     "metadata": {},
     "output_type": "execute_result"
    }
   ],
   "source": [
    "trans(encodings.argmax(dim=2)[0:1])"
   ]
  },
  {
   "cell_type": "code",
   "execution_count": 482,
   "id": "3fdd9603-c04a-4f8c-bde0-2bf20942bb6e",
   "metadata": {
    "tags": []
   },
   "outputs": [
    {
     "data": {
      "text/plain": [
       "torch.Size([64, 15])"
      ]
     },
     "execution_count": 482,
     "metadata": {},
     "output_type": "execute_result"
    }
   ],
   "source": [
    "torch.cat([encodings.argmax(dim=2),encodings.argmax(dim=2)[:,0:-1]],1).shape\n"
   ]
  },
  {
   "cell_type": "code",
   "execution_count": 480,
   "id": "5faa85aa-72c0-4828-bb8d-bc156f893d48",
   "metadata": {
    "tags": []
   },
   "outputs": [
    {
     "data": {
      "text/plain": [
       "[<matplotlib.lines.Line2D at 0x7fd666a9b430>]"
      ]
     },
     "execution_count": 480,
     "metadata": {},
     "output_type": "execute_result"
    },
    {
     "data": {
      "image/png": "[encoded data removed]",
      "text/plain": [
       "<Figure size 640x480 with 1 Axes>"
      ]
     },
     "metadata": {},
     "output_type": "display_data"
    }
   ],
   "source": [
    "plt.plot(tmp[10].flatten())\n",
    "plt.plot(data_recon[10].detach().cpu().flatten())"
   ]
  },
  {
   "cell_type": "code",
   "execution_count": 369,
   "id": "4653ca4a-85c8-4c81-95a9-24f2cca25216",
   "metadata": {},
   "outputs": [
    {
     "data": {
      "text/plain": [
       "tensor([[223, 223, 223, 223, 223, 223, 223, 223],\n",
       "        [223, 200, 200, 200, 200, 200, 200, 200],\n",
       "        [223, 223, 223, 223, 223, 200, 223, 223],\n",
       "        [223, 223, 223,  74,  74,  74,  74,  74],\n",
       "        [223, 223, 223, 223, 223,  74,  74,  74],\n",
       "        [223, 223, 223, 223, 223, 223, 223,  74],\n",
       "        [223,  74,  74,  74,  74,  74,  74,  74],\n",
       "        [ 74,  74,  74,  74,  74,  74,  74,  74],\n",
       "        [223, 200, 200, 200, 200, 200, 200, 200],\n",
       "        [200, 200, 200, 200, 200, 200, 200, 200],\n",
       "        [223, 223, 223, 200, 200, 200, 200, 200],\n",
       "        [ 74,  74,  74,  74,  74,  74,  74,  74],\n",
       "        [223, 223, 223, 223, 223, 223, 223,  74],\n",
       "        [223, 223, 223, 223, 223, 223, 223, 223],\n",
       "        [223, 223, 223, 223, 223, 223, 223, 223],\n",
       "        [223, 223, 223,  74, 223, 223, 223,  74],\n",
       "        [223, 223, 223, 223, 223, 223, 223, 223],\n",
       "        [223, 223, 223, 223, 223, 223, 223, 223],\n",
       "        [200, 200, 200, 200, 200, 200, 200, 200],\n",
       "        [223, 223, 223, 223, 223, 223, 223, 223],\n",
       "        [ 74,  74,  74,  74,  74,  74,  74,  74],\n",
       "        [223, 223, 223, 223, 223, 223, 223, 223],\n",
       "        [ 74,  74,  74,  74,  74,  74,  74,  74],\n",
       "        [200, 200, 200, 200, 200, 200, 200, 200],\n",
       "        [223, 200, 200, 200, 200, 200, 200, 200],\n",
       "        [223, 223, 223, 223, 223, 223, 223,  74],\n",
       "        [223, 223, 223, 223, 223, 200, 200, 223],\n",
       "        [223,  74,  74,  74,  74,  74,  74,  74],\n",
       "        [223, 223, 223, 223, 223, 223, 223, 223],\n",
       "        [223, 223, 223, 200, 200, 200, 223, 223]])"
      ]
     },
     "execution_count": 369,
     "metadata": {},
     "output_type": "execute_result"
    }
   ],
   "source": [
    "encodings.argmax(2)"
   ]
  },
  {
   "cell_type": "code",
   "execution_count": 133,
   "id": "5787d995-ec60-49a7-a5c3-8935f3a8db15",
   "metadata": {
    "tags": []
   },
   "outputs": [
    {
     "data": {
      "text/plain": [
       "tensor([[0, 0, 0, 0]])"
      ]
     },
     "execution_count": 151,
     "metadata": {},
     "output_type": "execute_result"
    }
   ],
   "source": [
    "encodings"
   ]
  },
  {
   "cell_type": "code",
   "execution_count": null,
   "id": "dafd4b53-c77d-463b-ac40-e7e9786a30f7",
   "metadata": {},
   "outputs": [],
   "source": []
  },
  {
   "cell_type": "code",
   "execution_count": 76,
   "id": "e1a1f367-e1ff-4c81-9d72-cf071b825c43",
   "metadata": {
    "tags": []
   },
   "outputs": [],
   "source": [
    "import numpy as np\n",
    "import matplotlib.pyplot as plt\n"
   ]
  },
  {
   "cell_type": "code",
   "execution_count": 77,
   "id": "59ab90da-fcae-4f03-8c24-fb553504f5a2",
   "metadata": {
    "tags": []
   },
   "outputs": [
    {
     "ename": "NameError",
     "evalue": "name 'y_train' is not defined",
     "output_type": "error",
     "traceback": [
      "\u001b[0;31m---------------------------------------------------------------------------\u001b[0m",
      "\u001b[0;31mNameError\u001b[0m                                 Traceback (most recent call last)",
      "Cell \u001b[0;32mIn[77], line 3\u001b[0m\n\u001b[1;32m      1\u001b[0m \u001b[38;5;28;01mfrom\u001b[39;00m \u001b[38;5;21;01mscipy\u001b[39;00m\u001b[38;5;21;01m.\u001b[39;00m\u001b[38;5;21;01mstats\u001b[39;00m \u001b[38;5;28;01mimport\u001b[39;00m bootstrap\n\u001b[1;32m      2\u001b[0m res \u001b[38;5;241m=\u001b[39m []\n\u001b[0;32m----> 3\u001b[0m sample \u001b[38;5;241m=\u001b[39m \u001b[43my_train\u001b[49m[\u001b[38;5;241m10\u001b[39m]\n\u001b[1;32m      4\u001b[0m \u001b[38;5;28;01mfor\u001b[39;00m index \u001b[38;5;129;01min\u001b[39;00m sample:\n\u001b[1;32m      5\u001b[0m     data\u001b[38;5;241m=\u001b[39mtmp[np\u001b[38;5;241m.\u001b[39mwhere(clusters\u001b[38;5;241m==\u001b[39mindex)[\u001b[38;5;241m0\u001b[39m]]\n",
      "\u001b[0;31mNameError\u001b[0m: name 'y_train' is not defined"
     ]
    }
   ],
   "source": [
    "from scipy.stats import bootstrap\n",
    "res = []\n",
    "sample = y_train[10]\n",
    "for index in sample:\n",
    "    data=tmp[np.where(clusters==index)[0]]\n",
    "\n",
    "    for i in range(data.shape[1]):\n",
    "\n",
    "        bootstrap_ci = bootstrap((data[:,i],), np.median,n_resamples=100, confidence_level=0.9,\n",
    "                                 random_state=1, method='percentile')\n",
    "\n",
    "        res.append([bootstrap_ci.confidence_interval.low,np.median(data[:,i]),bootstrap_ci.confidence_interval.high])\n",
    "\n"
   ]
  },
  {
   "cell_type": "code",
   "execution_count": 78,
   "id": "3f115a96-dbc7-4c96-97d8-7b763e87fc26",
   "metadata": {
    "tags": []
   },
   "outputs": [
    {
     "data": {
      "text/plain": [
       "[<matplotlib.lines.Line2D at 0x7fd67eb1c1f0>]"
      ]
     },
     "execution_count": 78,
     "metadata": {},
     "output_type": "execute_result"
    },
    {
     "data": {
      "image/png": "[encoded data removed]",
      "text/plain": [
       "<Figure size 640x480 with 1 Axes>"
      ]
     },
     "metadata": {},
     "output_type": "display_data"
    }
   ],
   "source": [
    "plt.plot(np.array(res))\n",
    "plt.plot(train.data['y'][10])"
   ]
  },
  {
   "cell_type": "code",
   "execution_count": null,
   "id": "304ae983-eb31-4f55-adef-78a16a812466",
   "metadata": {},
   "outputs": [],
   "source": []
  }
 ],
 "metadata": {
  "kernelspec": {
   "display_name": "Python 3 (ipykernel)",
   "language": "python",
   "name": "python3"
  },
  "language_info": {
   "codemirror_mode": {
    "name": "ipython",
    "version": 3
   },
   "file_extension": ".py",
   "mimetype": "text/x-python",
   "name": "python",
   "nbconvert_exporter": "python",
   "pygments_lexer": "ipython3",
   "version": "3.10.9"
  }
 },
 "nbformat": 4,
 "nbformat_minor": 5
}
