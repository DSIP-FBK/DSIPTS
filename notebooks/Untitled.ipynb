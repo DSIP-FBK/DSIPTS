{
 "cells": [
  {
   "cell_type": "code",
   "execution_count": 1,
   "id": "dcf57c31-ecf3-4f4f-b187-434484021e83",
   "metadata": {},
   "outputs": [
    {
     "name": "stderr",
     "output_type": "stream",
     "text": [
      "Importing plotly failed. Interactive plots will not work.\n"
     ]
    }
   ],
   "source": [
    "%load_ext autoreload\n",
    "%autoreload 2\n",
    "%matplotlib inline\n",
    "import numpy as np\n",
    "import pandas as pd\n",
    "from tqdm import tqdm_notebook as tqdm\n",
    "\n",
    "import matplotlib.pyplot as plt\n",
    "\n",
    "from darts import TimeSeries, concatenate\n",
    "from darts.dataprocessing.transformers import Scaler\n",
    "from darts.models import TFTModel\n",
    "from darts.metrics import mape\n",
    "from darts.utils.statistics import check_seasonality, plot_acf\n",
    "from darts.datasets import AirPassengersDataset, IceCreamHeaterDataset\n",
    "from darts.utils.timeseries_generation import datetime_attribute_timeseries\n",
    "from darts.utils.likelihood_models import QuantileRegression\n",
    "\n",
    "import warnings\n",
    "\n",
    "warnings.filterwarnings(\"ignore\")\n",
    "import logging\n",
    "\n",
    "logging.disable(logging.CRITICAL)"
   ]
  },
  {
   "cell_type": "code",
   "execution_count": 2,
   "id": "a3486e62-c18a-4a4c-a668-74ef02df53b3",
   "metadata": {},
   "outputs": [],
   "source": [
    "# Read data\n",
    "series = AirPassengersDataset().load()\n",
    "\n",
    "# we convert monthly number of passengers to average daily number of passengers per month\n",
    "series = series / TimeSeries.from_series(series.time_index.days_in_month)\n",
    "series = series.astype(np.float32)\n",
    "\n",
    "# Create training and validation sets:\n",
    "training_cutoff = pd.Timestamp(\"19571201\")\n",
    "train, val = series.split_after(training_cutoff)\n",
    "\n",
    "# Normalize the time series (note: we avoid fitting the transformer on the validation set)\n",
    "transformer = Scaler()\n",
    "train_transformed = transformer.fit_transform(train)\n",
    "val_transformed = transformer.transform(val)\n",
    "series_transformed = transformer.transform(series)\n",
    "\n",
    "# create year, month and integer index covariate series\n",
    "covariates = datetime_attribute_timeseries(series, attribute=\"year\", one_hot=False)\n",
    "covariates = covariates.stack(\n",
    "    datetime_attribute_timeseries(series, attribute=\"month\", one_hot=False)\n",
    ")\n",
    "covariates = covariates.stack(\n",
    "    TimeSeries.from_times_and_values(\n",
    "        times=series.time_index,\n",
    "        values=np.arange(len(series)),\n",
    "        columns=[\"linear_increase\"],\n",
    "    )\n",
    ")\n",
    "covariates = covariates.astype(np.float32)\n",
    "\n",
    "# transform covariates (note: we fit the transformer on train split and can then transform the entire covariates series)\n",
    "scaler_covs = Scaler()\n",
    "cov_train, cov_val = covariates.split_after(training_cutoff)\n",
    "scaler_covs.fit(cov_train)\n",
    "covariates_transformed = scaler_covs.transform(covariates)"
   ]
  },
  {
   "cell_type": "code",
   "execution_count": 3,
   "id": "8b9fa91e-575d-4298-b204-42e76bc285a9",
   "metadata": {},
   "outputs": [],
   "source": [
    "input_chunk_length = 24\n",
    "forecast_horizon = 12\n",
    "my_model = TFTModel(\n",
    "    input_chunk_length=input_chunk_length,\n",
    "    output_chunk_length=forecast_horizon,\n",
    "    hidden_size=64,\n",
    "    lstm_layers=1,\n",
    "    num_attention_heads=4,\n",
    "    dropout=0.1,\n",
    "    batch_size=16,\n",
    "    n_epochs=300,\n",
    "    add_relative_index=False,\n",
    "    add_encoders=None,\n",
    "    likelihood=QuantileRegression(\n",
    "        quantiles=[0.1,0.5,0.9]\n",
    "    ),  # QuantileRegression is set per default\n",
    "    # loss_fn=MSELoss(),\n",
    "    random_state=42,\n",
    ")"
   ]
  },
  {
   "cell_type": "code",
   "execution_count": 4,
   "id": "2ea4555f-70b3-4487-b915-012d1371777f",
   "metadata": {},
   "outputs": [
    {
     "data": {
      "application/vnd.jupyter.widget-view+json": {
       "model_id": "063900067c6b43cba21fbc84de6261c4",
       "version_major": 2,
       "version_minor": 0
      },
      "text/plain": [
       "Training: 0it [00:00, ?it/s]"
      ]
     },
     "metadata": {},
     "output_type": "display_data"
    },
    {
     "data": {
      "text/plain": [
       "TFTModel(hidden_size=64, lstm_layers=1, num_attention_heads=4, full_attention=False, feed_forward=GatedResidualNetwork, dropout=0.1, hidden_continuous_size=8, categorical_embedding_sizes=None, add_relative_index=False, loss_fn=None, likelihood=QuantileRegression(quantiles: Optional[List[float]] = None), norm_type=LayerNorm, use_static_covariates=True, input_chunk_length=24, output_chunk_length=12, batch_size=16, n_epochs=300, add_encoders=None, random_state=42)"
      ]
     },
     "execution_count": 4,
     "metadata": {},
     "output_type": "execute_result"
    }
   ],
   "source": [
    "my_model.fit(train_transformed, future_covariates=covariates_transformed, verbose=True)\n"
   ]
  },
  {
   "cell_type": "code",
   "execution_count": 23,
   "id": "2c394e93-f1a0-49d5-94a5-bc900ee2a752",
   "metadata": {},
   "outputs": [
    {
     "data": {
      "application/vnd.jupyter.widget-view+json": {
       "model_id": "ff324a446f46407fb890ed89a37af7eb",
       "version_major": 2,
       "version_minor": 0
      },
      "text/plain": [
       "Predicting: 0it [00:00, ?it/s]"
      ]
     },
     "metadata": {},
     "output_type": "display_data"
    }
   ],
   "source": [
    "pred_series = my_model.predict(n=2)"
   ]
  },
  {
   "cell_type": "code",
   "execution_count": 24,
   "id": "5db0a8ee-1b51-4e6a-b780-c2da89462909",
   "metadata": {},
   "outputs": [
    {
     "data": {
      "text/html": [
       "<div>\n",
       "<style scoped>\n",
       "    .dataframe tbody tr th:only-of-type {\n",
       "        vertical-align: middle;\n",
       "    }\n",
       "\n",
       "    .dataframe tbody tr th {\n",
       "        vertical-align: top;\n",
       "    }\n",
       "\n",
       "    .dataframe thead th {\n",
       "        text-align: right;\n",
       "    }\n",
       "</style>\n",
       "<table border=\"1\" class=\"dataframe\">\n",
       "  <thead>\n",
       "    <tr style=\"text-align: right;\">\n",
       "      <th>component</th>\n",
       "      <th>#Passengers</th>\n",
       "    </tr>\n",
       "    <tr>\n",
       "      <th>Month</th>\n",
       "      <th></th>\n",
       "    </tr>\n",
       "  </thead>\n",
       "  <tbody>\n",
       "    <tr>\n",
       "      <th>1958-01-01</th>\n",
       "      <td>0.669593</td>\n",
       "    </tr>\n",
       "    <tr>\n",
       "      <th>1958-02-01</th>\n",
       "      <td>0.702115</td>\n",
       "    </tr>\n",
       "  </tbody>\n",
       "</table>\n",
       "</div>"
      ],
      "text/plain": [
       "component   #Passengers\n",
       "Month                  \n",
       "1958-01-01     0.669593\n",
       "1958-02-01     0.702115"
      ]
     },
     "execution_count": 24,
     "metadata": {},
     "output_type": "execute_result"
    }
   ],
   "source": [
    "pred_series.pd_dataframe()"
   ]
  },
  {
   "cell_type": "code",
   "execution_count": 27,
   "id": "e04db52a-fbee-4bde-99a4-3674946898fb",
   "metadata": {},
   "outputs": [
    {
     "data": {
      "application/vnd.jupyter.widget-view+json": {
       "model_id": "a304d57e7fce45bf90b2534c61f6deec",
       "version_major": 2,
       "version_minor": 0
      },
      "text/plain": [
       "Predicting: 0it [00:00, ?it/s]"
      ]
     },
     "metadata": {},
     "output_type": "display_data"
    },
    {
     "data": {
      "text/html": [
       "<div>\n",
       "<style scoped>\n",
       "    .dataframe tbody tr th:only-of-type {\n",
       "        vertical-align: middle;\n",
       "    }\n",
       "\n",
       "    .dataframe tbody tr th {\n",
       "        vertical-align: top;\n",
       "    }\n",
       "\n",
       "    .dataframe thead th {\n",
       "        text-align: right;\n",
       "    }\n",
       "</style>\n",
       "<table border=\"1\" class=\"dataframe\">\n",
       "  <thead>\n",
       "    <tr style=\"text-align: right;\">\n",
       "      <th>component</th>\n",
       "      <th>#Passengers</th>\n",
       "    </tr>\n",
       "    <tr>\n",
       "      <th>Month</th>\n",
       "      <th></th>\n",
       "    </tr>\n",
       "  </thead>\n",
       "  <tbody>\n",
       "    <tr>\n",
       "      <th>1958-01-01</th>\n",
       "      <td>0.634108</td>\n",
       "    </tr>\n",
       "    <tr>\n",
       "      <th>1958-02-01</th>\n",
       "      <td>0.672371</td>\n",
       "    </tr>\n",
       "    <tr>\n",
       "      <th>1958-03-01</th>\n",
       "      <td>0.737578</td>\n",
       "    </tr>\n",
       "  </tbody>\n",
       "</table>\n",
       "</div>"
      ],
      "text/plain": [
       "component   #Passengers\n",
       "Month                  \n",
       "1958-01-01     0.634108\n",
       "1958-02-01     0.672371\n",
       "1958-03-01     0.737578"
      ]
     },
     "execution_count": 27,
     "metadata": {},
     "output_type": "execute_result"
    }
   ],
   "source": [
    "pred_series = my_model.predict(n=3)\n",
    "pred_series.pd_dataframe()"
   ]
  },
  {
   "cell_type": "code",
   "execution_count": null,
   "id": "e92f453c-9a57-4bd0-bef4-dc2d83731b4d",
   "metadata": {},
   "outputs": [],
   "source": []
  },
  {
   "cell_type": "code",
   "execution_count": 5,
   "id": "fb59d307-1d4a-4b13-ad39-8def2b1a5814",
   "metadata": {},
   "outputs": [],
   "source": [
    "import random\n",
    "def random_walk(n):\n",
    "    tot = np.zeros(n)\n",
    "    probs = np.zeros(n)\n",
    "    for i in range(n-1):\n",
    "        prob = random.random()\n",
    "        if prob<0.5:\n",
    "            delta = 1\n",
    "        else:\n",
    "            delta = -1\n",
    "        tot[i+1] = tot[i] + delta\n",
    "        probs[i+1]= prob\n",
    "    return tot, probs\n",
    "N = 20000\n",
    "random.seed(6)\n",
    "x, p = random_walk(N)\n",
    "data = pd.DataFrame({'y':x,'p':p,'time':pd.to_datetime(100000*np.array(list(range(N))))})\n",
    "series = TimeSeries.from_dataframe(data, \"time\", \"y\")\n",
    "pseries = TimeSeries.from_dataframe(data[['time','p']], \"time\", \"p\")"
   ]
  },
  {
   "cell_type": "code",
   "execution_count": 6,
   "id": "a095e3a2-cafb-44a9-9172-3e3c56f36cf7",
   "metadata": {},
   "outputs": [
    {
     "data": {
      "text/html": [
       "<div>\n",
       "<style scoped>\n",
       "    .dataframe tbody tr th:only-of-type {\n",
       "        vertical-align: middle;\n",
       "    }\n",
       "\n",
       "    .dataframe tbody tr th {\n",
       "        vertical-align: top;\n",
       "    }\n",
       "\n",
       "    .dataframe thead th {\n",
       "        text-align: right;\n",
       "    }\n",
       "</style>\n",
       "<table border=\"1\" class=\"dataframe\">\n",
       "  <thead>\n",
       "    <tr style=\"text-align: right;\">\n",
       "      <th></th>\n",
       "      <th>y</th>\n",
       "      <th>p</th>\n",
       "      <th>time</th>\n",
       "    </tr>\n",
       "  </thead>\n",
       "  <tbody>\n",
       "    <tr>\n",
       "      <th>0</th>\n",
       "      <td>0.0</td>\n",
       "      <td>0.000000</td>\n",
       "      <td>1970-01-01 00:00:00.000000</td>\n",
       "    </tr>\n",
       "    <tr>\n",
       "      <th>1</th>\n",
       "      <td>-1.0</td>\n",
       "      <td>0.793340</td>\n",
       "      <td>1970-01-01 00:00:00.000100</td>\n",
       "    </tr>\n",
       "    <tr>\n",
       "      <th>2</th>\n",
       "      <td>-2.0</td>\n",
       "      <td>0.821954</td>\n",
       "      <td>1970-01-01 00:00:00.000200</td>\n",
       "    </tr>\n",
       "    <tr>\n",
       "      <th>3</th>\n",
       "      <td>-1.0</td>\n",
       "      <td>0.485035</td>\n",
       "      <td>1970-01-01 00:00:00.000300</td>\n",
       "    </tr>\n",
       "    <tr>\n",
       "      <th>4</th>\n",
       "      <td>0.0</td>\n",
       "      <td>0.261621</td>\n",
       "      <td>1970-01-01 00:00:00.000400</td>\n",
       "    </tr>\n",
       "    <tr>\n",
       "      <th>...</th>\n",
       "      <td>...</td>\n",
       "      <td>...</td>\n",
       "      <td>...</td>\n",
       "    </tr>\n",
       "    <tr>\n",
       "      <th>19995</th>\n",
       "      <td>97.0</td>\n",
       "      <td>0.785012</td>\n",
       "      <td>1970-01-01 00:00:01.999500</td>\n",
       "    </tr>\n",
       "    <tr>\n",
       "      <th>19996</th>\n",
       "      <td>96.0</td>\n",
       "      <td>0.908452</td>\n",
       "      <td>1970-01-01 00:00:01.999600</td>\n",
       "    </tr>\n",
       "    <tr>\n",
       "      <th>19997</th>\n",
       "      <td>95.0</td>\n",
       "      <td>0.918215</td>\n",
       "      <td>1970-01-01 00:00:01.999700</td>\n",
       "    </tr>\n",
       "    <tr>\n",
       "      <th>19998</th>\n",
       "      <td>96.0</td>\n",
       "      <td>0.488358</td>\n",
       "      <td>1970-01-01 00:00:01.999800</td>\n",
       "    </tr>\n",
       "    <tr>\n",
       "      <th>19999</th>\n",
       "      <td>95.0</td>\n",
       "      <td>0.656042</td>\n",
       "      <td>1970-01-01 00:00:01.999900</td>\n",
       "    </tr>\n",
       "  </tbody>\n",
       "</table>\n",
       "<p>20000 rows × 3 columns</p>\n",
       "</div>"
      ],
      "text/plain": [
       "          y         p                       time\n",
       "0       0.0  0.000000 1970-01-01 00:00:00.000000\n",
       "1      -1.0  0.793340 1970-01-01 00:00:00.000100\n",
       "2      -2.0  0.821954 1970-01-01 00:00:00.000200\n",
       "3      -1.0  0.485035 1970-01-01 00:00:00.000300\n",
       "4       0.0  0.261621 1970-01-01 00:00:00.000400\n",
       "...     ...       ...                        ...\n",
       "19995  97.0  0.785012 1970-01-01 00:00:01.999500\n",
       "19996  96.0  0.908452 1970-01-01 00:00:01.999600\n",
       "19997  95.0  0.918215 1970-01-01 00:00:01.999700\n",
       "19998  96.0  0.488358 1970-01-01 00:00:01.999800\n",
       "19999  95.0  0.656042 1970-01-01 00:00:01.999900\n",
       "\n",
       "[20000 rows x 3 columns]"
      ]
     },
     "execution_count": 6,
     "metadata": {},
     "output_type": "execute_result"
    }
   ],
   "source": [
    "data"
   ]
  },
  {
   "cell_type": "code",
   "execution_count": 45,
   "id": "73f6065a-e13f-473c-ad56-e1939a2c8b25",
   "metadata": {},
   "outputs": [
    {
     "ename": "ValueError",
     "evalue": "Missing covariates; could not find past covariates in index value range: 1955-01-01 00:00:00 - 1956-12-01 00:00:00.",
     "output_type": "error",
     "traceback": [
      "\u001b[0;31m---------------------------------------------------------------------------\u001b[0m",
      "\u001b[0;31mValueError\u001b[0m                                Traceback (most recent call last)",
      "Cell \u001b[0;32mIn[45], line 20\u001b[0m\n\u001b[1;32m      2\u001b[0m forecast_horizon \u001b[38;5;241m=\u001b[39m \u001b[38;5;241m12\u001b[39m\n\u001b[1;32m      3\u001b[0m my_model \u001b[38;5;241m=\u001b[39m TFTModel(\n\u001b[1;32m      4\u001b[0m     input_chunk_length\u001b[38;5;241m=\u001b[39minput_chunk_length,\n\u001b[1;32m      5\u001b[0m     output_chunk_length\u001b[38;5;241m=\u001b[39mforecast_horizon,\n\u001b[0;32m   (...)\u001b[0m\n\u001b[1;32m     18\u001b[0m     random_state\u001b[38;5;241m=\u001b[39m\u001b[38;5;241m42\u001b[39m,\n\u001b[1;32m     19\u001b[0m )\n\u001b[0;32m---> 20\u001b[0m \u001b[43mmy_model\u001b[49m\u001b[38;5;241;43m.\u001b[39;49m\u001b[43mfit\u001b[49m\u001b[43m(\u001b[49m\u001b[43mtrain_transformed\u001b[49m\u001b[43m,\u001b[49m\u001b[43m \u001b[49m\u001b[43mfuture_covariates\u001b[49m\u001b[38;5;241;43m=\u001b[39;49m\u001b[43mpseries\u001b[49m\u001b[43m,\u001b[49m\u001b[43m \u001b[49m\u001b[43mverbose\u001b[49m\u001b[38;5;241;43m=\u001b[39;49m\u001b[38;5;28;43;01mTrue\u001b[39;49;00m\u001b[43m)\u001b[49m\n",
      "File \u001b[0;32m~/.conda/envs/darts/lib/python3.11/site-packages/darts/utils/torch.py:112\u001b[0m, in \u001b[0;36mrandom_method.<locals>.decorator\u001b[0;34m(self, *args, **kwargs)\u001b[0m\n\u001b[1;32m    110\u001b[0m \u001b[38;5;28;01mwith\u001b[39;00m fork_rng():\n\u001b[1;32m    111\u001b[0m     manual_seed(\u001b[38;5;28mself\u001b[39m\u001b[38;5;241m.\u001b[39m_random_instance\u001b[38;5;241m.\u001b[39mrandint(\u001b[38;5;241m0\u001b[39m, high\u001b[38;5;241m=\u001b[39mMAX_TORCH_SEED_VALUE))\n\u001b[0;32m--> 112\u001b[0m     \u001b[38;5;28;01mreturn\u001b[39;00m \u001b[43mdecorated\u001b[49m\u001b[43m(\u001b[49m\u001b[38;5;28;43mself\u001b[39;49m\u001b[43m,\u001b[49m\u001b[43m \u001b[49m\u001b[38;5;241;43m*\u001b[39;49m\u001b[43margs\u001b[49m\u001b[43m,\u001b[49m\u001b[43m \u001b[49m\u001b[38;5;241;43m*\u001b[39;49m\u001b[38;5;241;43m*\u001b[39;49m\u001b[43mkwargs\u001b[49m\u001b[43m)\u001b[49m\n",
      "File \u001b[0;32m~/.conda/envs/darts/lib/python3.11/site-packages/darts/models/forecasting/torch_forecasting_model.py:700\u001b[0m, in \u001b[0;36mTorchForecastingModel.fit\u001b[0;34m(self, series, past_covariates, future_covariates, val_series, val_past_covariates, val_future_covariates, trainer, verbose, epochs, max_samples_per_ts, num_loader_workers)\u001b[0m\n\u001b[1;32m    694\u001b[0m \u001b[38;5;66;03m# call super fit only if user is actually fitting the model\u001b[39;00m\n\u001b[1;32m    695\u001b[0m \u001b[38;5;28msuper\u001b[39m()\u001b[38;5;241m.\u001b[39mfit(\n\u001b[1;32m    696\u001b[0m     series\u001b[38;5;241m=\u001b[39mseq2series(series),\n\u001b[1;32m    697\u001b[0m     past_covariates\u001b[38;5;241m=\u001b[39mseq2series(past_covariates),\n\u001b[1;32m    698\u001b[0m     future_covariates\u001b[38;5;241m=\u001b[39mseq2series(future_covariates),\n\u001b[1;32m    699\u001b[0m )\n\u001b[0;32m--> 700\u001b[0m \u001b[38;5;28;01mreturn\u001b[39;00m \u001b[38;5;28;43mself\u001b[39;49m\u001b[38;5;241;43m.\u001b[39;49m\u001b[43mfit_from_dataset\u001b[49m\u001b[43m(\u001b[49m\u001b[38;5;241;43m*\u001b[39;49m\u001b[43mparams\u001b[49m\u001b[43m)\u001b[49m\n",
      "File \u001b[0;32m~/.conda/envs/darts/lib/python3.11/site-packages/darts/utils/torch.py:112\u001b[0m, in \u001b[0;36mrandom_method.<locals>.decorator\u001b[0;34m(self, *args, **kwargs)\u001b[0m\n\u001b[1;32m    110\u001b[0m \u001b[38;5;28;01mwith\u001b[39;00m fork_rng():\n\u001b[1;32m    111\u001b[0m     manual_seed(\u001b[38;5;28mself\u001b[39m\u001b[38;5;241m.\u001b[39m_random_instance\u001b[38;5;241m.\u001b[39mrandint(\u001b[38;5;241m0\u001b[39m, high\u001b[38;5;241m=\u001b[39mMAX_TORCH_SEED_VALUE))\n\u001b[0;32m--> 112\u001b[0m     \u001b[38;5;28;01mreturn\u001b[39;00m \u001b[43mdecorated\u001b[49m\u001b[43m(\u001b[49m\u001b[38;5;28;43mself\u001b[39;49m\u001b[43m,\u001b[49m\u001b[43m \u001b[49m\u001b[38;5;241;43m*\u001b[39;49m\u001b[43margs\u001b[49m\u001b[43m,\u001b[49m\u001b[43m \u001b[49m\u001b[38;5;241;43m*\u001b[39;49m\u001b[38;5;241;43m*\u001b[39;49m\u001b[43mkwargs\u001b[49m\u001b[43m)\u001b[49m\n",
      "File \u001b[0;32m~/.conda/envs/darts/lib/python3.11/site-packages/darts/models/forecasting/torch_forecasting_model.py:902\u001b[0m, in \u001b[0;36mTorchForecastingModel.fit_from_dataset\u001b[0;34m(self, train_dataset, val_dataset, trainer, verbose, epochs, num_loader_workers)\u001b[0m\n\u001b[1;32m    850\u001b[0m \u001b[38;5;129m@random_method\u001b[39m\n\u001b[1;32m    851\u001b[0m \u001b[38;5;28;01mdef\u001b[39;00m \u001b[38;5;21mfit_from_dataset\u001b[39m(\n\u001b[1;32m    852\u001b[0m     \u001b[38;5;28mself\u001b[39m,\n\u001b[0;32m   (...)\u001b[0m\n\u001b[1;32m    858\u001b[0m     num_loader_workers: \u001b[38;5;28mint\u001b[39m \u001b[38;5;241m=\u001b[39m \u001b[38;5;241m0\u001b[39m,\n\u001b[1;32m    859\u001b[0m ) \u001b[38;5;241m-\u001b[39m\u001b[38;5;241m>\u001b[39m \u001b[38;5;124m\"\u001b[39m\u001b[38;5;124mTorchForecastingModel\u001b[39m\u001b[38;5;124m\"\u001b[39m:\n\u001b[1;32m    860\u001b[0m \u001b[38;5;250m    \u001b[39m\u001b[38;5;124;03m\"\"\"\u001b[39;00m\n\u001b[1;32m    861\u001b[0m \u001b[38;5;124;03m    Train the model with a specific :class:`darts.utils.data.TrainingDataset` instance.\u001b[39;00m\n\u001b[1;32m    862\u001b[0m \u001b[38;5;124;03m    These datasets implement a PyTorch ``Dataset``, and specify how the target and covariates are sliced\u001b[39;00m\n\u001b[0;32m   (...)\u001b[0m\n\u001b[1;32m    899\u001b[0m \u001b[38;5;124;03m        Fitted model.\u001b[39;00m\n\u001b[1;32m    900\u001b[0m \u001b[38;5;124;03m    \"\"\"\u001b[39;00m\n\u001b[1;32m    901\u001b[0m     \u001b[38;5;28mself\u001b[39m\u001b[38;5;241m.\u001b[39m_train(\n\u001b[0;32m--> 902\u001b[0m         \u001b[38;5;241m*\u001b[39m\u001b[38;5;28;43mself\u001b[39;49m\u001b[38;5;241;43m.\u001b[39;49m\u001b[43m_setup_for_train\u001b[49m\u001b[43m(\u001b[49m\n\u001b[1;32m    903\u001b[0m \u001b[43m            \u001b[49m\u001b[43mtrain_dataset\u001b[49m\u001b[38;5;241;43m=\u001b[39;49m\u001b[43mtrain_dataset\u001b[49m\u001b[43m,\u001b[49m\n\u001b[1;32m    904\u001b[0m \u001b[43m            \u001b[49m\u001b[43mval_dataset\u001b[49m\u001b[38;5;241;43m=\u001b[39;49m\u001b[43mval_dataset\u001b[49m\u001b[43m,\u001b[49m\n\u001b[1;32m    905\u001b[0m \u001b[43m            \u001b[49m\u001b[43mtrainer\u001b[49m\u001b[38;5;241;43m=\u001b[39;49m\u001b[43mtrainer\u001b[49m\u001b[43m,\u001b[49m\n\u001b[1;32m    906\u001b[0m \u001b[43m            \u001b[49m\u001b[43mverbose\u001b[49m\u001b[38;5;241;43m=\u001b[39;49m\u001b[43mverbose\u001b[49m\u001b[43m,\u001b[49m\n\u001b[1;32m    907\u001b[0m \u001b[43m            \u001b[49m\u001b[43mepochs\u001b[49m\u001b[38;5;241;43m=\u001b[39;49m\u001b[43mepochs\u001b[49m\u001b[43m,\u001b[49m\n\u001b[1;32m    908\u001b[0m \u001b[43m            \u001b[49m\u001b[43mnum_loader_workers\u001b[49m\u001b[38;5;241;43m=\u001b[39;49m\u001b[43mnum_loader_workers\u001b[49m\u001b[43m,\u001b[49m\n\u001b[1;32m    909\u001b[0m \u001b[43m        \u001b[49m\u001b[43m)\u001b[49m\n\u001b[1;32m    910\u001b[0m     )\n\u001b[1;32m    911\u001b[0m     \u001b[38;5;28;01mreturn\u001b[39;00m \u001b[38;5;28mself\u001b[39m\n",
      "File \u001b[0;32m~/.conda/envs/darts/lib/python3.11/site-packages/darts/models/forecasting/torch_forecasting_model.py:950\u001b[0m, in \u001b[0;36mTorchForecastingModel._setup_for_train\u001b[0;34m(self, train_dataset, val_dataset, trainer, verbose, epochs, num_loader_workers)\u001b[0m\n\u001b[1;32m    939\u001b[0m raise_if(\n\u001b[1;32m    940\u001b[0m     \u001b[38;5;129;01mnot\u001b[39;00m train_length_ok \u001b[38;5;129;01mor\u001b[39;00m \u001b[38;5;28mlen\u001b[39m(train_dataset) \u001b[38;5;241m==\u001b[39m \u001b[38;5;241m0\u001b[39m,  \u001b[38;5;66;03m# mind the order\u001b[39;00m\n\u001b[1;32m    941\u001b[0m     \u001b[38;5;124m\"\u001b[39m\u001b[38;5;124mThe provided training time series dataset is too short for obtaining even one training point.\u001b[39m\u001b[38;5;124m\"\u001b[39m,\n\u001b[1;32m    942\u001b[0m     logger,\n\u001b[1;32m    943\u001b[0m )\n\u001b[1;32m    944\u001b[0m raise_if(\n\u001b[1;32m    945\u001b[0m     val_dataset \u001b[38;5;129;01mis\u001b[39;00m \u001b[38;5;129;01mnot\u001b[39;00m \u001b[38;5;28;01mNone\u001b[39;00m \u001b[38;5;129;01mand\u001b[39;00m (\u001b[38;5;129;01mnot\u001b[39;00m val_length_ok \u001b[38;5;129;01mor\u001b[39;00m \u001b[38;5;28mlen\u001b[39m(val_dataset) \u001b[38;5;241m==\u001b[39m \u001b[38;5;241m0\u001b[39m),\n\u001b[1;32m    946\u001b[0m     \u001b[38;5;124m\"\u001b[39m\u001b[38;5;124mThe provided validation time series dataset is too short for obtaining even one training point.\u001b[39m\u001b[38;5;124m\"\u001b[39m,\n\u001b[1;32m    947\u001b[0m     logger,\n\u001b[1;32m    948\u001b[0m )\n\u001b[0;32m--> 950\u001b[0m train_sample \u001b[38;5;241m=\u001b[39m \u001b[43mtrain_dataset\u001b[49m\u001b[43m[\u001b[49m\u001b[38;5;241;43m0\u001b[39;49m\u001b[43m]\u001b[49m\n\u001b[1;32m    951\u001b[0m \u001b[38;5;28;01mif\u001b[39;00m \u001b[38;5;28mself\u001b[39m\u001b[38;5;241m.\u001b[39mmodel \u001b[38;5;129;01mis\u001b[39;00m \u001b[38;5;28;01mNone\u001b[39;00m:\n\u001b[1;32m    952\u001b[0m     \u001b[38;5;66;03m# Build model, based on the dimensions of the first series in the train set.\u001b[39;00m\n\u001b[1;32m    953\u001b[0m     \u001b[38;5;28mself\u001b[39m\u001b[38;5;241m.\u001b[39mtrain_sample, \u001b[38;5;28mself\u001b[39m\u001b[38;5;241m.\u001b[39moutput_dim \u001b[38;5;241m=\u001b[39m train_sample, train_sample[\u001b[38;5;241m-\u001b[39m\u001b[38;5;241m1\u001b[39m]\u001b[38;5;241m.\u001b[39mshape[\u001b[38;5;241m1\u001b[39m]\n",
      "File \u001b[0;32m~/.conda/envs/darts/lib/python3.11/site-packages/darts/utils/data/sequential_dataset.py:366\u001b[0m, in \u001b[0;36mMixedCovariatesSequentialDataset.__getitem__\u001b[0;34m(self, idx)\u001b[0m\n\u001b[1;32m    354\u001b[0m \u001b[38;5;28;01mdef\u001b[39;00m \u001b[38;5;21m__getitem__\u001b[39m(\n\u001b[1;32m    355\u001b[0m     \u001b[38;5;28mself\u001b[39m, idx\n\u001b[1;32m    356\u001b[0m ) \u001b[38;5;241m-\u001b[39m\u001b[38;5;241m>\u001b[39m Tuple[\n\u001b[0;32m   (...)\u001b[0m\n\u001b[1;32m    362\u001b[0m     np\u001b[38;5;241m.\u001b[39mndarray,\n\u001b[1;32m    363\u001b[0m ]:\n\u001b[1;32m    365\u001b[0m     past_target, past_covariate, static_covariate, future_target \u001b[38;5;241m=\u001b[39m \u001b[38;5;28mself\u001b[39m\u001b[38;5;241m.\u001b[39mds_past[idx]\n\u001b[0;32m--> 366\u001b[0m     _, historic_future_covariate, future_covariate, _, _ \u001b[38;5;241m=\u001b[39m \u001b[38;5;28;43mself\u001b[39;49m\u001b[38;5;241;43m.\u001b[39;49m\u001b[43mds_dual\u001b[49m\u001b[43m[\u001b[49m\u001b[43midx\u001b[49m\u001b[43m]\u001b[49m\n\u001b[1;32m    367\u001b[0m     \u001b[38;5;28;01mreturn\u001b[39;00m (\n\u001b[1;32m    368\u001b[0m         past_target,\n\u001b[1;32m    369\u001b[0m         past_covariate,\n\u001b[0;32m   (...)\u001b[0m\n\u001b[1;32m    373\u001b[0m         future_target,\n\u001b[1;32m    374\u001b[0m     )\n",
      "File \u001b[0;32m~/.conda/envs/darts/lib/python3.11/site-packages/darts/utils/data/sequential_dataset.py:260\u001b[0m, in \u001b[0;36mDualCovariatesSequentialDataset.__getitem__\u001b[0;34m(self, idx)\u001b[0m\n\u001b[1;32m    251\u001b[0m \u001b[38;5;28;01mdef\u001b[39;00m \u001b[38;5;21m__getitem__\u001b[39m(\n\u001b[1;32m    252\u001b[0m     \u001b[38;5;28mself\u001b[39m, idx\n\u001b[1;32m    253\u001b[0m ) \u001b[38;5;241m-\u001b[39m\u001b[38;5;241m>\u001b[39m Tuple[\n\u001b[0;32m   (...)\u001b[0m\n\u001b[1;32m    258\u001b[0m     np\u001b[38;5;241m.\u001b[39mndarray,\n\u001b[1;32m    259\u001b[0m ]:\n\u001b[0;32m--> 260\u001b[0m     past_target, past_covariate, static_covariate, future_target \u001b[38;5;241m=\u001b[39m \u001b[38;5;28;43mself\u001b[39;49m\u001b[38;5;241;43m.\u001b[39;49m\u001b[43mds_past\u001b[49m\u001b[43m[\u001b[49m\u001b[43midx\u001b[49m\u001b[43m]\u001b[49m\n\u001b[1;32m    261\u001b[0m     _, future_covariate, _, _ \u001b[38;5;241m=\u001b[39m \u001b[38;5;28mself\u001b[39m\u001b[38;5;241m.\u001b[39mds_future[idx]\n\u001b[1;32m    262\u001b[0m     \u001b[38;5;28;01mreturn\u001b[39;00m (\n\u001b[1;32m    263\u001b[0m         past_target,\n\u001b[1;32m    264\u001b[0m         past_covariate,\n\u001b[0;32m   (...)\u001b[0m\n\u001b[1;32m    267\u001b[0m         future_target,\n\u001b[1;32m    268\u001b[0m     )\n",
      "File \u001b[0;32m~/.conda/envs/darts/lib/python3.11/site-packages/darts/utils/data/shifted_dataset.py:623\u001b[0m, in \u001b[0;36mGenericShiftedDataset.__getitem__\u001b[0;34m(self, idx)\u001b[0m\n\u001b[1;32m    611\u001b[0m     main_covariate_type \u001b[38;5;241m=\u001b[39m (\n\u001b[1;32m    612\u001b[0m         CovariateType\u001b[38;5;241m.\u001b[39mFUTURE \u001b[38;5;28;01mif\u001b[39;00m \u001b[38;5;28mself\u001b[39m\u001b[38;5;241m.\u001b[39mshift_covariates \u001b[38;5;28;01melse\u001b[39;00m CovariateType\u001b[38;5;241m.\u001b[39mPAST\n\u001b[1;32m    613\u001b[0m     )\n\u001b[1;32m    615\u001b[0m \u001b[38;5;66;03m# get all indices for the current sample\u001b[39;00m\n\u001b[1;32m    616\u001b[0m (\n\u001b[1;32m    617\u001b[0m     past_start,\n\u001b[1;32m    618\u001b[0m     past_end,\n\u001b[1;32m    619\u001b[0m     future_start,\n\u001b[1;32m    620\u001b[0m     future_end,\n\u001b[1;32m    621\u001b[0m     covariate_start,\n\u001b[1;32m    622\u001b[0m     covariate_end,\n\u001b[0;32m--> 623\u001b[0m ) \u001b[38;5;241m=\u001b[39m \u001b[38;5;28;43mself\u001b[39;49m\u001b[38;5;241;43m.\u001b[39;49m\u001b[43m_memory_indexer\u001b[49m\u001b[43m(\u001b[49m\n\u001b[1;32m    624\u001b[0m \u001b[43m    \u001b[49m\u001b[43mtarget_idx\u001b[49m\u001b[38;5;241;43m=\u001b[39;49m\u001b[43mtarget_idx\u001b[49m\u001b[43m,\u001b[49m\n\u001b[1;32m    625\u001b[0m \u001b[43m    \u001b[49m\u001b[43mtarget_series\u001b[49m\u001b[38;5;241;43m=\u001b[39;49m\u001b[43mtarget_series\u001b[49m\u001b[43m,\u001b[49m\n\u001b[1;32m    626\u001b[0m \u001b[43m    \u001b[49m\u001b[43mshift\u001b[49m\u001b[38;5;241;43m=\u001b[39;49m\u001b[38;5;28;43mself\u001b[39;49m\u001b[38;5;241;43m.\u001b[39;49m\u001b[43mshift\u001b[49m\u001b[43m,\u001b[49m\n\u001b[1;32m    627\u001b[0m \u001b[43m    \u001b[49m\u001b[43minput_chunk_length\u001b[49m\u001b[38;5;241;43m=\u001b[39;49m\u001b[38;5;28;43mself\u001b[39;49m\u001b[38;5;241;43m.\u001b[39;49m\u001b[43minput_chunk_length\u001b[49m\u001b[43m,\u001b[49m\n\u001b[1;32m    628\u001b[0m \u001b[43m    \u001b[49m\u001b[43moutput_chunk_length\u001b[49m\u001b[38;5;241;43m=\u001b[39;49m\u001b[38;5;28;43mself\u001b[39;49m\u001b[38;5;241;43m.\u001b[39;49m\u001b[43moutput_chunk_length\u001b[49m\u001b[43m,\u001b[49m\n\u001b[1;32m    629\u001b[0m \u001b[43m    \u001b[49m\u001b[43mend_of_output_idx\u001b[49m\u001b[38;5;241;43m=\u001b[39;49m\u001b[43mend_of_output_idx\u001b[49m\u001b[43m,\u001b[49m\n\u001b[1;32m    630\u001b[0m \u001b[43m    \u001b[49m\u001b[43mcovariate_series\u001b[49m\u001b[38;5;241;43m=\u001b[39;49m\u001b[43mcovariate_series\u001b[49m\u001b[43m,\u001b[49m\n\u001b[1;32m    631\u001b[0m \u001b[43m    \u001b[49m\u001b[43mcovariate_type\u001b[49m\u001b[38;5;241;43m=\u001b[39;49m\u001b[43mmain_covariate_type\u001b[49m\u001b[43m,\u001b[49m\n\u001b[1;32m    632\u001b[0m \u001b[43m\u001b[49m\u001b[43m)\u001b[49m\n\u001b[1;32m    634\u001b[0m \u001b[38;5;66;03m# extract sample target\u001b[39;00m\n\u001b[1;32m    635\u001b[0m future_target \u001b[38;5;241m=\u001b[39m target_vals[future_start:future_end]\n",
      "File \u001b[0;32m~/.conda/envs/darts/lib/python3.11/site-packages/darts/utils/data/training_dataset.py:154\u001b[0m, in \u001b[0;36mTrainingDataset._memory_indexer\u001b[0;34m(self, target_idx, target_series, shift, input_chunk_length, output_chunk_length, end_of_output_idx, covariate_series, covariate_type)\u001b[0m\n\u001b[1;32m    151\u001b[0m start_time \u001b[38;5;241m=\u001b[39m target_series\u001b[38;5;241m.\u001b[39mtime_index[start]\n\u001b[1;32m    152\u001b[0m end_time \u001b[38;5;241m=\u001b[39m target_series\u001b[38;5;241m.\u001b[39mtime_index[end \u001b[38;5;241m-\u001b[39m \u001b[38;5;241m1\u001b[39m]\n\u001b[0;32m--> 154\u001b[0m \u001b[43mraise_if_not\u001b[49m\u001b[43m(\u001b[49m\n\u001b[1;32m    155\u001b[0m \u001b[43m    \u001b[49m\u001b[43mstart_time\u001b[49m\u001b[43m \u001b[49m\u001b[38;5;129;43;01min\u001b[39;49;00m\u001b[43m \u001b[49m\u001b[43mcovariate_series\u001b[49m\u001b[38;5;241;43m.\u001b[39;49m\u001b[43mtime_index\u001b[49m\n\u001b[1;32m    156\u001b[0m \u001b[43m    \u001b[49m\u001b[38;5;129;43;01mand\u001b[39;49;00m\u001b[43m \u001b[49m\u001b[43mend_time\u001b[49m\u001b[43m \u001b[49m\u001b[38;5;129;43;01min\u001b[39;49;00m\u001b[43m \u001b[49m\u001b[43mcovariate_series\u001b[49m\u001b[38;5;241;43m.\u001b[39;49m\u001b[43mtime_index\u001b[49m\u001b[43m,\u001b[49m\n\u001b[1;32m    157\u001b[0m \u001b[43m    \u001b[49m\u001b[38;5;124;43mf\u001b[39;49m\u001b[38;5;124;43m\"\u001b[39;49m\u001b[38;5;124;43mMissing covariates; could not find \u001b[39;49m\u001b[38;5;132;43;01m{\u001b[39;49;00m\u001b[43mcovariate_type\u001b[49m\u001b[38;5;241;43m.\u001b[39;49m\u001b[43mvalue\u001b[49m\u001b[38;5;132;43;01m}\u001b[39;49;00m\u001b[38;5;124;43m covariates in index value range: \u001b[39;49m\u001b[38;5;124;43m\"\u001b[39;49m\n\u001b[1;32m    158\u001b[0m \u001b[43m    \u001b[49m\u001b[38;5;124;43mf\u001b[39;49m\u001b[38;5;124;43m\"\u001b[39;49m\u001b[38;5;132;43;01m{\u001b[39;49;00m\u001b[43mstart_time\u001b[49m\u001b[38;5;132;43;01m}\u001b[39;49;00m\u001b[38;5;124;43m - \u001b[39;49m\u001b[38;5;132;43;01m{\u001b[39;49;00m\u001b[43mend_time\u001b[49m\u001b[38;5;132;43;01m}\u001b[39;49;00m\u001b[38;5;124;43m.\u001b[39;49m\u001b[38;5;124;43m\"\u001b[39;49m\u001b[43m,\u001b[49m\n\u001b[1;32m    159\u001b[0m \u001b[43m\u001b[49m\u001b[43m)\u001b[49m\n\u001b[1;32m    161\u001b[0m \u001b[38;5;66;03m# extract the index position (index) from index value\u001b[39;00m\n\u001b[1;32m    162\u001b[0m covariate_start \u001b[38;5;241m=\u001b[39m covariate_series\u001b[38;5;241m.\u001b[39mtime_index\u001b[38;5;241m.\u001b[39mget_loc(start_time)\n",
      "File \u001b[0;32m~/.conda/envs/darts/lib/python3.11/site-packages/darts/logging.py:78\u001b[0m, in \u001b[0;36mraise_if_not\u001b[0;34m(condition, message, logger)\u001b[0m\n\u001b[1;32m     76\u001b[0m \u001b[38;5;28;01mif\u001b[39;00m \u001b[38;5;129;01mnot\u001b[39;00m condition:\n\u001b[1;32m     77\u001b[0m     logger\u001b[38;5;241m.\u001b[39merror(\u001b[38;5;124m\"\u001b[39m\u001b[38;5;124mValueError: \u001b[39m\u001b[38;5;124m\"\u001b[39m \u001b[38;5;241m+\u001b[39m message)\n\u001b[0;32m---> 78\u001b[0m     \u001b[38;5;28;01mraise\u001b[39;00m \u001b[38;5;167;01mValueError\u001b[39;00m(message)\n",
      "\u001b[0;31mValueError\u001b[0m: Missing covariates; could not find past covariates in index value range: 1955-01-01 00:00:00 - 1956-12-01 00:00:00."
     ]
    }
   ],
   "source": [
    "input_chunk_length = 24\n",
    "forecast_horizon = 12\n",
    "my_model = TFTModel(\n",
    "    input_chunk_length=input_chunk_length,\n",
    "    output_chunk_length=forecast_horizon,\n",
    "    hidden_size=64,\n",
    "    lstm_layers=1,\n",
    "    num_attention_heads=4,\n",
    "    dropout=0.1,\n",
    "    batch_size=16,\n",
    "    n_epochs=300,\n",
    "    add_relative_index=False,\n",
    "    add_encoders=None,\n",
    "    likelihood=QuantileRegression(\n",
    "        quantiles=[0.1,0.5,0.9]\n",
    "    ),  # QuantileRegression is set per default\n",
    "    # loss_fn=MSELoss(),\n",
    "    random_state=42,\n",
    ")\n",
    "my_model.fit(train_transformed, future_covariates=pseries, verbose=True)\n"
   ]
  },
  {
   "cell_type": "code",
   "execution_count": null,
   "id": "43eda281-3318-4832-a177-cf26197654cd",
   "metadata": {},
   "outputs": [],
   "source": []
  }
 ],
 "metadata": {
  "kernelspec": {
   "display_name": "Python 3 (ipykernel)",
   "language": "python",
   "name": "python3"
  },
  "language_info": {
   "codemirror_mode": {
    "name": "ipython",
    "version": 3
   },
   "file_extension": ".py",
   "mimetype": "text/x-python",
   "name": "python",
   "nbconvert_exporter": "python",
   "pygments_lexer": "ipython3",
   "version": "3.11.5"
  }
 },
 "nbformat": 4,
 "nbformat_minor": 5
}
