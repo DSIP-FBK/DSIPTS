{
 "cells": [
  {
   "cell_type": "code",
   "execution_count": 1,
   "id": "ef8f4456-39e8-4bac-9514-dac172858380",
   "metadata": {
    "tags": []
   },
   "outputs": [],
   "source": [
    "import pandas as pd\n",
    "import numpy as np\n",
    "from dsipts import TimeSeries, RNN,read_public_dataset, LinearTS, Persistent, TFT, DilatedConv\n",
    "\n",
    "import matplotlib.pyplot as plt\n",
    "from datetime import timedelta\n",
    "import logging\n",
    "import sys\n",
    "import random\n",
    "\n",
    "\n"
   ]
  },
  {
   "cell_type": "code",
   "execution_count": 31,
   "id": "98dc5459-3670-4357-8059-f3cccade6431",
   "metadata": {
    "tags": []
   },
   "outputs": [],
   "source": [
    "def random_walk(n,level=30):\n",
    "    tot = np.zeros(n)\n",
    "    probs = np.zeros(n)\n",
    "    for i in range(n-1):\n",
    "        prob = random.random()\n",
    "        if prob<0.5:\n",
    "            delta = 1\n",
    "        else:\n",
    "            delta = -1\n",
    "        tot[i+1] = tot[i] + delta\n",
    "        probs[i+1]= prob +(random.random()/level-0.5/level)\n",
    "    return tot, probs"
   ]
  },
  {
   "cell_type": "code",
   "execution_count": 32,
   "id": "843f0c90-c4aa-4118-a167-e8e409c53092",
   "metadata": {
    "tags": []
   },
   "outputs": [],
   "source": [
    "N = 20000\n",
    "random.seed(330)\n",
    "x, p = random_walk(N)\n",
    "data = pd.DataFrame({'y':x/x.max(),'p':p,'time':range(N)})"
   ]
  },
  {
   "cell_type": "code",
   "execution_count": 33,
   "id": "fe218d82-40f9-43c9-8118-818249679ea0",
   "metadata": {},
   "outputs": [],
   "source": [
    "##load the timeseries to the datastructure, adding the hour column and use all the covariates\n",
    "ts = TimeSeries('weather')\n",
    "ts.load_signal(data,enrich_cat=[],target_variables=['y'],past_variables= [],future_variables=['p'])\n",
    "ts.set_verbose(True)\n",
    "#Let now prepare a model predictin the next 16 step using the past 16 steps \n",
    "past_steps = 1\n",
    "future_steps = 64"
   ]
  },
  {
   "cell_type": "code",
   "execution_count": 5,
   "id": "b4e51045-5762-455c-9998-6129b3c7de46",
   "metadata": {
    "tags": []
   },
   "outputs": [],
   "source": [
    "split_params = {'perc_train':0.6,'perc_valid':0.2,                             ##if not None it will split 70% 10% 20%\n",
    "               'range_train':None, 'range_validation':None, 'range_test':None, ## or we can split using ranges for example range_train=['2021-02-03','2022-04-08']\n",
    "               'past_steps':past_steps,\n",
    "               'future_steps':future_steps,\n",
    "               'shift':0,\n",
    "               'starting_point':None,                                          ## do not skip samples\n",
    "               'skip_step' : 1                                                 ## distance between two consecutive samples\n",
    "                             }"
   ]
  },
  {
   "cell_type": "code",
   "execution_count": 40,
   "id": "5dc5ed48-70d2-45d4-9c21-4a5eb8122290",
   "metadata": {
    "tags": []
   },
   "outputs": [
    {
     "name": "stderr",
     "output_type": "stream",
     "text": [
      "Global seed set to 42\n",
      "GPU available: False, used: False\n",
      "TPU available: False, using: 0 TPU cores\n",
      "IPU available: False, using: 0 IPUs\n",
      "HPU available: False, using: 0 HPUs\n"
     ]
    },
    {
     "name": "stdout",
     "output_type": "stream",
     "text": [
      "0.0\n"
     ]
    },
    {
     "name": "stderr",
     "output_type": "stream",
     "text": [
      "/home/agobbi/miniconda3/envs/tt/lib/python3.11/site-packages/pytorch_lightning-1.9.4-py3.11.egg/pytorch_lightning/callbacks/model_checkpoint.py:613: UserWarning: Checkpoint directory /home/agobbi/Projects/ExpTS/rf/linear exists and is not empty.\n",
      "  rank_zero_warn(f\"Checkpoint directory {dirpath} exists and is not empty.\")\n",
      "/home/agobbi/miniconda3/envs/tt/lib/python3.11/site-packages/pytorch_lightning-1.9.4-py3.11.egg/pytorch_lightning/trainer/connectors/data_connector.py:224: PossibleUserWarning: The dataloader, train_dataloader, does not have many workers which may be a bottleneck. Consider increasing the value of the `num_workers` argument` (try 20 which is the number of cpus on this machine) in the `DataLoader` init to improve performance.\n",
      "  rank_zero_warn(\n",
      "/home/agobbi/miniconda3/envs/tt/lib/python3.11/site-packages/pytorch_lightning-1.9.4-py3.11.egg/pytorch_lightning/trainer/connectors/data_connector.py:488: PossibleUserWarning: Your `val_dataloader`'s sampler has shuffling enabled, it is strongly recommended that you turn shuffling off for val/test/predict dataloaders.\n",
      "  rank_zero_warn(\n",
      "/home/agobbi/miniconda3/envs/tt/lib/python3.11/site-packages/pytorch_lightning-1.9.4-py3.11.egg/pytorch_lightning/trainer/connectors/data_connector.py:224: PossibleUserWarning: The dataloader, val_dataloader 0, does not have many workers which may be a bottleneck. Consider increasing the value of the `num_workers` argument` (try 20 which is the number of cpus on this machine) in the `DataLoader` init to improve performance.\n",
      "  rank_zero_warn(\n",
      "Finding best initial lr:  94%|████████████████████████████████████████████████████████████████████████████████████████████████████████████████████████▎       | 94/100 [07:59<00:30,  5.11s/it]\n",
      "LR finder stopped early after 94 steps due to diverging loss.\n",
      "Learning rate set to 0.01445439770745928\n",
      "Restoring states from the checkpoint path at /home/agobbi/Projects/ExpTS/rf/linear/.lr_find_c6c650dc-6f95-44c7-9425-cf92ae7a5ab9.ckpt\n",
      "Restored all states from the checkpoint file at /home/agobbi/Projects/ExpTS/rf/linear/.lr_find_c6c650dc-6f95-44c7-9425-cf92ae7a5ab9.ckpt\n",
      "\n",
      "  | Name                   | Type       | Params\n",
      "------------------------------------------------------\n",
      "0 | embs                   | ModuleList | 0     \n",
      "1 | loss                   | L1Loss     | 0     \n",
      "2 | initial_linear_encoder | Sequential | 1.6 K \n",
      "3 | initial_linear_decoder | Sequential | 1.6 K \n",
      "4 | conv_encoder           | Block      | 24.8 K\n",
      "5 | conv_decoder           | Block      | 18.2 K\n",
      "6 | Encoder                | GRU        | 422 K \n",
      "7 | Decoder                | GRU        | 422 K \n",
      "8 | final_linear           | ModuleList | 76.5 K\n",
      "------------------------------------------------------\n",
      "967 K     Trainable params\n",
      "0         Non-trainable params\n",
      "967 K     Total params\n",
      "3.870     Total estimated model params size (MB)\n",
      "Epoch 0, global step 186: 'val_loss' reached 0.09587 (best 0.09587), saving model to '/home/agobbi/Projects/ExpTS/rf/linear/checkpoint-v11.ckpt' as top 1\n",
      "Epoch 1, global step 372: 'val_loss' reached 0.08792 (best 0.08792), saving model to '/home/agobbi/Projects/ExpTS/rf/linear/checkpoint-v11.ckpt' as top 1\n",
      "Epoch 2, global step 558: 'val_loss' was not in top 1\n",
      "Epoch 3, global step 744: 'val_loss' was not in top 1\n",
      "Epoch 4, global step 930: 'val_loss' reached 0.07321 (best 0.07321), saving model to '/home/agobbi/Projects/ExpTS/rf/linear/checkpoint-v11.ckpt' as top 1\n",
      "Epoch 5, global step 1116: 'val_loss' was not in top 1\n",
      "Epoch 6, global step 1302: 'val_loss' was not in top 1\n",
      "Epoch 7, global step 1488: 'val_loss' was not in top 1\n",
      "Epoch 8, global step 1674: 'val_loss' was not in top 1\n",
      "Epoch 9, global step 1860: 'val_loss' was not in top 1\n",
      "Epoch 10, global step 2046: 'val_loss' was not in top 1\n",
      "Epoch 11, global step 2232: 'val_loss' was not in top 1\n",
      "Epoch 12, global step 2418: 'val_loss' was not in top 1\n",
      "Epoch 13, global step 2604: 'val_loss' was not in top 1\n",
      "Epoch 14, global step 2790: 'val_loss' was not in top 1\n",
      "Epoch 15, global step 2976: 'val_loss' was not in top 1\n",
      "Epoch 16, global step 3162: 'val_loss' was not in top 1\n",
      "Epoch 17, global step 3348: 'val_loss' was not in top 1\n",
      "Epoch 18, global step 3534: 'val_loss' was not in top 1\n",
      "Epoch 19, global step 3720: 'val_loss' was not in top 1\n",
      "`Trainer.fit` stopped: `max_epochs=20` reached.\n"
     ]
    },
    {
     "name": "stdout",
     "output_type": "stream",
     "text": [
      "Saving losses on file because multigpu not working\n"
     ]
    },
    {
     "name": "stderr",
     "output_type": "stream",
     "text": [
      "Global seed set to 42\n",
      "GPU available: False, used: False\n",
      "TPU available: False, using: 0 TPU cores\n",
      "IPU available: False, using: 0 IPUs\n",
      "HPU available: False, using: 0 HPUs\n"
     ]
    },
    {
     "name": "stdout",
     "output_type": "stream",
     "text": [
      "0.5\n"
     ]
    },
    {
     "name": "stderr",
     "output_type": "stream",
     "text": [
      "/home/agobbi/miniconda3/envs/tt/lib/python3.11/site-packages/pytorch_lightning-1.9.4-py3.11.egg/pytorch_lightning/callbacks/model_checkpoint.py:613: UserWarning: Checkpoint directory /home/agobbi/Projects/ExpTS/rf/linear exists and is not empty.\n",
      "  rank_zero_warn(f\"Checkpoint directory {dirpath} exists and is not empty.\")\n",
      "/home/agobbi/miniconda3/envs/tt/lib/python3.11/site-packages/pytorch_lightning-1.9.4-py3.11.egg/pytorch_lightning/trainer/connectors/data_connector.py:224: PossibleUserWarning: The dataloader, train_dataloader, does not have many workers which may be a bottleneck. Consider increasing the value of the `num_workers` argument` (try 20 which is the number of cpus on this machine) in the `DataLoader` init to improve performance.\n",
      "  rank_zero_warn(\n",
      "/home/agobbi/miniconda3/envs/tt/lib/python3.11/site-packages/pytorch_lightning-1.9.4-py3.11.egg/pytorch_lightning/trainer/connectors/data_connector.py:488: PossibleUserWarning: Your `val_dataloader`'s sampler has shuffling enabled, it is strongly recommended that you turn shuffling off for val/test/predict dataloaders.\n",
      "  rank_zero_warn(\n",
      "/home/agobbi/miniconda3/envs/tt/lib/python3.11/site-packages/pytorch_lightning-1.9.4-py3.11.egg/pytorch_lightning/trainer/connectors/data_connector.py:224: PossibleUserWarning: The dataloader, val_dataloader 0, does not have many workers which may be a bottleneck. Consider increasing the value of the `num_workers` argument` (try 20 which is the number of cpus on this machine) in the `DataLoader` init to improve performance.\n",
      "  rank_zero_warn(\n",
      "Finding best initial lr:  94%|████████████████████████████████████████████████████████████████████████████████████████████████████████████████████████▎       | 94/100 [08:13<00:31,  5.25s/it]\n",
      "LR finder stopped early after 94 steps due to diverging loss.\n",
      "Learning rate set to 0.0003019951720402019\n",
      "Restoring states from the checkpoint path at /home/agobbi/Projects/ExpTS/rf/linear/.lr_find_1bb3addf-1111-4bce-816b-3bc7219c7d0d.ckpt\n",
      "Restored all states from the checkpoint file at /home/agobbi/Projects/ExpTS/rf/linear/.lr_find_1bb3addf-1111-4bce-816b-3bc7219c7d0d.ckpt\n",
      "\n",
      "  | Name                   | Type       | Params\n",
      "------------------------------------------------------\n",
      "0 | embs                   | ModuleList | 0     \n",
      "1 | loss                   | L1Loss     | 0     \n",
      "2 | initial_linear_encoder | Sequential | 1.6 K \n",
      "3 | initial_linear_decoder | Sequential | 1.6 K \n",
      "4 | conv_encoder           | Block      | 24.8 K\n",
      "5 | conv_decoder           | Block      | 18.2 K\n",
      "6 | Encoder                | GRU        | 422 K \n",
      "7 | Decoder                | GRU        | 422 K \n",
      "8 | final_linear           | ModuleList | 76.5 K\n",
      "------------------------------------------------------\n",
      "967 K     Trainable params\n",
      "0         Non-trainable params\n",
      "967 K     Total params\n",
      "3.870     Total estimated model params size (MB)\n",
      "Epoch 0, global step 186: 'val_loss' reached 0.18964 (best 0.18964), saving model to '/home/agobbi/Projects/ExpTS/rf/linear/checkpoint-v12.ckpt' as top 1\n",
      "Epoch 1, global step 372: 'val_loss' was not in top 1\n",
      "Epoch 2, global step 558: 'val_loss' reached 0.15641 (best 0.15641), saving model to '/home/agobbi/Projects/ExpTS/rf/linear/checkpoint-v12.ckpt' as top 1\n",
      "Epoch 3, global step 744: 'val_loss' was not in top 1\n",
      "Epoch 4, global step 930: 'val_loss' was not in top 1\n",
      "Epoch 5, global step 1116: 'val_loss' was not in top 1\n",
      "Epoch 6, global step 1302: 'val_loss' was not in top 1\n",
      "Epoch 7, global step 1488: 'val_loss' was not in top 1\n",
      "Epoch 8, global step 1674: 'val_loss' was not in top 1\n",
      "Epoch 9, global step 1860: 'val_loss' was not in top 1\n",
      "Epoch 10, global step 2046: 'val_loss' was not in top 1\n",
      "Epoch 11, global step 2232: 'val_loss' was not in top 1\n",
      "Epoch 12, global step 2418: 'val_loss' was not in top 1\n",
      "Epoch 13, global step 2604: 'val_loss' was not in top 1\n",
      "Epoch 14, global step 2790: 'val_loss' was not in top 1\n",
      "Epoch 15, global step 2976: 'val_loss' was not in top 1\n",
      "Epoch 16, global step 3162: 'val_loss' was not in top 1\n",
      "Epoch 17, global step 3348: 'val_loss' was not in top 1\n",
      "Epoch 18, global step 3534: 'val_loss' was not in top 1\n",
      "Epoch 19, global step 3720: 'val_loss' was not in top 1\n",
      "`Trainer.fit` stopped: `max_epochs=20` reached.\n"
     ]
    },
    {
     "name": "stdout",
     "output_type": "stream",
     "text": [
      "Saving losses on file because multigpu not working\n"
     ]
    }
   ],
   "source": [
    "res_tot = {}\n",
    "for w in np.arange(0,1,0.5):\n",
    "    print(w)\n",
    "    config = dict(model_configs =dict(\n",
    "                                        past_steps = past_steps,\n",
    "                                        future_steps = future_steps,\n",
    "                                        past_channels = len(ts.past_variables),\n",
    "                                        future_channels = len(ts.future_variables),\n",
    "                                        embs = [ts.dataset[c].nunique() for c in ts.cat_var],\n",
    "                                        cat_emb_dim = 8,\n",
    "                                        kernel_size = 3,\n",
    "                                        hidden_RNN=128,\n",
    "                                        kind='gru',\n",
    "                                        num_layers_RNN=6,\n",
    "                                        use_glu=False,\n",
    "                                         use_bn = False,\n",
    "                                        dropout_rate=0.25,\n",
    "                                          optim='torch.optim.Adam',\n",
    "                                          activation= 'torch.nn.GELU',\n",
    "                                         sum_emb = True,\n",
    "                                         out_channels = len(ts.target_variables),\n",
    "                                        quantiles= [],\n",
    "                                        persistence_weight =w,\n",
    "                                        loss_type='exponential_penalization'\n",
    "                                        ),\n",
    "                    scheduler_config = dict(gamma=0.1,step_size=24000000000000000),\n",
    "                    optim_config = dict(lr = 0.0005,weight_decay=0.00))\n",
    "    model_linear = DilatedConv(**config['model_configs'],optim_config = config['optim_config'],scheduler_config =config['scheduler_config'],verbose=False )\n",
    "    ts.set_model(model_linear,config=config,custom_init=True )\n",
    "    #train the model for 50 epochs with auto_lr_find \n",
    "    ts.train_model(dirpath=f\"/home/agobbi/Projects/ExpTS/rf/linear\",\n",
    "                   split_params=split_params,\n",
    "                   batch_size=64,\n",
    "                   num_workers=2,\n",
    "                   max_epochs=20,\n",
    "                   auto_lr_find=True)\n",
    "    res = ts.inference_on_set(200,4,set='test',rescaling=True)\n",
    "    res_tot[w] = res.copy()"
   ]
  },
  {
   "cell_type": "code",
   "execution_count": 42,
   "id": "26975a6a-593b-4404-ac09-09dce13b3e77",
   "metadata": {
    "tags": []
   },
   "outputs": [
    {
     "data": {
      "text/plain": [
       "<matplotlib.legend.Legend at 0x7f85f5d8b210>"
      ]
     },
     "execution_count": 42,
     "metadata": {},
     "output_type": "execute_result"
    },
    {
     "data": {
      "image/png": "[encoded data removed]",
      "text/plain": [
       "<Figure size 640x480 with 1 Axes>"
      ]
     },
     "metadata": {},
     "output_type": "display_data"
    }
   ],
   "source": [
    "error = {}\n",
    "for k in res_tot.keys():\n",
    "    error[k] = res_tot[k].groupby('lag').apply(lambda x: np.sqrt(np.mean((x.y_pred-x.y)**2))).reset_index()\n",
    "    plt.plot(error[k].lag, error[k][0],label=k)\n",
    "plt.legend()"
   ]
  },
  {
   "cell_type": "code",
   "execution_count": 35,
   "id": "16ef4256-7518-4418-878f-a7f3681be2ff",
   "metadata": {
    "tags": []
   },
   "outputs": [
    {
     "ename": "AttributeError",
     "evalue": "'TimeSeries' object has no attribute 'losses'",
     "output_type": "error",
     "traceback": [
      "\u001b[0;31m---------------------------------------------------------------------------\u001b[0m",
      "\u001b[0;31mAttributeError\u001b[0m                            Traceback (most recent call last)",
      "Cell \u001b[0;32mIn[35], line 1\u001b[0m\n\u001b[0;32m----> 1\u001b[0m \u001b[43mts\u001b[49m\u001b[38;5;241;43m.\u001b[39;49m\u001b[43mlosses\u001b[49m\n",
      "\u001b[0;31mAttributeError\u001b[0m: 'TimeSeries' object has no attribute 'losses'"
     ]
    }
   ],
   "source": [
    "ts.losses"
   ]
  },
  {
   "cell_type": "code",
   "execution_count": 10,
   "id": "7e439300-d754-4ee7-a7c3-4dc4891e8bbd",
   "metadata": {},
   "outputs": [
    {
     "data": {
      "text/html": [
       "<div>\n",
       "<style scoped>\n",
       "    .dataframe tbody tr th:only-of-type {\n",
       "        vertical-align: middle;\n",
       "    }\n",
       "\n",
       "    .dataframe tbody tr th {\n",
       "        vertical-align: top;\n",
       "    }\n",
       "\n",
       "    .dataframe thead th {\n",
       "        text-align: right;\n",
       "    }\n",
       "</style>\n",
       "<table border=\"1\" class=\"dataframe\">\n",
       "  <thead>\n",
       "    <tr style=\"text-align: right;\">\n",
       "      <th></th>\n",
       "      <th>lag</th>\n",
       "      <th>time</th>\n",
       "      <th>y</th>\n",
       "      <th>y_pred</th>\n",
       "      <th>prediction_time</th>\n",
       "    </tr>\n",
       "  </thead>\n",
       "  <tbody>\n",
       "    <tr>\n",
       "      <th>0</th>\n",
       "      <td>1</td>\n",
       "      <td>16001</td>\n",
       "      <td>0.056452</td>\n",
       "      <td>0.047815</td>\n",
       "      <td>16000</td>\n",
       "    </tr>\n",
       "    <tr>\n",
       "      <th>1</th>\n",
       "      <td>1</td>\n",
       "      <td>16002</td>\n",
       "      <td>0.064516</td>\n",
       "      <td>0.053669</td>\n",
       "      <td>16001</td>\n",
       "    </tr>\n",
       "    <tr>\n",
       "      <th>2</th>\n",
       "      <td>1</td>\n",
       "      <td>16003</td>\n",
       "      <td>0.072581</td>\n",
       "      <td>0.057960</td>\n",
       "      <td>16002</td>\n",
       "    </tr>\n",
       "    <tr>\n",
       "      <th>3</th>\n",
       "      <td>1</td>\n",
       "      <td>16004</td>\n",
       "      <td>0.064516</td>\n",
       "      <td>0.054653</td>\n",
       "      <td>16003</td>\n",
       "    </tr>\n",
       "    <tr>\n",
       "      <th>4</th>\n",
       "      <td>1</td>\n",
       "      <td>16005</td>\n",
       "      <td>0.072581</td>\n",
       "      <td>0.057737</td>\n",
       "      <td>16004</td>\n",
       "    </tr>\n",
       "    <tr>\n",
       "      <th>...</th>\n",
       "      <td>...</td>\n",
       "      <td>...</td>\n",
       "      <td>...</td>\n",
       "      <td>...</td>\n",
       "      <td>...</td>\n",
       "    </tr>\n",
       "    <tr>\n",
       "      <th>251835</th>\n",
       "      <td>64</td>\n",
       "      <td>19994</td>\n",
       "      <td>0.709677</td>\n",
       "      <td>0.500740</td>\n",
       "      <td>19930</td>\n",
       "    </tr>\n",
       "    <tr>\n",
       "      <th>251836</th>\n",
       "      <td>64</td>\n",
       "      <td>19995</td>\n",
       "      <td>0.701613</td>\n",
       "      <td>0.493659</td>\n",
       "      <td>19931</td>\n",
       "    </tr>\n",
       "    <tr>\n",
       "      <th>251837</th>\n",
       "      <td>64</td>\n",
       "      <td>19996</td>\n",
       "      <td>0.709677</td>\n",
       "      <td>0.502800</td>\n",
       "      <td>19932</td>\n",
       "    </tr>\n",
       "    <tr>\n",
       "      <th>251838</th>\n",
       "      <td>64</td>\n",
       "      <td>19997</td>\n",
       "      <td>0.701613</td>\n",
       "      <td>0.495771</td>\n",
       "      <td>19933</td>\n",
       "    </tr>\n",
       "    <tr>\n",
       "      <th>251839</th>\n",
       "      <td>64</td>\n",
       "      <td>19998</td>\n",
       "      <td>0.709677</td>\n",
       "      <td>0.500561</td>\n",
       "      <td>19934</td>\n",
       "    </tr>\n",
       "  </tbody>\n",
       "</table>\n",
       "<p>251840 rows × 5 columns</p>\n",
       "</div>"
      ],
      "text/plain": [
       "        lag   time         y    y_pred  prediction_time\n",
       "0         1  16001  0.056452  0.047815            16000\n",
       "1         1  16002  0.064516  0.053669            16001\n",
       "2         1  16003  0.072581  0.057960            16002\n",
       "3         1  16004  0.064516  0.054653            16003\n",
       "4         1  16005  0.072581  0.057737            16004\n",
       "...     ...    ...       ...       ...              ...\n",
       "251835   64  19994  0.709677  0.500740            19930\n",
       "251836   64  19995  0.701613  0.493659            19931\n",
       "251837   64  19996  0.709677  0.502800            19932\n",
       "251838   64  19997  0.701613  0.495771            19933\n",
       "251839   64  19998  0.709677  0.500561            19934\n",
       "\n",
       "[251840 rows x 5 columns]"
      ]
     },
     "execution_count": 10,
     "metadata": {},
     "output_type": "execute_result"
    }
   ],
   "source": [
    " res_tot[k]"
   ]
  },
  {
   "cell_type": "code",
   "execution_count": null,
   "id": "b39f5fef-92e5-4e6a-81c7-21cc0f39d473",
   "metadata": {},
   "outputs": [],
   "source": [
    "#0.5 --  0.026778758\n",
    "#0   -- 0.027390912"
   ]
  },
  {
   "cell_type": "code",
   "execution_count": null,
   "id": "825d311e-c340-4e9e-8340-3f5e7d129201",
   "metadata": {
    "tags": []
   },
   "outputs": [],
   "source": [
    "##0 -- 0.026814144\n",
    "##2 -- 0.026652765\n",
    "##5 -- 0.026685152"
   ]
  },
  {
   "cell_type": "code",
   "execution_count": 43,
   "id": "222cd592-9a84-41b0-8d00-a2562a423588",
   "metadata": {},
   "outputs": [],
   "source": [
    "for i,k in enumerate(res_tot.keys()):\n",
    "    res_tot[k]['prediction_time'] = res_tot[k].apply(lambda x: int(x.time-x.lag), axis=1)\n"
   ]
  },
  {
   "cell_type": "code",
   "execution_count": 44,
   "id": "65c0e384-596d-4f78-b867-36add5ce63a8",
   "metadata": {
    "tags": []
   },
   "outputs": [
    {
     "data": {
      "text/plain": [
       "<matplotlib.legend.Legend at 0x7f85af16b650>"
      ]
     },
     "execution_count": 44,
     "metadata": {},
     "output_type": "execute_result"
    },
    {
     "data": {
      "image/png": "[encoded data removed]",
      "text/plain": [
       "<Figure size 640x480 with 1 Axes>"
      ]
     },
     "metadata": {},
     "output_type": "display_data"
    }
   ],
   "source": [
    "plt.figure()\n",
    "date=18980\n",
    "for i,k in enumerate(res_tot.keys()):\n",
    "    if i ==0:\n",
    "        plt.plot( res_tot[k][ res_tot[k].prediction_time==date].time,  res_tot[k][ res_tot[k].prediction_time==date].y,label='real',alpha=0.5)\n",
    "    plt.plot( res_tot[k][ res_tot[k].prediction_time==date].time,  res_tot[k][ res_tot[k].prediction_time==date].y_pred,label=k,alpha=0.5)\n",
    "plt.legend()"
   ]
  },
  {
   "cell_type": "code",
   "execution_count": 28,
   "id": "55e04216-3178-4b2f-86ec-3abaad372424",
   "metadata": {
    "tags": []
   },
   "outputs": [
    {
     "name": "stdout",
     "output_type": "stream",
     "text": [
      "0.0 0.010839485\n",
      "0.5 0.009472882\n",
      "1.0 0.011355778\n",
      "1.5 0.011656998\n"
     ]
    }
   ],
   "source": [
    "for k in res_tot:\n",
    "    print(k,res_tot[k].groupby('lag').apply(lambda x: np.nanmean((x.y-x.y_pred)**2)).reset_index().rename(columns={0:'error'}).error.mean())"
   ]
  },
  {
   "cell_type": "code",
   "execution_count": null,
   "id": "470d8600-b39d-42b1-8ed4-b1cc198c2da3",
   "metadata": {},
   "outputs": [],
   "source": []
  }
 ],
 "metadata": {
  "kernelspec": {
   "display_name": "Python 3 (ipykernel)",
   "language": "python",
   "name": "python3"
  },
  "language_info": {
   "codemirror_mode": {
    "name": "ipython",
    "version": 3
   },
   "file_extension": ".py",
   "mimetype": "text/x-python",
   "name": "python",
   "nbconvert_exporter": "python",
   "pygments_lexer": "ipython3",
   "version": "3.11.5"
  }
 },
 "nbformat": 4,
 "nbformat_minor": 5
}
