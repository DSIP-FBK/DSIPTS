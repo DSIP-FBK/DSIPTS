{
 "cells": [
  {
   "cell_type": "code",
   "execution_count": 1,
   "id": "ef8f4456-39e8-4bac-9514-dac172858380",
   "metadata": {
    "tags": []
   },
   "outputs": [],
   "source": [
    "import pandas as pd\n",
    "import numpy as np\n",
    "from dsipts import TimeSeries, RNN,read_public_dataset, LinearTS, Persistent, TFT, DilatedConv\n",
    "\n",
    "import matplotlib.pyplot as plt\n",
    "from datetime import timedelta\n",
    "import logging\n",
    "import sys\n",
    "import random\n",
    "\n",
    "\n"
   ]
  },
  {
   "cell_type": "code",
   "execution_count": 2,
   "id": "98dc5459-3670-4357-8059-f3cccade6431",
   "metadata": {
    "tags": []
   },
   "outputs": [],
   "source": [
    "def random_walk(n,level=20):\n",
    "    tot = np.zeros(n)\n",
    "    probs = np.zeros(n)\n",
    "    for i in range(n-1):\n",
    "        prob = random.random()\n",
    "        if prob<0.5:\n",
    "            delta = 1\n",
    "        else:\n",
    "            delta = -1\n",
    "        tot[i+1] = tot[i] + delta\n",
    "        probs[i+1]= prob +(random.random()/level-0.5/level)\n",
    "    return tot, probs"
   ]
  },
  {
   "cell_type": "code",
   "execution_count": 3,
   "id": "843f0c90-c4aa-4118-a167-e8e409c53092",
   "metadata": {
    "tags": []
   },
   "outputs": [],
   "source": [
    "N = 20000\n",
    "random.seed(18)\n",
    "x, p = random_walk(N)\n",
    "data = pd.DataFrame({'y':x/x.max(),'p':p,'time':range(N)})"
   ]
  },
  {
   "cell_type": "code",
   "execution_count": 4,
   "id": "fe218d82-40f9-43c9-8118-818249679ea0",
   "metadata": {},
   "outputs": [],
   "source": [
    "##load the timeseries to the datastructure, adding the hour column and use all the covariates\n",
    "ts = TimeSeries('weather')\n",
    "ts.load_signal(data,enrich_cat=[],target_variables=['y'],past_variables= [],future_variables=['p'])\n",
    "ts.set_verbose(False)\n",
    "#Let now prepare a model predictin the next 16 step using the past 16 steps \n",
    "past_steps = 1\n",
    "future_steps = 64"
   ]
  },
  {
   "cell_type": "code",
   "execution_count": 5,
   "id": "b4e51045-5762-455c-9998-6129b3c7de46",
   "metadata": {
    "tags": []
   },
   "outputs": [],
   "source": [
    "split_params = {'perc_train':0.6,'perc_valid':0.2,                             ##if not None it will split 70% 10% 20%\n",
    "               'range_train':None, 'range_validation':None, 'range_test':None, ## or we can split using ranges for example range_train=['2021-02-03','2022-04-08']\n",
    "               'past_steps':past_steps,\n",
    "               'future_steps':future_steps,\n",
    "               'shift':0,\n",
    "               'starting_point':None,                                          ## do not skip samples\n",
    "               'skip_step' : 1                                                 ## distance between two consecutive samples\n",
    "                             }"
   ]
  },
  {
   "cell_type": "code",
   "execution_count": null,
   "id": "5dc5ed48-70d2-45d4-9c21-4a5eb8122290",
   "metadata": {
    "tags": []
   },
   "outputs": [
    {
     "name": "stderr",
     "output_type": "stream",
     "text": [
      "Global seed set to 42\n",
      "GPU available: False, used: False\n",
      "TPU available: False, using: 0 TPU cores\n",
      "IPU available: False, using: 0 IPUs\n",
      "HPU available: False, using: 0 HPUs\n"
     ]
    },
    {
     "name": "stdout",
     "output_type": "stream",
     "text": [
      "0.0\n"
     ]
    },
    {
     "name": "stderr",
     "output_type": "stream",
     "text": [
      "/home/agobbi/miniconda3/envs/tt/lib/python3.11/site-packages/pytorch_lightning-1.9.4-py3.11.egg/pytorch_lightning/callbacks/model_checkpoint.py:613: UserWarning: Checkpoint directory /home/agobbi/Projects/ExpTS/rf/linear exists and is not empty.\n",
      "  rank_zero_warn(f\"Checkpoint directory {dirpath} exists and is not empty.\")\n",
      "/home/agobbi/miniconda3/envs/tt/lib/python3.11/site-packages/pytorch_lightning-1.9.4-py3.11.egg/pytorch_lightning/trainer/connectors/data_connector.py:224: PossibleUserWarning: The dataloader, train_dataloader, does not have many workers which may be a bottleneck. Consider increasing the value of the `num_workers` argument` (try 20 which is the number of cpus on this machine) in the `DataLoader` init to improve performance.\n",
      "  rank_zero_warn(\n",
      "/home/agobbi/miniconda3/envs/tt/lib/python3.11/site-packages/pytorch_lightning-1.9.4-py3.11.egg/pytorch_lightning/trainer/connectors/data_connector.py:488: PossibleUserWarning: Your `val_dataloader`'s sampler has shuffling enabled, it is strongly recommended that you turn shuffling off for val/test/predict dataloaders.\n",
      "  rank_zero_warn(\n",
      "/home/agobbi/miniconda3/envs/tt/lib/python3.11/site-packages/pytorch_lightning-1.9.4-py3.11.egg/pytorch_lightning/trainer/connectors/data_connector.py:224: PossibleUserWarning: The dataloader, val_dataloader 0, does not have many workers which may be a bottleneck. Consider increasing the value of the `num_workers` argument` (try 20 which is the number of cpus on this machine) in the `DataLoader` init to improve performance.\n",
      "  rank_zero_warn(\n",
      "\n",
      "Finding best initial lr:   0%|                                                                                                                                         | 0/100 [00:00<?, ?it/s]\u001b[A\n",
      "Finding best initial lr:   1%|█▎                                                                                                                               | 1/100 [00:01<01:44,  1.05s/it]\u001b[A\n",
      "Finding best initial lr:   2%|██▌                                                                                                                              | 2/100 [00:02<01:40,  1.03s/it]\u001b[A\n",
      "Finding best initial lr:   3%|███▊                                                                                                                             | 3/100 [00:03<01:41,  1.05s/it]\u001b[A\n",
      "Finding best initial lr:   4%|█████▏                                                                                                                           | 4/100 [00:04<01:41,  1.06s/it]\u001b[A\n",
      "Finding best initial lr:   5%|██████▍                                                                                                                          | 5/100 [00:05<01:37,  1.03s/it]\u001b[A\n",
      "Finding best initial lr:   6%|███████▋                                                                                                                         | 6/100 [00:06<01:40,  1.07s/it]\u001b[A\n",
      "Finding best initial lr:   7%|█████████                                                                                                                        | 7/100 [00:07<01:39,  1.07s/it]\u001b[A\n",
      "Finding best initial lr:   8%|██████████▎                                                                                                                      | 8/100 [00:08<01:35,  1.04s/it]\u001b[A\n",
      "Finding best initial lr:   9%|███████████▌                                                                                                                     | 9/100 [00:09<01:31,  1.00s/it]\u001b[A\n",
      "Finding best initial lr:  10%|████████████▊                                                                                                                   | 10/100 [00:10<01:29,  1.01it/s]\u001b[A\n",
      "Finding best initial lr:  11%|██████████████                                                                                                                  | 11/100 [00:11<01:32,  1.04s/it]\u001b[A\n",
      "Finding best initial lr:  12%|███████████████▎                                                                                                                | 12/100 [00:12<01:30,  1.03s/it]\u001b[A\n",
      "Finding best initial lr:  13%|████████████████▋                                                                                                               | 13/100 [00:13<01:31,  1.05s/it]\u001b[A\n",
      "Finding best initial lr:  14%|█████████████████▉                                                                                                              | 14/100 [00:14<01:31,  1.07s/it]\u001b[A\n",
      "Finding best initial lr:  15%|███████████████████▏                                                                                                            | 15/100 [00:15<01:32,  1.09s/it]\u001b[A\n",
      "Finding best initial lr:  16%|████████████████████▍                                                                                                           | 16/100 [00:16<01:29,  1.07s/it]\u001b[A\n",
      "Finding best initial lr:  17%|█████████████████████▊                                                                                                          | 17/100 [00:17<01:25,  1.03s/it]\u001b[A\n",
      "Finding best initial lr:  18%|███████████████████████                                                                                                         | 18/100 [00:18<01:21,  1.00it/s]\u001b[A\n",
      "Finding best initial lr:  19%|████████████████████████▎                                                                                                       | 19/100 [00:19<01:18,  1.03it/s]\u001b[A\n",
      "Finding best initial lr:  20%|█████████████████████████▌                                                                                                      | 20/100 [00:20<01:16,  1.04it/s]\u001b[A\n",
      "Finding best initial lr:  21%|██████████████████████████▉                                                                                                     | 21/100 [00:21<01:18,  1.01it/s]\u001b[A\n",
      "Finding best initial lr:  22%|████████████████████████████▏                                                                                                   | 22/100 [00:22<01:16,  1.03it/s]\u001b[A\n",
      "Finding best initial lr:  23%|█████████████████████████████▍                                                                                                  | 23/100 [00:23<01:14,  1.04it/s]\u001b[A\n",
      "Finding best initial lr:  24%|██████████████████████████████▋                                                                                                 | 24/100 [00:24<01:14,  1.02it/s]\u001b[A\n",
      "Finding best initial lr:  25%|████████████████████████████████                                                                                                | 25/100 [00:25<01:15,  1.01s/it]\u001b[A\n",
      "Finding best initial lr:  26%|█████████████████████████████████▎                                                                                              | 26/100 [00:26<01:15,  1.02s/it]\u001b[A\n",
      "Finding best initial lr:  27%|██████████████████████████████████▌                                                                                             | 27/100 [00:27<01:16,  1.04s/it]\u001b[A\n",
      "Finding best initial lr:  28%|███████████████████████████████████▊                                                                                            | 28/100 [00:28<01:18,  1.09s/it]\u001b[A\n",
      "Finding best initial lr:  29%|█████████████████████████████████████                                                                                           | 29/100 [00:29<01:17,  1.09s/it]\u001b[A\n",
      "Finding best initial lr:  30%|██████████████████████████████████████▍                                                                                         | 30/100 [00:30<01:14,  1.06s/it]\u001b[A\n",
      "Finding best initial lr:  31%|███████████████████████████████████████▋                                                                                        | 31/100 [00:31<01:10,  1.02s/it]\u001b[A\n",
      "Finding best initial lr:  32%|████████████████████████████████████████▉                                                                                       | 32/100 [00:33<01:12,  1.06s/it]\u001b[A\n",
      "Finding best initial lr:  33%|██████████████████████████████████████████▏                                                                                     | 33/100 [00:34<01:13,  1.10s/it]\u001b[A\n",
      "Finding best initial lr:  34%|███████████████████████████████████████████▌                                                                                    | 34/100 [00:35<01:15,  1.14s/it]\u001b[A\n",
      "Finding best initial lr:  35%|████████████████████████████████████████████▊                                                                                   | 35/100 [00:36<01:12,  1.12s/it]\u001b[A\n",
      "Finding best initial lr:  36%|██████████████████████████████████████████████                                                                                  | 36/100 [00:37<01:10,  1.10s/it]\u001b[A\n",
      "Finding best initial lr:  37%|███████████████████████████████████████████████▎                                                                                | 37/100 [00:38<01:11,  1.13s/it]\u001b[A\n",
      "Finding best initial lr:  38%|████████████████████████████████████████████████▋                                                                               | 38/100 [00:39<01:10,  1.14s/it]\u001b[A\n",
      "Finding best initial lr:  39%|█████████████████████████████████████████████████▉                                                                              | 39/100 [00:41<01:09,  1.14s/it]\u001b[A\n",
      "Finding best initial lr:  40%|███████████████████████████████████████████████████▏                                                                            | 40/100 [00:42<01:06,  1.11s/it]\u001b[A\n",
      "Finding best initial lr:  41%|████████████████████████████████████████████████████▍                                                                           | 41/100 [00:43<01:02,  1.05s/it]\u001b[A\n",
      "Finding best initial lr:  42%|█████████████████████████████████████████████████████▊                                                                          | 42/100 [00:43<00:58,  1.02s/it]\u001b[A\n",
      "Finding best initial lr:  43%|███████████████████████████████████████████████████████                                                                         | 43/100 [00:45<00:58,  1.02s/it]\u001b[A\n",
      "Finding best initial lr:  44%|████████████████████████████████████████████████████████▎                                                                       | 44/100 [00:45<00:55,  1.01it/s]\u001b[A\n",
      "Finding best initial lr:  45%|█████████████████████████████████████████████████████████▌                                                                      | 45/100 [00:47<00:55,  1.02s/it]\u001b[A\n",
      "Finding best initial lr:  46%|██████████████████████████████████████████████████████████▉                                                                     | 46/100 [00:48<00:54,  1.01s/it]\u001b[A\n",
      "Finding best initial lr:  47%|████████████████████████████████████████████████████████████▏                                                                   | 47/100 [00:49<00:55,  1.05s/it]\u001b[A\n",
      "Finding best initial lr:  48%|█████████████████████████████████████████████████████████████▍                                                                  | 48/100 [00:50<00:57,  1.10s/it]\u001b[A\n",
      "Finding best initial lr:  49%|██████████████████████████████████████████████████████████████▋                                                                 | 49/100 [00:51<00:57,  1.13s/it]\u001b[A\n",
      "Finding best initial lr:  50%|████████████████████████████████████████████████████████████████                                                                | 50/100 [00:52<00:56,  1.13s/it]\u001b[A\n",
      "Finding best initial lr:  51%|█████████████████████████████████████████████████████████████████▎                                                              | 51/100 [00:53<00:54,  1.11s/it]\u001b[A\n",
      "Finding best initial lr:  52%|██████████████████████████████████████████████████████████████████▌                                                             | 52/100 [00:54<00:53,  1.12s/it]\u001b[A\n",
      "Finding best initial lr:  53%|███████████████████████████████████████████████████████████████████▊                                                            | 53/100 [00:56<00:52,  1.12s/it]\u001b[A\n",
      "Finding best initial lr:  54%|█████████████████████████████████████████████████████████████████████                                                           | 54/100 [00:57<00:52,  1.15s/it]\u001b[A\n",
      "Finding best initial lr:  55%|██████████████████████████████████████████████████████████████████████▍                                                         | 55/100 [00:58<00:51,  1.15s/it]\u001b[A\n",
      "Finding best initial lr:  56%|███████████████████████████████████████████████████████████████████████▋                                                        | 56/100 [00:59<00:50,  1.15s/it]\u001b[A\n",
      "Finding best initial lr:  57%|████████████████████████████████████████████████████████████████████████▉                                                       | 57/100 [01:00<00:47,  1.10s/it]\u001b[A\n",
      "Finding best initial lr:  58%|██████████████████████████████████████████████████████████████████████████▏                                                     | 58/100 [01:01<00:45,  1.07s/it]\u001b[A\n",
      "Finding best initial lr:  59%|███████████████████████████████████████████████████████████████████████████▌                                                    | 59/100 [01:02<00:43,  1.07s/it]\u001b[A\n",
      "Finding best initial lr:  60%|████████████████████████████████████████████████████████████████████████████▊                                                   | 60/100 [01:03<00:43,  1.08s/it]\u001b[A\n",
      "Finding best initial lr:  61%|██████████████████████████████████████████████████████████████████████████████                                                  | 61/100 [01:04<00:42,  1.08s/it]\u001b[A\n",
      "Finding best initial lr:  62%|███████████████████████████████████████████████████████████████████████████████▎                                                | 62/100 [01:05<00:40,  1.07s/it]\u001b[A\n",
      "Finding best initial lr:  63%|████████████████████████████████████████████████████████████████████████████████▋                                               | 63/100 [01:06<00:39,  1.07s/it]\u001b[A\n",
      "Finding best initial lr:  64%|█████████████████████████████████████████████████████████████████████████████████▉                                              | 64/100 [01:08<00:39,  1.11s/it]\u001b[A\n",
      "Finding best initial lr:  65%|███████████████████████████████████████████████████████████████████████████████████▏                                            | 65/100 [01:09<00:39,  1.13s/it]\u001b[A\n",
      "Finding best initial lr:  66%|████████████████████████████████████████████████████████████████████████████████████▍                                           | 66/100 [01:10<00:37,  1.10s/it]\u001b[A\n",
      "Finding best initial lr:  67%|█████████████████████████████████████████████████████████████████████████████████████▊                                          | 67/100 [01:11<00:36,  1.09s/it]\u001b[A\n",
      "Finding best initial lr:  68%|███████████████████████████████████████████████████████████████████████████████████████                                         | 68/100 [01:12<00:33,  1.06s/it]\u001b[A\n",
      "Finding best initial lr:  69%|████████████████████████████████████████████████████████████████████████████████████████▎                                       | 69/100 [01:13<00:31,  1.02s/it]\u001b[A\n",
      "Finding best initial lr:  70%|█████████████████████████████████████████████████████████████████████████████████████████▌                                      | 70/100 [01:14<00:29,  1.01it/s]\u001b[A\n",
      "Finding best initial lr:  71%|██████████████████████████████████████████████████████████████████████████████████████████▉                                     | 71/100 [01:15<00:28,  1.00it/s]\u001b[A\n",
      "Finding best initial lr:  72%|████████████████████████████████████████████████████████████████████████████████████████████▏                                   | 72/100 [01:16<00:28,  1.03s/it]\u001b[A\n",
      "Finding best initial lr:  73%|█████████████████████████████████████████████████████████████████████████████████████████████▍                                  | 73/100 [01:17<00:28,  1.05s/it]\u001b[A\n",
      "Finding best initial lr:  74%|██████████████████████████████████████████████████████████████████████████████████████████████▋                                 | 74/100 [01:18<00:26,  1.03s/it]\u001b[A\n",
      "Finding best initial lr:  75%|████████████████████████████████████████████████████████████████████████████████████████████████                                | 75/100 [01:19<00:25,  1.00s/it]\u001b[A\n",
      "Finding best initial lr:  76%|█████████████████████████████████████████████████████████████████████████████████████████████████▎                              | 76/100 [01:20<00:23,  1.02it/s]\u001b[A\n",
      "Finding best initial lr:  77%|██████████████████████████████████████████████████████████████████████████████████████████████████▌                             | 77/100 [01:21<00:22,  1.01it/s]\u001b[A\n",
      "Finding best initial lr:  78%|███████████████████████████████████████████████████████████████████████████████████████████████████▊                            | 78/100 [01:22<00:23,  1.05s/it]\u001b[A\n",
      "Finding best initial lr:  79%|█████████████████████████████████████████████████████████████████████████████████████████████████████                           | 79/100 [01:23<00:22,  1.06s/it]\u001b[A\n",
      "Finding best initial lr:  80%|██████████████████████████████████████████████████████████████████████████████████████████████████████▍                         | 80/100 [01:24<00:20,  1.05s/it]\u001b[A\n",
      "Finding best initial lr:  81%|███████████████████████████████████████████████████████████████████████████████████████████████████████▋                        | 81/100 [01:25<00:20,  1.06s/it]\u001b[A\n",
      "Finding best initial lr:  82%|████████████████████████████████████████████████████████████████████████████████████████████████████████▉                       | 82/100 [01:26<00:19,  1.09s/it]\u001b[A\n",
      "Finding best initial lr:  83%|██████████████████████████████████████████████████████████████████████████████████████████████████████████▏                     | 83/100 [01:27<00:18,  1.07s/it]\u001b[A\n",
      "Finding best initial lr:  84%|███████████████████████████████████████████████████████████████████████████████████████████████████████████▌                    | 84/100 [01:28<00:16,  1.03s/it]\u001b[A\n",
      "Finding best initial lr:  85%|████████████████████████████████████████████████████████████████████████████████████████████████████████████▊                   | 85/100 [01:29<00:15,  1.03s/it]\u001b[A\n",
      "Finding best initial lr:  86%|██████████████████████████████████████████████████████████████████████████████████████████████████████████████                  | 86/100 [01:30<00:14,  1.06s/it]\u001b[A\n",
      "Finding best initial lr:  87%|███████████████████████████████████████████████████████████████████████████████████████████████████████████████▎                | 87/100 [01:32<00:14,  1.09s/it]\u001b[A\n",
      "Finding best initial lr:  88%|████████████████████████████████████████████████████████████████████████████████████████████████████████████████▋               | 88/100 [01:33<00:12,  1.07s/it]\u001b[A\n",
      "Finding best initial lr:  89%|█████████████████████████████████████████████████████████████████████████████████████████████████████████████████▉              | 89/100 [01:34<00:11,  1.07s/it]\u001b[A\n",
      "Finding best initial lr:  90%|███████████████████████████████████████████████████████████████████████████████████████████████████████████████████▏            | 90/100 [01:35<00:10,  1.04s/it]\u001b[A\n",
      "Finding best initial lr:  91%|████████████████████████████████████████████████████████████████████████████████████████████████████████████████████▍           | 91/100 [01:36<00:09,  1.06s/it]\u001b[A\n",
      "Finding best initial lr:  92%|█████████████████████████████████████████████████████████████████████████████████████████████████████████████████████▊          | 92/100 [01:37<00:08,  1.11s/it]\u001b[A\n",
      "Finding best initial lr:  93%|███████████████████████████████████████████████████████████████████████████████████████████████████████████████████████         | 93/100 [01:38<00:07,  1.10s/it]\u001b[A\n",
      "Finding best initial lr:  94%|████████████████████████████████████████████████████████████████████████████████████████████████████████████████████████▎       | 94/100 [01:39<00:06,  1.13s/it]\u001b[A\n",
      "Finding best initial lr:  95%|█████████████████████████████████████████████████████████████████████████████████████████████████████████████████████████▌      | 95/100 [01:40<00:05,  1.11s/it]\u001b[A\n",
      "Finding best initial lr:  96%|██████████████████████████████████████████████████████████████████████████████████████████████████████████████████████████▉     | 96/100 [01:41<00:04,  1.07s/it]\u001b[A\n",
      "Finding best initial lr:  97%|████████████████████████████████████████████████████████████████████████████████████████████████████████████████████████████▏   | 97/100 [01:42<00:03,  1.03s/it]\u001b[A\n",
      "Finding best initial lr:  98%|█████████████████████████████████████████████████████████████████████████████████████████████████████████████████████████████▍  | 98/100 [01:43<00:01,  1.00it/s]\u001b[A\n",
      "Finding best initial lr:  99%|██████████████████████████████████████████████████████████████████████████████████████████████████████████████████████████████▋ | 99/100 [01:44<00:01,  1.06s/it]\u001b[A\n",
      "LR finder stopped early after 99 steps due to diverging loss.\n",
      "Learning rate set to 0.001584893192461114\n",
      "Restoring states from the checkpoint path at /home/agobbi/Projects/ExpTS/rf/linear/.lr_find_5b321186-75e8-4daa-9671-45d3de1e7a9e.ckpt\n",
      "Restored all states from the checkpoint file at /home/agobbi/Projects/ExpTS/rf/linear/.lr_find_5b321186-75e8-4daa-9671-45d3de1e7a9e.ckpt\n",
      "\n",
      "  | Name                   | Type       | Params\n",
      "------------------------------------------------------\n",
      "0 | embs                   | ModuleList | 0     \n",
      "1 | loss                   | L1Loss     | 0     \n",
      "2 | initial_linear_encoder | Sequential | 121   \n",
      "3 | initial_linear_decoder | Sequential | 121   \n",
      "4 | conv_encoder           | Block      | 1.6 K \n",
      "5 | conv_decoder           | Block      | 2.3 K \n",
      "6 | Encoder                | GRU        | 8.1 K \n",
      "7 | Decoder                | GRU        | 8.1 K \n",
      "8 | final_linear           | ModuleList | 4.9 K \n",
      "------------------------------------------------------\n",
      "25.1 K    Trainable params\n",
      "0         Non-trainable params\n",
      "25.1 K    Total params\n",
      "0.101     Total estimated model params size (MB)\n",
      "`Trainer.fit` stopped: `max_epochs=200` reached.\n"
     ]
    },
    {
     "name": "stdout",
     "output_type": "stream",
     "text": [
      "Saving losses on file because multigpu not working\n",
      "0.05\n"
     ]
    },
    {
     "name": "stderr",
     "output_type": "stream",
     "text": [
      "Global seed set to 42\n",
      "GPU available: False, used: False\n",
      "TPU available: False, using: 0 TPU cores\n",
      "IPU available: False, using: 0 IPUs\n",
      "HPU available: False, using: 0 HPUs\n",
      "/home/agobbi/miniconda3/envs/tt/lib/python3.11/site-packages/pytorch_lightning-1.9.4-py3.11.egg/pytorch_lightning/callbacks/model_checkpoint.py:613: UserWarning: Checkpoint directory /home/agobbi/Projects/ExpTS/rf/linear exists and is not empty.\n",
      "  rank_zero_warn(f\"Checkpoint directory {dirpath} exists and is not empty.\")\n",
      "/home/agobbi/miniconda3/envs/tt/lib/python3.11/site-packages/pytorch_lightning-1.9.4-py3.11.egg/pytorch_lightning/trainer/connectors/data_connector.py:224: PossibleUserWarning: The dataloader, train_dataloader, does not have many workers which may be a bottleneck. Consider increasing the value of the `num_workers` argument` (try 20 which is the number of cpus on this machine) in the `DataLoader` init to improve performance.\n",
      "  rank_zero_warn(\n",
      "/home/agobbi/miniconda3/envs/tt/lib/python3.11/site-packages/pytorch_lightning-1.9.4-py3.11.egg/pytorch_lightning/trainer/connectors/data_connector.py:488: PossibleUserWarning: Your `val_dataloader`'s sampler has shuffling enabled, it is strongly recommended that you turn shuffling off for val/test/predict dataloaders.\n",
      "  rank_zero_warn(\n",
      "/home/agobbi/miniconda3/envs/tt/lib/python3.11/site-packages/pytorch_lightning-1.9.4-py3.11.egg/pytorch_lightning/trainer/connectors/data_connector.py:224: PossibleUserWarning: The dataloader, val_dataloader 0, does not have many workers which may be a bottleneck. Consider increasing the value of the `num_workers` argument` (try 20 which is the number of cpus on this machine) in the `DataLoader` init to improve performance.\n",
      "  rank_zero_warn(\n",
      "\n",
      "Finding best initial lr:   0%|                                                                                                                                         | 0/100 [00:00<?, ?it/s]\u001b[A\n",
      "Finding best initial lr:   1%|█▎                                                                                                                               | 1/100 [00:01<02:25,  1.47s/it]\u001b[A\n",
      "Finding best initial lr:   2%|██▌                                                                                                                              | 2/100 [00:02<02:17,  1.41s/it]\u001b[A\n",
      "Finding best initial lr:   3%|███▊                                                                                                                             | 3/100 [00:04<02:09,  1.33s/it]\u001b[A\n",
      "Finding best initial lr:   4%|█████▏                                                                                                                           | 4/100 [00:05<02:06,  1.32s/it]\u001b[A\n",
      "Finding best initial lr:   5%|██████▍                                                                                                                          | 5/100 [00:09<03:30,  2.21s/it]\u001b[A\n",
      "Finding best initial lr:   6%|███████▋                                                                                                                         | 6/100 [00:15<05:50,  3.73s/it]\u001b[A\n",
      "Finding best initial lr:   7%|█████████                                                                                                                        | 7/100 [00:16<04:25,  2.85s/it]\u001b[A\n",
      "Finding best initial lr:   8%|██████████▎                                                                                                                      | 8/100 [00:17<03:25,  2.23s/it]\u001b[A\n",
      "Finding best initial lr:   9%|███████████▌                                                                                                                     | 9/100 [00:18<02:43,  1.80s/it]\u001b[A\n",
      "Finding best initial lr:  10%|████████████▊                                                                                                                   | 10/100 [00:19<02:16,  1.52s/it]\u001b[A\n",
      "Finding best initial lr:  11%|██████████████                                                                                                                  | 11/100 [00:20<01:59,  1.34s/it]\u001b[A\n",
      "Finding best initial lr:  12%|███████████████▎                                                                                                                | 12/100 [00:21<01:45,  1.20s/it]\u001b[A\n",
      "Finding best initial lr:  13%|████████████████▋                                                                                                               | 13/100 [00:22<01:36,  1.11s/it]\u001b[A\n",
      "Finding best initial lr:  14%|█████████████████▉                                                                                                              | 14/100 [00:23<01:30,  1.05s/it]\u001b[A\n",
      "Finding best initial lr:  15%|███████████████████▏                                                                                                            | 15/100 [00:24<01:25,  1.00s/it]\u001b[A\n",
      "Finding best initial lr:  16%|████████████████████▍                                                                                                           | 16/100 [00:25<01:24,  1.01s/it]\u001b[A\n",
      "Finding best initial lr:  17%|█████████████████████▊                                                                                                          | 17/100 [00:25<01:20,  1.03it/s]\u001b[A\n",
      "Finding best initial lr:  18%|███████████████████████                                                                                                         | 18/100 [00:26<01:18,  1.05it/s]\u001b[A\n",
      "Finding best initial lr:  19%|████████████████████████▎                                                                                                       | 19/100 [00:27<01:14,  1.08it/s]\u001b[A\n",
      "Finding best initial lr:  20%|█████████████████████████▌                                                                                                      | 20/100 [00:28<01:11,  1.12it/s]\u001b[A\n",
      "Finding best initial lr:  21%|██████████████████████████▉                                                                                                     | 21/100 [00:29<01:07,  1.16it/s]\u001b[A\n",
      "Finding best initial lr:  22%|████████████████████████████▏                                                                                                   | 22/100 [00:30<01:05,  1.19it/s]\u001b[A\n",
      "Finding best initial lr:  23%|█████████████████████████████▍                                                                                                  | 23/100 [00:30<01:04,  1.20it/s]\u001b[A\n",
      "Finding best initial lr:  24%|██████████████████████████████▋                                                                                                 | 24/100 [00:31<01:04,  1.18it/s]\u001b[A\n",
      "Finding best initial lr:  25%|████████████████████████████████                                                                                                | 25/100 [00:32<01:05,  1.15it/s]\u001b[A\n",
      "Finding best initial lr:  26%|█████████████████████████████████▎                                                                                              | 26/100 [00:33<01:04,  1.16it/s]\u001b[A\n",
      "Finding best initial lr:  27%|██████████████████████████████████▌                                                                                             | 27/100 [00:34<01:01,  1.19it/s]\u001b[A\n",
      "Finding best initial lr:  28%|███████████████████████████████████▊                                                                                            | 28/100 [00:35<01:01,  1.16it/s]\u001b[A\n",
      "Finding best initial lr:  29%|█████████████████████████████████████                                                                                           | 29/100 [00:36<01:00,  1.17it/s]\u001b[A\n",
      "Finding best initial lr:  30%|██████████████████████████████████████▍                                                                                         | 30/100 [00:37<01:00,  1.16it/s]\u001b[A\n",
      "Finding best initial lr:  31%|███████████████████████████████████████▋                                                                                        | 31/100 [00:37<01:02,  1.11it/s]\u001b[A\n",
      "Finding best initial lr:  32%|████████████████████████████████████████▉                                                                                       | 32/100 [00:38<00:59,  1.14it/s]\u001b[A\n",
      "Finding best initial lr:  33%|██████████████████████████████████████████▏                                                                                     | 33/100 [00:39<00:58,  1.14it/s]\u001b[A\n",
      "Finding best initial lr:  34%|███████████████████████████████████████████▌                                                                                    | 34/100 [00:40<00:57,  1.15it/s]\u001b[A\n",
      "Finding best initial lr:  35%|████████████████████████████████████████████▊                                                                                   | 35/100 [00:41<00:56,  1.16it/s]\u001b[A\n",
      "Finding best initial lr:  36%|██████████████████████████████████████████████                                                                                  | 36/100 [00:42<00:56,  1.13it/s]\u001b[A\n",
      "Finding best initial lr:  37%|███████████████████████████████████████████████▎                                                                                | 37/100 [00:43<00:55,  1.14it/s]\u001b[A\n",
      "Finding best initial lr:  38%|████████████████████████████████████████████████▋                                                                               | 38/100 [00:44<00:55,  1.11it/s]\u001b[A\n",
      "Finding best initial lr:  39%|█████████████████████████████████████████████████▉                                                                              | 39/100 [00:44<00:53,  1.13it/s]\u001b[A\n",
      "Finding best initial lr:  40%|███████████████████████████████████████████████████▏                                                                            | 40/100 [00:45<00:51,  1.17it/s]\u001b[A\n",
      "Finding best initial lr:  41%|████████████████████████████████████████████████████▍                                                                           | 41/100 [00:46<00:49,  1.19it/s]\u001b[A\n",
      "Finding best initial lr:  42%|█████████████████████████████████████████████████████▊                                                                          | 42/100 [00:47<00:48,  1.21it/s]\u001b[A\n",
      "Finding best initial lr:  43%|███████████████████████████████████████████████████████                                                                         | 43/100 [00:48<00:46,  1.22it/s]\u001b[A\n",
      "Finding best initial lr:  44%|████████████████████████████████████████████████████████▎                                                                       | 44/100 [00:49<00:46,  1.19it/s]\u001b[A\n",
      "Finding best initial lr:  45%|█████████████████████████████████████████████████████████▌                                                                      | 45/100 [00:49<00:47,  1.17it/s]\u001b[A\n",
      "Finding best initial lr:  46%|██████████████████████████████████████████████████████████▉                                                                     | 46/100 [00:50<00:46,  1.17it/s]\u001b[A\n",
      "Finding best initial lr:  47%|████████████████████████████████████████████████████████████▏                                                                   | 47/100 [00:51<00:44,  1.20it/s]\u001b[A\n",
      "Finding best initial lr:  48%|█████████████████████████████████████████████████████████████▍                                                                  | 48/100 [00:52<00:44,  1.18it/s]\u001b[A\n",
      "Finding best initial lr:  49%|██████████████████████████████████████████████████████████████▋                                                                 | 49/100 [00:53<00:43,  1.17it/s]\u001b[A\n",
      "Finding best initial lr:  50%|████████████████████████████████████████████████████████████████                                                                | 50/100 [00:54<00:42,  1.18it/s]\u001b[A\n",
      "Finding best initial lr:  51%|█████████████████████████████████████████████████████████████████▎                                                              | 51/100 [00:55<00:41,  1.17it/s]\u001b[A\n",
      "Finding best initial lr:  52%|██████████████████████████████████████████████████████████████████▌                                                             | 52/100 [00:55<00:41,  1.15it/s]\u001b[A\n",
      "Finding best initial lr:  53%|███████████████████████████████████████████████████████████████████▊                                                            | 53/100 [00:56<00:40,  1.15it/s]\u001b[A\n",
      "Finding best initial lr:  54%|█████████████████████████████████████████████████████████████████████                                                           | 54/100 [00:57<00:40,  1.14it/s]\u001b[A\n",
      "Finding best initial lr:  55%|██████████████████████████████████████████████████████████████████████▍                                                         | 55/100 [00:58<00:40,  1.12it/s]\u001b[A\n",
      "Finding best initial lr:  56%|███████████████████████████████████████████████████████████████████████▋                                                        | 56/100 [00:59<00:38,  1.15it/s]\u001b[A\n",
      "Finding best initial lr:  57%|████████████████████████████████████████████████████████████████████████▉                                                       | 57/100 [01:00<00:37,  1.16it/s]\u001b[A\n",
      "Finding best initial lr:  58%|██████████████████████████████████████████████████████████████████████████▏                                                     | 58/100 [01:01<00:37,  1.12it/s]\u001b[A\n",
      "Finding best initial lr:  59%|███████████████████████████████████████████████████████████████████████████▌                                                    | 59/100 [01:02<00:37,  1.09it/s]\u001b[A\n",
      "Finding best initial lr:  60%|████████████████████████████████████████████████████████████████████████████▊                                                   | 60/100 [01:03<00:40,  1.02s/it]\u001b[A\n",
      "Finding best initial lr:  61%|██████████████████████████████████████████████████████████████████████████████                                                  | 61/100 [01:04<00:42,  1.10s/it]\u001b[A\n",
      "Finding best initial lr:  62%|███████████████████████████████████████████████████████████████████████████████▎                                                | 62/100 [01:06<00:44,  1.17s/it]\u001b[A\n",
      "Finding best initial lr:  63%|████████████████████████████████████████████████████████████████████████████████▋                                               | 63/100 [01:07<00:44,  1.20s/it]\u001b[A\n",
      "Finding best initial lr:  64%|█████████████████████████████████████████████████████████████████████████████████▉                                              | 64/100 [01:08<00:45,  1.27s/it]\u001b[A\n",
      "Finding best initial lr:  65%|███████████████████████████████████████████████████████████████████████████████████▏                                            | 65/100 [01:10<00:44,  1.27s/it]\u001b[A\n",
      "Finding best initial lr:  66%|████████████████████████████████████████████████████████████████████████████████████▍                                           | 66/100 [01:11<00:44,  1.31s/it]\u001b[A\n",
      "Finding best initial lr:  67%|█████████████████████████████████████████████████████████████████████████████████████▊                                          | 67/100 [01:12<00:44,  1.36s/it]\u001b[A\n",
      "Finding best initial lr:  68%|███████████████████████████████████████████████████████████████████████████████████████                                         | 68/100 [01:14<00:43,  1.36s/it]\u001b[A\n",
      "Finding best initial lr:  69%|████████████████████████████████████████████████████████████████████████████████████████▎                                       | 69/100 [01:15<00:41,  1.34s/it]\u001b[A\n",
      "Finding best initial lr:  70%|█████████████████████████████████████████████████████████████████████████████████████████▌                                      | 70/100 [01:17<00:41,  1.37s/it]\u001b[A\n",
      "Finding best initial lr:  71%|██████████████████████████████████████████████████████████████████████████████████████████▉                                     | 71/100 [01:18<00:39,  1.36s/it]\u001b[A\n",
      "Finding best initial lr:  72%|████████████████████████████████████████████████████████████████████████████████████████████▏                                   | 72/100 [01:20<00:45,  1.64s/it]\u001b[A\n",
      "Finding best initial lr:  73%|█████████████████████████████████████████████████████████████████████████████████████████████▍                                  | 73/100 [01:29<01:42,  3.80s/it]\u001b[A\n",
      "Finding best initial lr:  74%|██████████████████████████████████████████████████████████████████████████████████████████████▋                                 | 74/100 [01:34<01:44,  4.03s/it]\u001b[A\n",
      "Finding best initial lr:  75%|████████████████████████████████████████████████████████████████████████████████████████████████                                | 75/100 [01:34<01:17,  3.08s/it]\u001b[A\n",
      "Finding best initial lr:  76%|█████████████████████████████████████████████████████████████████████████████████████████████████▎                              | 76/100 [01:35<00:58,  2.42s/it]\u001b[A\n",
      "Finding best initial lr:  77%|██████████████████████████████████████████████████████████████████████████████████████████████████▌                             | 77/100 [01:36<00:44,  1.94s/it]\u001b[A\n",
      "Finding best initial lr:  78%|███████████████████████████████████████████████████████████████████████████████████████████████████▊                            | 78/100 [01:37<00:35,  1.63s/it]\u001b[A\n",
      "Finding best initial lr:  79%|█████████████████████████████████████████████████████████████████████████████████████████████████████                           | 79/100 [01:38<00:29,  1.40s/it]\u001b[A\n",
      "Finding best initial lr:  80%|██████████████████████████████████████████████████████████████████████████████████████████████████████▍                         | 80/100 [01:39<00:24,  1.25s/it]\u001b[A\n",
      "Finding best initial lr:  81%|███████████████████████████████████████████████████████████████████████████████████████████████████████▋                        | 81/100 [01:40<00:21,  1.13s/it]\u001b[A\n",
      "Finding best initial lr:  82%|████████████████████████████████████████████████████████████████████████████████████████████████████████▉                       | 82/100 [01:41<00:18,  1.03s/it]\u001b[A\n",
      "Finding best initial lr:  83%|██████████████████████████████████████████████████████████████████████████████████████████████████████████▏                     | 83/100 [01:41<00:16,  1.00it/s]\u001b[A\n",
      "Finding best initial lr:  84%|███████████████████████████████████████████████████████████████████████████████████████████████████████████▌                    | 84/100 [01:42<00:15,  1.02it/s]\u001b[A\n",
      "Finding best initial lr:  85%|████████████████████████████████████████████████████████████████████████████████████████████████████████████▊                   | 85/100 [01:43<00:14,  1.04it/s]\u001b[A\n",
      "Finding best initial lr:  86%|██████████████████████████████████████████████████████████████████████████████████████████████████████████████                  | 86/100 [01:44<00:12,  1.09it/s]\u001b[A\n",
      "Finding best initial lr:  87%|███████████████████████████████████████████████████████████████████████████████████████████████████████████████▎                | 87/100 [01:45<00:11,  1.12it/s]\u001b[A\n",
      "Finding best initial lr:  88%|████████████████████████████████████████████████████████████████████████████████████████████████████████████████▋               | 88/100 [01:46<00:11,  1.07it/s]\u001b[A\n",
      "Finding best initial lr:  89%|█████████████████████████████████████████████████████████████████████████████████████████████████████████████████▉              | 89/100 [01:47<00:10,  1.06it/s]\u001b[A\n",
      "Finding best initial lr:  90%|███████████████████████████████████████████████████████████████████████████████████████████████████████████████████▏            | 90/100 [01:48<00:09,  1.09it/s]\u001b[A\n",
      "Finding best initial lr:  91%|████████████████████████████████████████████████████████████████████████████████████████████████████████████████████▍           | 91/100 [01:49<00:07,  1.14it/s]\u001b[A\n",
      "Finding best initial lr:  92%|█████████████████████████████████████████████████████████████████████████████████████████████████████████████████████▊          | 92/100 [01:49<00:07,  1.14it/s]\u001b[A\n",
      "Finding best initial lr:  93%|███████████████████████████████████████████████████████████████████████████████████████████████████████████████████████         | 93/100 [01:50<00:06,  1.11it/s]\u001b[A\n",
      "Finding best initial lr:  94%|████████████████████████████████████████████████████████████████████████████████████████████████████████████████████████▎       | 94/100 [01:51<00:05,  1.08it/s]\u001b[A\n",
      "Finding best initial lr:  95%|█████████████████████████████████████████████████████████████████████████████████████████████████████████████████████████▌      | 95/100 [01:52<00:04,  1.08it/s]\u001b[A\n",
      "Finding best initial lr:  96%|██████████████████████████████████████████████████████████████████████████████████████████████████████████████████████████▉     | 96/100 [01:53<00:04,  1.18s/it]\u001b[A\n",
      "LR finder stopped early after 96 steps due to diverging loss.\n",
      "Learning rate set to 0.04365158322401657\n",
      "Restoring states from the checkpoint path at /home/agobbi/Projects/ExpTS/rf/linear/.lr_find_4788bf2b-de21-4969-9474-46e84557440d.ckpt\n",
      "Restored all states from the checkpoint file at /home/agobbi/Projects/ExpTS/rf/linear/.lr_find_4788bf2b-de21-4969-9474-46e84557440d.ckpt\n",
      "\n",
      "  | Name                   | Type       | Params\n",
      "------------------------------------------------------\n",
      "0 | embs                   | ModuleList | 0     \n",
      "1 | loss                   | L1Loss     | 0     \n",
      "2 | initial_linear_encoder | Sequential | 121   \n",
      "3 | initial_linear_decoder | Sequential | 121   \n",
      "4 | conv_encoder           | Block      | 1.6 K \n",
      "5 | conv_decoder           | Block      | 2.3 K \n",
      "6 | Encoder                | GRU        | 8.1 K \n",
      "7 | Decoder                | GRU        | 8.1 K \n",
      "8 | final_linear           | ModuleList | 4.9 K \n",
      "------------------------------------------------------\n",
      "25.1 K    Trainable params\n",
      "0         Non-trainable params\n",
      "25.1 K    Total params\n",
      "0.101     Total estimated model params size (MB)\n"
     ]
    }
   ],
   "source": [
    "res_tot = {}\n",
    "for w in np.arange(0,0.1,0.05):\n",
    "    print(w)\n",
    "    config = dict(model_configs =dict(\n",
    "                                        past_steps = past_steps,\n",
    "                                        future_steps = future_steps,\n",
    "                                        past_channels = len(ts.past_variables),\n",
    "                                        future_channels = len(ts.future_variables),\n",
    "                                        embs = [ts.dataset[c].nunique() for c in ts.cat_var],\n",
    "                                        cat_emb_dim = 8,\n",
    "                                        kernel_size = 3,\n",
    "                                        hidden_RNN=32,\n",
    "                                        kind='gru',\n",
    "                                        num_layers_RNN=2,\n",
    "                                        use_glu=False,\n",
    "                                         use_bn = False,\n",
    "                                        dropout_rate=0.25,\n",
    "                                          optim='torch.optim.Adam',\n",
    "                                          activation= 'torch.nn.PReLU',\n",
    "                                         sum_emb = True,\n",
    "                                         out_channels = len(ts.target_variables),\n",
    "                                        quantiles= [],\n",
    "                                        persistence_weight =w,\n",
    "                                        loss_type='exponential_penalization'\n",
    "                                        ),\n",
    "                    scheduler_config = dict(gamma=0.1,step_size=24000000000000000),\n",
    "                    optim_config = dict(lr = 0.0005,weight_decay=0.00))\n",
    "    model_linear = DilatedConv(**config['model_configs'],optim_config = config['optim_config'],scheduler_config =config['scheduler_config'],verbose=False )\n",
    "    ts.set_model(model_linear,config=config,custom_init=True )\n",
    "    #train the model for 50 epochs with auto_lr_find \n",
    "    ts.train_model(dirpath=f\"/home/agobbi/Projects/ExpTS/rf/linear\",\n",
    "                   split_params=split_params,\n",
    "                   batch_size=32,\n",
    "                   num_workers=2,\n",
    "                   max_epochs=200,\n",
    "                   auto_lr_find=True)\n",
    "    res = ts.inference_on_set(200,4,set='test',rescaling=True)\n",
    "    res_tot[w] = res.copy()"
   ]
  },
  {
   "cell_type": "code",
   "execution_count": null,
   "id": "046bc407-7cf1-4f41-9d89-4ed5e4ce478f",
   "metadata": {
    "tags": []
   },
   "outputs": [],
   "source": [
    "ts.losses.plot()\n"
   ]
  },
  {
   "cell_type": "code",
   "execution_count": 10,
   "id": "26975a6a-593b-4404-ac09-09dce13b3e77",
   "metadata": {
    "tags": []
   },
   "outputs": [
    {
     "data": {
      "text/plain": [
       "<matplotlib.legend.Legend at 0x7fe524527d30>"
      ]
     },
     "execution_count": 10,
     "metadata": {},
     "output_type": "execute_result"
    },
    {
     "data": {
      "image/png": "[encoded data removed]",
      "text/plain": [
       "<Figure size 640x480 with 1 Axes>"
      ]
     },
     "metadata": {},
     "output_type": "display_data"
    }
   ],
   "source": [
    "error = {}\n",
    "for k in res_tot.keys():\n",
    "    error[k] = res_tot[k].groupby('lag').apply(lambda x: np.sqrt(np.mean((x.y_pred-x.y)**2))).reset_index()\n",
    "    plt.plot(error[k].lag, error[k][0],label=k)\n",
    "plt.legend()"
   ]
  },
  {
   "cell_type": "code",
   "execution_count": null,
   "id": "16ef4256-7518-4418-878f-a7f3681be2ff",
   "metadata": {
    "tags": []
   },
   "outputs": [],
   "source": []
  },
  {
   "cell_type": "code",
   "execution_count": null,
   "id": "7e439300-d754-4ee7-a7c3-4dc4891e8bbd",
   "metadata": {},
   "outputs": [],
   "source": []
  },
  {
   "cell_type": "code",
   "execution_count": null,
   "id": "b39f5fef-92e5-4e6a-81c7-21cc0f39d473",
   "metadata": {},
   "outputs": [],
   "source": [
    "#0.5 --  0.026778758\n",
    "#0   -- 0.027390912"
   ]
  },
  {
   "cell_type": "code",
   "execution_count": null,
   "id": "825d311e-c340-4e9e-8340-3f5e7d129201",
   "metadata": {
    "tags": []
   },
   "outputs": [],
   "source": [
    "##0 -- 0.026814144\n",
    "##2 -- 0.026652765\n",
    "##5 -- 0.026685152"
   ]
  },
  {
   "cell_type": "code",
   "execution_count": null,
   "id": "65c0e384-596d-4f78-b867-36add5ce63a8",
   "metadata": {
    "tags": []
   },
   "outputs": [],
   "source": [
    "plt.figure()\n",
    "for i,k in enumerate(res_tot.keys()):\n",
    "    res_tot[k]['prediction_time'] = res_tot[k].apply(lambda x: int(x.time-x.lag), axis=1)\n",
    "    if i ==0:\n",
    "        plt.plot( res_tot[k][ res_tot[k].prediction_time==date].time,  res_tot[k][ res_tot[k].prediction_time==date].y,label='real',alpha=0.5)\n",
    "    plt.plot( res_tot[k][ res_tot[k].prediction_time==date].time,  res_tot[k][ res_tot[k].prediction_time==date].y_pred,label=k,alpha=0.5)\n",
    "plt.legend()"
   ]
  },
  {
   "cell_type": "code",
   "execution_count": null,
   "id": "55e04216-3178-4b2f-86ec-3abaad372424",
   "metadata": {
    "tags": []
   },
   "outputs": [],
   "source": [
    "\n",
    "\n",
    "#plt.ylim(res.y.min(),res.y.max())\n",
    "plt.title('Prediction on test for lag=7')\n",
    "plt.legend()"
   ]
  },
  {
   "cell_type": "code",
   "execution_count": null,
   "id": "bf41c3a1-4108-4d5e-a81f-baaaa00bcf26",
   "metadata": {
    "tags": []
   },
   "outputs": [],
   "source": [
    "## get the median MSE for each lag\n",
    "import numpy as np\n",
    "res.groupby('lag').apply(lambda x: np.nanmean((x.y-x.y_median)**2)).reset_index().rename(columns={0:'error'}) "
   ]
  },
  {
   "cell_type": "code",
   "execution_count": null,
   "id": "e8abe2ae-d010-4e95-b712-8e4084639d17",
   "metadata": {
    "tags": []
   },
   "outputs": [],
   "source": [
    "#save model \n",
    "ts.save(f\"{model_to_use}_test\")"
   ]
  },
  {
   "cell_type": "code",
   "execution_count": null,
   "id": "972f7417-48ea-4498-8724-89fb1eedccf7",
   "metadata": {
    "tags": []
   },
   "outputs": [],
   "source": [
    "## load the model and check if we obtain the same result"
   ]
  },
  {
   "cell_type": "code",
   "execution_count": null,
   "id": "a1712bce-071f-4ea9-92bd-e4f4637ebb07",
   "metadata": {},
   "outputs": [],
   "source": [
    "ts.load(LinearTS,f\"{model_to_use}_test\",load_last=False)\n",
    "res = ts.inference_on_set(200,4,set='test',rescaling=True)\n",
    "error = res.groupby('lag').apply(lambda x: np.nanmean((x.y-x.y_median)**2)).reset_index().rename(columns={0:'error'}) \n",
    "error"
   ]
  },
  {
   "cell_type": "code",
   "execution_count": null,
   "id": "23bcd30c-d798-4a15-8f8c-7587c807d284",
   "metadata": {},
   "outputs": [],
   "source": [
    "##print the mean MSE along the lag steps\n",
    "plt.plot(error.lag,error.error)"
   ]
  },
  {
   "cell_type": "code",
   "execution_count": null,
   "id": "57b0f069-dc3c-4b16-9ede-747df97721f8",
   "metadata": {
    "tags": []
   },
   "outputs": [],
   "source": [
    "%matplotlib inline\n",
    "lag = 7\n",
    "try:\n",
    "    %matplotlib qast\n",
    "    to_plot = res\n",
    "except:\n",
    "    print('better to have qt, i will reduce the dataset')\n",
    "    plt.figure(figsize=(15,7))\n",
    "    to_plot = res[res.time>pd.to_datetime('2020-12-28')]\n",
    "plt.plot(to_plot[to_plot.lag==lag].time, to_plot[to_plot.lag==lag].y,label='real',alpha=0.5)\n",
    "plt.plot(to_plot[to_plot.lag==lag].time, to_plot[to_plot.lag==lag].y_median,label='median',alpha=0.5)\n",
    "plt.fill_between(to_plot[to_plot.lag==lag].time, to_plot[to_plot.lag==lag].y_low , to_plot[to_plot.lag==lag].y_high, alpha=0.2,label='error band')\n",
    "\n",
    "plt.title('Prediction on test for lag=7')\n",
    "plt.legend()"
   ]
  },
  {
   "cell_type": "code",
   "execution_count": null,
   "id": "45d6fd90-b6ae-4763-8d51-cb05de421797",
   "metadata": {
    "tags": []
   },
   "outputs": [],
   "source": [
    "tot = pd.read_csv('/home/agobbi/Projects/ExpTS/csv/prova_test_tot_predictions.csv')\n",
    "tot.time = pd.to_datetime(tot.time)"
   ]
  },
  {
   "cell_type": "code",
   "execution_count": null,
   "id": "17f5246d-6540-4817-a342-bc164514ff29",
   "metadata": {
    "tags": []
   },
   "outputs": [],
   "source": [
    "pers = tot[(tot.model=='persistent_weather_1')]"
   ]
  },
  {
   "cell_type": "code",
   "execution_count": null,
   "id": "93f74643-7f33-411f-ba84-b046616ccb84",
   "metadata": {
    "tags": []
   },
   "outputs": [],
   "source": [
    "%matplotlib inline\n",
    "lag = 7\n",
    "try:\n",
    "    %matplotlib qast\n",
    "    to_plot = pers\n",
    "except:\n",
    "    print('better to have qt, i will reduce the dataset')\n",
    "    plt.figure(figsize=(15,7))\n",
    "    to_plot = pers[pers.time>pd.to_datetime('2020-12-28')]\n",
    "plt.plot(to_plot[to_plot.lag==lag].time, to_plot[to_plot.lag==lag].y,label='real',alpha=0.5)\n",
    "plt.plot(to_plot[to_plot.lag==lag].time, to_plot[to_plot.lag==lag].y_pred,label='median',alpha=0.5)\n",
    "plt.fill_between(to_plot[to_plot.lag==lag].time, to_plot[to_plot.lag==lag].y_low , to_plot[to_plot.lag==lag].y_high, alpha=0.2,label='error band')\n",
    "\n",
    "plt.title('Prediction on test for lag=7')\n",
    "plt.legend()"
   ]
  },
  {
   "cell_type": "code",
   "execution_count": null,
   "id": "470d8600-b39d-42b1-8ed4-b1cc198c2da3",
   "metadata": {},
   "outputs": [],
   "source": []
  }
 ],
 "metadata": {
  "kernelspec": {
   "display_name": "Python 3 (ipykernel)",
   "language": "python",
   "name": "python3"
  },
  "language_info": {
   "codemirror_mode": {
    "name": "ipython",
    "version": 3
   },
   "file_extension": ".py",
   "mimetype": "text/x-python",
   "name": "python",
   "nbconvert_exporter": "python",
   "pygments_lexer": "ipython3",
   "version": "3.11.5"
  }
 },
 "nbformat": 4,
 "nbformat_minor": 5
}
