{
 "cells": [
  {
   "cell_type": "code",
   "execution_count": 1,
   "id": "ef8f4456-39e8-4bac-9514-dac172858380",
   "metadata": {
    "tags": []
   },
   "outputs": [],
   "source": [
    "import pandas as pd\n",
    "import numpy as np\n",
    "from dsipts import TimeSeries, RNN,read_public_dataset, LinearTS, Persistent, TFT\n",
    "import matplotlib.pyplot as plt\n",
    "from datetime import timedelta\n",
    "import logging\n",
    "import sys\n",
    "import random\n",
    "\n"
   ]
  },
  {
   "cell_type": "code",
   "execution_count": 18,
   "id": "98dc5459-3670-4357-8059-f3cccade6431",
   "metadata": {
    "tags": []
   },
   "outputs": [],
   "source": [
    "def random_walk(n):\n",
    "    tot = np.zeros(n)\n",
    "    probs = np.zeros(n)\n",
    "    for i in range(n-1):\n",
    "        prob = random.random()\n",
    "        if prob<0.5:\n",
    "            delta = 1\n",
    "        else:\n",
    "            delta = -1\n",
    "        tot[i+1] = tot[i] + delta\n",
    "        probs[i+1]= prob\n",
    "    return tot, probs\n",
    "N = 20000\n",
    "random.seed(6)\n",
    "x, p = random_walk(N)\n",
    "data = pd.DataFrame({'y':x/x.max(),'p':p,'time':range(N)})"
   ]
  },
  {
   "cell_type": "code",
   "execution_count": 19,
   "id": "fe218d82-40f9-43c9-8118-818249679ea0",
   "metadata": {},
   "outputs": [
    {
     "data": {
      "text/plain": [
       "Timeseries named weather of length 20000.\n",
       " Categorical variable: [],\n",
       " Future variables: ['p'],\n",
       " Past variables: ['y'],\n",
       " Target variables: ['y']\n",
       " With no group"
      ]
     },
     "execution_count": 19,
     "metadata": {},
     "output_type": "execute_result"
    }
   ],
   "source": [
    "##loasklearnthe timeseries to the datastructure, adding the hour column and use all the covariates\n",
    "ts = TimeSeries('weather')\n",
    "ts.load_signal(data,enrich_cat=[],target_variables=['y'],past_variables= [],future_variables=['p'])\n",
    "ts"
   ]
  },
  {
   "cell_type": "code",
   "execution_count": null,
   "id": "b4e51045-5762-455c-9998-6129b3c7de46",
   "metadata": {
    "tags": []
   },
   "outputs": [],
   "source": []
  },
  {
   "cell_type": "code",
   "execution_count": 20,
   "id": "5dc5ed48-70d2-45d4-9c21-4a5eb8122290",
   "metadata": {
    "tags": []
   },
   "outputs": [],
   "source": [
    "#Let now prepare a model predictin the next 16 step using the past 16 steps \n",
    "past_steps = 1\n",
    "future_steps = 16\n"
   ]
  },
  {
   "cell_type": "code",
   "execution_count": 21,
   "id": "3f6ad41f-6baf-43d2-961a-736a698785de",
   "metadata": {
    "tags": []
   },
   "outputs": [
    {
     "data": {
      "text/plain": [
       "['p']"
      ]
     },
     "execution_count": 21,
     "metadata": {},
     "output_type": "execute_result"
    }
   ],
   "source": [
    "ts.future_variables"
   ]
  },
  {
   "cell_type": "code",
   "execution_count": 35,
   "id": "1342a2f5-2992-447e-8c2b-ce7e04980a71",
   "metadata": {
    "tags": []
   },
   "outputs": [],
   "source": [
    "\n",
    "\n",
    "config = dict(model_configs =dict(\n",
    "                                    past_steps = past_steps,\n",
    "                                    future_steps = future_steps,\n",
    "                                    past_channels = len(ts.past_variables),\n",
    "                                    future_channels = len(ts.future_variables),\n",
    "                                    embs = [ts.dataset[c].nunique() for c in ts.cat_var],\n",
    "                                      d_model=64,\n",
    "                                      d_head= 6,\n",
    "                                      n_head=16,\n",
    "                                     dropout_rate = 0.1,\n",
    "                                      num_layers_RNN= 8,\n",
    "                                      optim='torch.optim.Adam',\n",
    "                                     out_channels = len(ts.target_variables),\n",
    "                                    quantiles= [],\n",
    "                                   loss_type='mse',\n",
    "                                 persistence_weight = 4,\n",
    "                                    ),\n",
    "                scheduler_config = dict(gamma=0.1,step_size=2400000000000),\n",
    "                optim_config = dict(lr = 0.00005,weight_decay=0.0))\n",
    "model_linear = TFT(**config['model_configs'],optim_config = config['optim_config'],scheduler_config =config['scheduler_config'],verbose=False )\n"
   ]
  },
  {
   "cell_type": "code",
   "execution_count": 36,
   "id": "1be1b3ad-36ef-4fdc-95df-cf0739633915",
   "metadata": {
    "tags": []
   },
   "outputs": [],
   "source": [
    "#set the desirere model\n",
    "ts.set_model(model_linear,config=config )"
   ]
  },
  {
   "cell_type": "code",
   "execution_count": 37,
   "id": "2959dcdb-36fa-47c5-bc33-cc88c20d39ea",
   "metadata": {
    "tags": []
   },
   "outputs": [],
   "source": [
    "##splitting parameters\n",
    "split_params = {'perc_train':0.6,'perc_valid':0.2,                             ##if not None it will split 70% 10% 20%\n",
    "               'range_train':None, 'range_validation':None, 'range_test':None, ## or we can split using ranges for example range_train=['2021-02-03','2022-04-08']\n",
    "               'past_steps':past_steps,\n",
    "               'future_steps':future_steps,\n",
    "               'shift':0,\n",
    "               'starting_point':None,                                          ## do not skip samples\n",
    "               'skip_step' : 1                                                 ## distance between two consecutive samples\n",
    "                             }"
   ]
  },
  {
   "cell_type": "code",
   "execution_count": null,
   "id": "f7fcda7e-4b30-45d7-9991-27dedcfd58cd",
   "metadata": {
    "tags": []
   },
   "outputs": [
    {
     "name": "stderr",
     "output_type": "stream",
     "text": [
      "Global seed set to 42\n",
      "GPU available: False, used: False\n",
      "TPU available: False, using: 0 TPU cores\n",
      "IPU available: False, using: 0 IPUs\n",
      "HPU available: False, using: 0 HPUs\n",
      "/home/agobbi/.conda/envs/tt/lib/python3.10/site-packages/pytorch_lightning/callbacks/model_checkpoint.py:613: UserWarning: Checkpoint directory /home/agobbi/Projects/ExpTS/rf/tft exists and is not empty.\n",
      "  rank_zero_warn(f\"Checkpoint directory {dirpath} exists and is not empty.\")\n",
      "\n",
      "   | Name                   | Type                    | Params\n",
      "--------------------------------------------------------------------\n",
      "0  | target_linear          | Linear                  | 128   \n",
      "1  | linear_aux_past        | ModuleList              | 0     \n",
      "2  | linear_aux_fut         | ModuleList              | 128   \n",
      "3  | emb_cat_var            | embedding_cat_variables | 2.3 K \n",
      "4  | rnn                    | LSTM_Model              | 267 K \n",
      "5  | res_conn1_past         | ResidualConnection      | 8.3 K \n",
      "6  | res_conn1_fut          | ResidualConnection      | 8.3 K \n",
      "7  | grn1_past              | GRN                     | 16.6 K\n",
      "8  | grn1_fut               | GRN                     | 16.6 K\n",
      "9  | InterpretableMultiHead | InterpretableMultiHead  | 13.3 K\n",
      "10 | res_conn2_att          | ResidualConnection      | 8.3 K \n",
      "11 | grn2_att               | GRN                     | 16.6 K\n",
      "12 | res_conn3_out          | ResidualConnection      | 8.3 K \n",
      "13 | outLinear              | Linear                  | 65    \n",
      "14 | loss                   | MSELoss                 | 0     \n",
      "--------------------------------------------------------------------\n",
      "366 K     Trainable params\n",
      "0         Non-trainable params\n",
      "366 K     Total params\n",
      "1.466     Total estimated model params size (MB)\n",
      "/home/agobbi/.conda/envs/tt/lib/python3.10/site-packages/pytorch_lightning/trainer/connectors/data_connector.py:488: PossibleUserWarning: Your `val_dataloader`'s sampler has shuffling enabled, it is strongly recommended that you turn shuffling off for val/test/predict dataloaders.\n",
      "  rank_zero_warn(\n",
      "/home/agobbi/.conda/envs/tt/lib/python3.10/site-packages/pytorch_lightning/trainer/connectors/data_connector.py:224: PossibleUserWarning: The dataloader, val_dataloader 0, does not have many workers which may be a bottleneck. Consider increasing the value of the `num_workers` argument` (try 8 which is the number of cpus on this machine) in the `DataLoader` init to improve performance.\n",
      "  rank_zero_warn(\n",
      "/home/agobbi/.conda/envs/tt/lib/python3.10/site-packages/pytorch_lightning/trainer/connectors/data_connector.py:224: PossibleUserWarning: The dataloader, train_dataloader, does not have many workers which may be a bottleneck. Consider increasing the value of the `num_workers` argument` (try 8 which is the number of cpus on this machine) in the `DataLoader` init to improve performance.\n",
      "  rank_zero_warn(\n",
      "Epoch 0, global step 374: 'val_loss' reached 0.02986 (best 0.02986), saving model to '/home/agobbi/Projects/ExpTS/rf/tft/checkpoint-v26.ckpt' as top 1\n",
      "Epoch 1, global step 748: 'val_loss' reached 0.01948 (best 0.01948), saving model to '/home/agobbi/Projects/ExpTS/rf/tft/checkpoint-v26.ckpt' as top 1\n",
      "Epoch 2, global step 1122: 'val_loss' reached 0.01698 (best 0.01698), saving model to '/home/agobbi/Projects/ExpTS/rf/tft/checkpoint-v26.ckpt' as top 1\n",
      "Epoch 3, global step 1496: 'val_loss' reached 0.01339 (best 0.01339), saving model to '/home/agobbi/Projects/ExpTS/rf/tft/checkpoint-v26.ckpt' as top 1\n",
      "Epoch 4, global step 1870: 'val_loss' reached 0.00764 (best 0.00764), saving model to '/home/agobbi/Projects/ExpTS/rf/tft/checkpoint-v26.ckpt' as top 1\n",
      "Epoch 5, global step 2244: 'val_loss' was not in top 1\n",
      "Epoch 6, global step 2618: 'val_loss' reached 0.00544 (best 0.00544), saving model to '/home/agobbi/Projects/ExpTS/rf/tft/checkpoint-v26.ckpt' as top 1\n",
      "Epoch 7, global step 2992: 'val_loss' reached 0.00477 (best 0.00477), saving model to '/home/agobbi/Projects/ExpTS/rf/tft/checkpoint-v26.ckpt' as top 1\n",
      "Epoch 8, global step 3366: 'val_loss' was not in top 1\n",
      "Epoch 9, global step 3740: 'val_loss' was not in top 1\n",
      "Epoch 10, global step 4114: 'val_loss' was not in top 1\n",
      "Epoch 11, global step 4488: 'val_loss' reached 0.00435 (best 0.00435), saving model to '/home/agobbi/Projects/ExpTS/rf/tft/checkpoint-v26.ckpt' as top 1\n",
      "Epoch 12, global step 4862: 'val_loss' was not in top 1\n",
      "Epoch 13, global step 5236: 'val_loss' reached 0.00428 (best 0.00428), saving model to '/home/agobbi/Projects/ExpTS/rf/tft/checkpoint-v26.ckpt' as top 1\n",
      "Epoch 14, global step 5610: 'val_loss' reached 0.00366 (best 0.00366), saving model to '/home/agobbi/Projects/ExpTS/rf/tft/checkpoint-v26.ckpt' as top 1\n",
      "Epoch 15, global step 5984: 'val_loss' reached 0.00354 (best 0.00354), saving model to '/home/agobbi/Projects/ExpTS/rf/tft/checkpoint-v26.ckpt' as top 1\n",
      "Epoch 16, global step 6358: 'val_loss' was not in top 1\n",
      "Epoch 17, global step 6732: 'val_loss' reached 0.00336 (best 0.00336), saving model to '/home/agobbi/Projects/ExpTS/rf/tft/checkpoint-v26.ckpt' as top 1\n",
      "Epoch 18, global step 7106: 'val_loss' was not in top 1\n",
      "Epoch 19, global step 7480: 'val_loss' was not in top 1\n"
     ]
    }
   ],
   "source": [
    "#train the model for 50 epochs with auto_lr_find \n",
    "ts.train_model(dirpath=f\"/home/agobbi/Projects/ExpTS/rf/tft\",\n",
    "               split_params=split_params,\n",
    "               batch_size=32,\n",
    "               num_workers=2,\n",
    "               max_epochs=25,\n",
    "               auto_lr_find=False)"
   ]
  },
  {
   "cell_type": "code",
   "execution_count": null,
   "id": "d980c174-7398-42c1-b62e-94bc2ff65c7d",
   "metadata": {},
   "outputs": [],
   "source": []
  },
  {
   "cell_type": "code",
   "execution_count": 26,
   "id": "8d0974c9-fc85-436d-b7c7-c6605b2a423a",
   "metadata": {
    "tags": []
   },
   "outputs": [
    {
     "data": {
      "text/plain": [
       "<Axes: >"
      ]
     },
     "execution_count": 26,
     "metadata": {},
     "output_type": "execute_result"
    }
   ],
   "source": [
    "#Print the losses, check overfitting\n",
    "ts.losses.plot()"
   ]
  },
  {
   "cell_type": "code",
   "execution_count": 27,
   "id": "9df63a20-83b6-42c4-a7e4-30e4c7778cf3",
   "metadata": {
    "tags": []
   },
   "outputs": [],
   "source": [
    "#make inferences on \n",
    "res = ts.inference_on_set(200,4,set='test',rescaling=True)"
   ]
  },
  {
   "cell_type": "code",
   "execution_count": 29,
   "id": "3cb2875c-5f47-4e47-9553-739dc821fe2e",
   "metadata": {
    "tags": []
   },
   "outputs": [
    {
     "data": {
      "text/plain": [
       "<matplotlib.legend.Legend at 0x7f2e9b47f6d0>"
      ]
     },
     "execution_count": 29,
     "metadata": {},
     "output_type": "execute_result"
    }
   ],
   "source": [
    "%matplotlib qt\n",
    "lag = 15\n",
    "\n",
    "plt.plot(res[res.lag==lag].time, res[res.lag==lag].y,label='real',alpha=0.5)\n",
    "plt.plot(res[res.lag==lag].time, res[res.lag==lag].y_pred,label='pred',alpha=0.5)\n",
    "\n",
    "plt.title('Prediction on test for lag=7')\n",
    "plt.legend()"
   ]
  },
  {
   "cell_type": "code",
   "execution_count": 30,
   "id": "77df437b-1a51-4447-89a4-3ccde0e393bc",
   "metadata": {
    "tags": []
   },
   "outputs": [],
   "source": [
    "res['prediction_time'] = res.apply(lambda x: int(x.time-x.lag), axis=1)"
   ]
  },
  {
   "cell_type": "code",
   "execution_count": 31,
   "id": "b5110597-f859-47bd-afaf-d21f8f9ddc08",
   "metadata": {
    "tags": []
   },
   "outputs": [
    {
     "data": {
      "text/html": [
       "<div>\n",
       "<style scoped>\n",
       "    .dataframe tbody tr th:only-of-type {\n",
       "        vertical-align: middle;\n",
       "    }\n",
       "\n",
       "    .dataframe tbody tr th {\n",
       "        vertical-align: top;\n",
       "    }\n",
       "\n",
       "    .dataframe thead th {\n",
       "        text-align: right;\n",
       "    }\n",
       "</style>\n",
       "<table border=\"1\" class=\"dataframe\">\n",
       "  <thead>\n",
       "    <tr style=\"text-align: right;\">\n",
       "      <th></th>\n",
       "      <th>lag</th>\n",
       "      <th>time</th>\n",
       "      <th>y</th>\n",
       "      <th>y_pred</th>\n",
       "      <th>prediction_time</th>\n",
       "    </tr>\n",
       "  </thead>\n",
       "  <tbody>\n",
       "    <tr>\n",
       "      <th>0</th>\n",
       "      <td>1</td>\n",
       "      <td>16001</td>\n",
       "      <td>0.370079</td>\n",
       "      <td>0.361578</td>\n",
       "      <td>16000</td>\n",
       "    </tr>\n",
       "    <tr>\n",
       "      <th>1</th>\n",
       "      <td>1</td>\n",
       "      <td>16002</td>\n",
       "      <td>0.362205</td>\n",
       "      <td>0.359649</td>\n",
       "      <td>16001</td>\n",
       "    </tr>\n",
       "    <tr>\n",
       "      <th>2</th>\n",
       "      <td>1</td>\n",
       "      <td>16003</td>\n",
       "      <td>0.370079</td>\n",
       "      <td>0.364952</td>\n",
       "      <td>16002</td>\n",
       "    </tr>\n",
       "    <tr>\n",
       "      <th>3</th>\n",
       "      <td>1</td>\n",
       "      <td>16004</td>\n",
       "      <td>0.377953</td>\n",
       "      <td>0.377869</td>\n",
       "      <td>16003</td>\n",
       "    </tr>\n",
       "    <tr>\n",
       "      <th>4</th>\n",
       "      <td>1</td>\n",
       "      <td>16005</td>\n",
       "      <td>0.385827</td>\n",
       "      <td>0.381918</td>\n",
       "      <td>16004</td>\n",
       "    </tr>\n",
       "    <tr>\n",
       "      <th>...</th>\n",
       "      <td>...</td>\n",
       "      <td>...</td>\n",
       "      <td>...</td>\n",
       "      <td>...</td>\n",
       "      <td>...</td>\n",
       "    </tr>\n",
       "    <tr>\n",
       "      <th>63723</th>\n",
       "      <td>16</td>\n",
       "      <td>19994</td>\n",
       "      <td>0.771654</td>\n",
       "      <td>0.803363</td>\n",
       "      <td>19978</td>\n",
       "    </tr>\n",
       "    <tr>\n",
       "      <th>63724</th>\n",
       "      <td>16</td>\n",
       "      <td>19995</td>\n",
       "      <td>0.763780</td>\n",
       "      <td>0.807920</td>\n",
       "      <td>19979</td>\n",
       "    </tr>\n",
       "    <tr>\n",
       "      <th>63725</th>\n",
       "      <td>16</td>\n",
       "      <td>19996</td>\n",
       "      <td>0.755906</td>\n",
       "      <td>0.812142</td>\n",
       "      <td>19980</td>\n",
       "    </tr>\n",
       "    <tr>\n",
       "      <th>63726</th>\n",
       "      <td>16</td>\n",
       "      <td>19997</td>\n",
       "      <td>0.748031</td>\n",
       "      <td>0.804506</td>\n",
       "      <td>19981</td>\n",
       "    </tr>\n",
       "    <tr>\n",
       "      <th>63727</th>\n",
       "      <td>16</td>\n",
       "      <td>19998</td>\n",
       "      <td>0.755906</td>\n",
       "      <td>0.822997</td>\n",
       "      <td>19982</td>\n",
       "    </tr>\n",
       "  </tbody>\n",
       "</table>\n",
       "<p>63728 rows × 5 columns</p>\n",
       "</div>"
      ],
      "text/plain": [
       "       lag   time         y    y_pred  prediction_time\n",
       "0        1  16001  0.370079  0.361578            16000\n",
       "1        1  16002  0.362205  0.359649            16001\n",
       "2        1  16003  0.370079  0.364952            16002\n",
       "3        1  16004  0.377953  0.377869            16003\n",
       "4        1  16005  0.385827  0.381918            16004\n",
       "...    ...    ...       ...       ...              ...\n",
       "63723   16  19994  0.771654  0.803363            19978\n",
       "63724   16  19995  0.763780  0.807920            19979\n",
       "63725   16  19996  0.755906  0.812142            19980\n",
       "63726   16  19997  0.748031  0.804506            19981\n",
       "63727   16  19998  0.755906  0.822997            19982\n",
       "\n",
       "[63728 rows x 5 columns]"
      ]
     },
     "execution_count": 31,
     "metadata": {},
     "output_type": "execute_result"
    }
   ],
   "source": [
    "res"
   ]
  },
  {
   "cell_type": "code",
   "execution_count": 34,
   "id": "55e04216-3178-4b2f-86ec-3abaad372424",
   "metadata": {
    "tags": []
   },
   "outputs": [
    {
     "data": {
      "text/plain": [
       "<matplotlib.legend.Legend at 0x7f2e1972b940>"
      ]
     },
     "execution_count": 34,
     "metadata": {},
     "output_type": "execute_result"
    }
   ],
   "source": [
    "%matplotlib qt\n",
    "date = 19679\n",
    "\n",
    "plt.plot(res[res.prediction_time==date].time, res[res.prediction_time==date].y,label='real',alpha=0.5)\n",
    "plt.plot(res[res.prediction_time==date].time, res[res.prediction_time==date].y_pred,label='pred',alpha=0.5)\n",
    "#plt.ylim(res.y.min(),res.y.max())\n",
    "plt.title('Prediction on test for lag=7')\n",
    "plt.legend()"
   ]
  },
  {
   "cell_type": "code",
   "execution_count": null,
   "id": "470d8600-b39d-42b1-8ed4-b1cc198c2da3",
   "metadata": {},
   "outputs": [],
   "source": []
  }
 ],
 "metadata": {
  "kernelspec": {
   "display_name": "Python 3 (ipykernel)",
   "language": "python",
   "name": "python3"
  },
  "language_info": {
   "codemirror_mode": {
    "name": "ipython",
    "version": 3
   },
   "file_extension": ".py",
   "mimetype": "text/x-python",
   "name": "python",
   "nbconvert_exporter": "python",
   "pygments_lexer": "ipython3",
   "version": "3.10.9"
  }
 },
 "nbformat": 4,
 "nbformat_minor": 5
}
