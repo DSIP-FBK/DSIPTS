{
 "cells": [
  {
   "cell_type": "code",
   "execution_count": null,
   "id": "ef8f4456-39e8-4bac-9514-dac172858380",
   "metadata": {
    "tags": []
   },
   "outputs": [],
   "source": [
    "import pandas as pd\n",
    "from dsipts import TimeSeries, RNN,Monash,get_freq\n"
   ]
  },
  {
   "cell_type": "code",
   "execution_count": null,
   "id": "98dc5459-3670-4357-8059-f3cccade6431",
   "metadata": {
    "tags": []
   },
   "outputs": [],
   "source": [
    "m = Monash(filename='monash',baseUrl='https://forecastingdata.org/', rebuild=False)\n",
    "#m.download_dataset('data',4656144,rebuild=True)\n",
    "#m.save('monash')"
   ]
  },
  {
   "cell_type": "code",
   "execution_count": null,
   "id": "7c26cb67-3215-41f5-9d46-fdb2b3f2b87e",
   "metadata": {
    "tags": []
   },
   "outputs": [],
   "source": [
    "m = Monash(filename='monash',baseUrl='https://forecastingdata.org/', rebuild=False)\n",
    "m.load('monash')\n",
    "m.downloaded.keys()\n"
   ]
  },
  {
   "cell_type": "code",
   "execution_count": null,
   "id": "da6f729c-a07b-47b7-8a03-c432c24bfa0a",
   "metadata": {
    "tags": []
   },
   "outputs": [],
   "source": [
    "\n",
    "loaded_data,frequency,forecast_horizon,contain_missing_values,contain_equal_length = m.generate_dataset(4656144)\n"
   ]
  },
  {
   "cell_type": "code",
   "execution_count": null,
   "id": "9639a836-c176-41d7-93ce-bd25d9786732",
   "metadata": {
    "tags": []
   },
   "outputs": [],
   "source": [
    "loaded_data"
   ]
  },
  {
   "cell_type": "code",
   "execution_count": null,
   "id": "b4e51045-5762-455c-9998-6129b3c7de46",
   "metadata": {
    "tags": []
   },
   "outputs": [],
   "source": [
    "serie = pd.DataFrame({'signal':loaded_data.series_value.iloc[0]})\n",
    "serie['time'] = pd.date_range(start = loaded_data.start_timestamp.iloc[0], periods=  serie.shape[0],freq=get_freq(frequency))\n",
    "serie['cum'] = serie.time.dt.minute  + serie.time.dt.hour \n",
    "starting_point = {'cum':0} ##this can be used for creating the dataset: only samples with cum=0 in the first future lag will be used as samples! \n",
    "ts = TimeSeries('4656144')\n",
    "ts.load_signal(serie.iloc[0:8000],enrich_cat=['dow','hour'],target_variables=['signal'])"
   ]
  },
  {
   "cell_type": "code",
   "execution_count": null,
   "id": "9dca9057-75da-4ca0-b599-559696fd706d",
   "metadata": {
    "tags": []
   },
   "outputs": [],
   "source": [
    "ts.plot();"
   ]
  },
  {
   "cell_type": "code",
   "execution_count": null,
   "id": "66b549a0-6b5d-4d13-b0b2-b6dbde63f37a",
   "metadata": {
    "tags": []
   },
   "outputs": [],
   "source": [
    "past_steps = 100\n",
    "future_steps = 20\n",
    "config = dict(model_configs =dict(\n",
    "                                    cat_emb_dim = 16,\n",
    "                                    kind = 'gru',\n",
    "                                    hidden_RNN = 12,\n",
    "                                    num_layers_RNN = 2,\n",
    "                                    sum_emb = True,\n",
    "                                    kernel_size = 15,\n",
    "                                    past_steps = past_steps,\n",
    "                                    future_steps = future_steps,\n",
    "                                    past_channels = len(ts.num_var),\n",
    "                                    future_channels = len(ts.future_variables),\n",
    "                                    embs = [ts.dataset[c].nunique() for c in ts.cat_var],\n",
    "                                    quantiles=[0.1,0.5,0.9],\n",
    "                                    dropout_rate= 0.5,\n",
    "                                    persistence_weight= 0.010,\n",
    "                                    loss_type= 'l1',\n",
    "                                    remove_last= True,\n",
    "                                    use_bn = False,\n",
    "                                    optim= 'torch.optim.Adam',\n",
    "                                    activation= 'torch.nn.PReLU',                            \n",
    "                                    out_channels = len(ts.target_variables)),\n",
    "                scheduler_config = dict(gamma=0.1,step_size=100),\n",
    "                optim_config = dict(lr = 0.0005,weight_decay=0.01))\n",
    "model_sum = RNN(**config['model_configs'],optim_config = config['optim_config'],scheduler_config =config['scheduler_config'] )\n",
    "ts.set_model(model_sum,config=config )"
   ]
  },
  {
   "cell_type": "code",
   "execution_count": null,
   "id": "1be1b3ad-36ef-4fdc-95df-cf0739633915",
   "metadata": {
    "tags": []
   },
   "outputs": [],
   "source": [
    "ts.set_model(model_sum,config=config )"
   ]
  },
  {
   "cell_type": "code",
   "execution_count": null,
   "id": "f7fcda7e-4b30-45d7-9991-27dedcfd58cd",
   "metadata": {
    "tags": []
   },
   "outputs": [],
   "source": [
    "ts.train_model(dirpath=\"/home/agobbi/Projects/TT/tmp/4656719v2\",split_params=dict(perc_train=0.6, perc_valid=0.2,past_steps = past_steps,future_steps=future_steps, range_train=None, range_validation=None, range_test=None,shift = 0,starting_point=None,skip_step=1),batch_size=100,num_workers=4,max_epochs=40,auto_lr_find=True,devices='auto')"
   ]
  },
  {
   "cell_type": "code",
   "execution_count": null,
   "id": "cafb6a07-4904-4466-a3a9-448abac1337a",
   "metadata": {
    "tags": []
   },
   "outputs": [],
   "source": [
    "ts.scaler_cat"
   ]
  },
  {
   "cell_type": "code",
   "execution_count": null,
   "id": "8d0974c9-fc85-436d-b7c7-c6605b2a423a",
   "metadata": {
    "tags": []
   },
   "outputs": [],
   "source": [
    "ts.losses.plot()"
   ]
  },
  {
   "cell_type": "code",
   "execution_count": null,
   "id": "96d99aef-a44d-4509-8610-bf1620d86fa8",
   "metadata": {},
   "outputs": [],
   "source": [
    "ts.modifier=None"
   ]
  },
  {
   "cell_type": "code",
   "execution_count": null,
   "id": "972f7417-48ea-4498-8724-89fb1eedccf7",
   "metadata": {
    "tags": []
   },
   "outputs": [],
   "source": [
    "res = ts.inference_on_set(batch_size = 100,num_workers = 4)"
   ]
  },
  {
   "cell_type": "code",
   "execution_count": null,
   "id": "a1712bce-071f-4ea9-92bd-e4f4637ebb07",
   "metadata": {},
   "outputs": [],
   "source": [
    "import numpy as np\n",
    "np.sqrt(np.mean((res[res.lag==2]['signal_median'] - res[res.lag==2].signal)**2))"
   ]
  },
  {
   "cell_type": "code",
   "execution_count": null,
   "id": "95186363-2c95-449e-8d68-a80877129b20",
   "metadata": {
    "tags": []
   },
   "outputs": [],
   "source": [
    "%matplotlib qt\n",
    "res[res.lag==2].drop(columns='time').plot()"
   ]
  },
  {
   "cell_type": "code",
   "execution_count": null,
   "id": "95bcaf8f-1c5b-4188-8bea-1d45de30f152",
   "metadata": {
    "tags": []
   },
   "outputs": [],
   "source": [
    "from datetime import timedelta\n",
    "res['prediction_time'] = res.apply(lambda x: x.time-timedelta(minutes=60*x.lag), axis=1)"
   ]
  },
  {
   "cell_type": "code",
   "execution_count": null,
   "id": "b713d900-e041-47c8-824c-4e26981a5047",
   "metadata": {
    "tags": []
   },
   "outputs": [],
   "source": [
    "import matplotlib.pyplot as plt\n",
    "date = '2006-02-15 02:20:01'\n",
    "\n",
    "mask = res.prediction_time==date\n",
    "plt.plot(res.lag[mask],res.signal[mask],label='real')\n",
    "plt.plot(res.lag[mask],res.signal_median[mask],label='median')\n",
    "plt.legend()"
   ]
  },
  {
   "cell_type": "code",
   "execution_count": null,
   "id": "a0feca31-3b67-4a82-95e0-6f27ecc2c26d",
   "metadata": {
    "tags": []
   },
   "outputs": [],
   "source": [
    "ts.save('tmp')"
   ]
  },
  {
   "cell_type": "code",
   "execution_count": 4,
   "id": "6086f9e3-e1d6-424b-9a0b-776ac7d0368e",
   "metadata": {},
   "outputs": [
    {
     "name": "stderr",
     "output_type": "stream",
     "text": [
      "/home/agobbi/.conda/envs/tt/lib/python3.10/site-packages/torch/nn/init.py:405: UserWarning: Initializing zero-element tensors is a no-op\n",
      "  warnings.warn(\"Initializing zero-element tensors is a no-op\")\n"
     ]
    }
   ],
   "source": [
    "import pandas as pd\n",
    "from dsipts import TimeSeries, RNN,Monash,get_freq\n",
    "import numpy as np\n",
    "import matplotlib.pyplot as plt\n",
    "ts = TimeSeries('4656144')\n",
    "ts.load(RNN,'tmp',load_last=False)"
   ]
  },
  {
   "cell_type": "code",
   "execution_count": 5,
   "id": "bc0ea255-6cf0-4053-a439-b8a7f2270811",
   "metadata": {
    "tags": []
   },
   "outputs": [],
   "source": [
    "l = ts.dataset.shape[0]\n",
    "perc_train = 0.6\n",
    "perc_valid = 0.2\n",
    "train = ts.dataset.iloc[0:int(perc_train*l)]\n",
    "validation = ts.dataset.iloc[int(perc_train*l):int(perc_train*l+perc_valid*l)]\n",
    "test = ts.dataset.iloc[int(perc_train*l+perc_valid*l):]"
   ]
  },
  {
   "cell_type": "code",
   "execution_count": 6,
   "id": "e06bea12-8dfd-4c40-a9f5-e7f531c9ebec",
   "metadata": {
    "tags": []
   },
   "outputs": [
    {
     "data": {
      "text/plain": [
       "<matplotlib.legend.Legend at 0x7f6e6e374760>"
      ]
     },
     "execution_count": 6,
     "metadata": {},
     "output_type": "execute_result"
    },
    {
     "data": {
      "image/png": "[encoded data removed]",
      "text/plain": [
       "<Figure size 640x480 with 1 Axes>"
      ]
     },
     "metadata": {},
     "output_type": "display_data"
    }
   ],
   "source": [
    "plt.plot(train.time, train.signal,label='train')\n",
    "plt.plot(validation.time, validation.signal,label='validation')\n",
    "plt.plot(test.time, test.signal,label='test')\n",
    "plt.legend()"
   ]
  },
  {
   "cell_type": "code",
   "execution_count": 7,
   "id": "9c7178d7-c74f-4b1a-9314-7997f68dfaf5",
   "metadata": {
    "tags": []
   },
   "outputs": [
    {
     "data": {
      "text/plain": [
       "{'perc_train': 0.6,\n",
       " 'perc_valid': 0.2,\n",
       " 'past_steps': 100,\n",
       " 'future_steps': 20,\n",
       " 'range_train': None,\n",
       " 'range_validation': None,\n",
       " 'range_test': None,\n",
       " 'shift': 0,\n",
       " 'starting_point': None,\n",
       " 'skip_step': 1}"
      ]
     },
     "execution_count": 7,
     "metadata": {},
     "output_type": "execute_result"
    }
   ],
   "source": [
    "ts.split_params"
   ]
  },
  {
   "cell_type": "code",
   "execution_count": 8,
   "id": "d27de02a-77df-46ca-81aa-ff514a7b8a20",
   "metadata": {
    "tags": []
   },
   "outputs": [],
   "source": [
    "\n",
    "res_orig = ts.inference_on_set(batch_size = 100,num_workers = 4)"
   ]
  },
  {
   "cell_type": "code",
   "execution_count": 9,
   "id": "e9a5f27f-224a-49ca-a26e-a533bde43d8c",
   "metadata": {
    "tags": []
   },
   "outputs": [],
   "source": [
    "m = Monash(filename='monash',baseUrl='https://forecastingdata.org/', rebuild=False)\n",
    "m.load('monash')\n",
    "loaded_data,frequency,forecast_horizon,contain_missing_values,contain_equal_length = m.generate_dataset(4656144)\n",
    "\n",
    "\n",
    "serie = pd.DataFrame({'signal':loaded_data.series_value.iloc[0]})\n",
    "serie['time'] = pd.date_range(start = loaded_data.start_timestamp.iloc[0], periods=  serie.shape[0],freq=get_freq(frequency))\n",
    "serie['cum'] = serie.time.dt.minute  + serie.time.dt.hour \n",
    "starting_point = {'cum':0}\n"
   ]
  },
  {
   "cell_type": "code",
   "execution_count": 26,
   "id": "335868b2-3d60-4335-bac2-04cd7ab6bad7",
   "metadata": {
    "tags": []
   },
   "outputs": [
    {
     "data": {
      "text/html": [
       "<div>\n",
       "<style scoped>\n",
       "    .dataframe tbody tr th:only-of-type {\n",
       "        vertical-align: middle;\n",
       "    }\n",
       "\n",
       "    .dataframe tbody tr th {\n",
       "        vertical-align: top;\n",
       "    }\n",
       "\n",
       "    .dataframe thead th {\n",
       "        text-align: right;\n",
       "    }\n",
       "</style>\n",
       "<table border=\"1\" class=\"dataframe\">\n",
       "  <thead>\n",
       "    <tr style=\"text-align: right;\">\n",
       "      <th></th>\n",
       "      <th>signal</th>\n",
       "      <th>time</th>\n",
       "      <th>cum</th>\n",
       "    </tr>\n",
       "  </thead>\n",
       "  <tbody>\n",
       "    <tr>\n",
       "      <th>0</th>\n",
       "      <td>0.0</td>\n",
       "      <td>2006-01-01 00:00:01</td>\n",
       "      <td>0</td>\n",
       "    </tr>\n",
       "    <tr>\n",
       "      <th>1</th>\n",
       "      <td>0.0</td>\n",
       "      <td>2006-01-01 00:10:01</td>\n",
       "      <td>10</td>\n",
       "    </tr>\n",
       "    <tr>\n",
       "      <th>2</th>\n",
       "      <td>0.0</td>\n",
       "      <td>2006-01-01 00:20:01</td>\n",
       "      <td>20</td>\n",
       "    </tr>\n",
       "    <tr>\n",
       "      <th>3</th>\n",
       "      <td>0.0</td>\n",
       "      <td>2006-01-01 00:30:01</td>\n",
       "      <td>30</td>\n",
       "    </tr>\n",
       "    <tr>\n",
       "      <th>4</th>\n",
       "      <td>0.0</td>\n",
       "      <td>2006-01-01 00:40:01</td>\n",
       "      <td>40</td>\n",
       "    </tr>\n",
       "    <tr>\n",
       "      <th>...</th>\n",
       "      <td>...</td>\n",
       "      <td>...</td>\n",
       "      <td>...</td>\n",
       "    </tr>\n",
       "    <tr>\n",
       "      <th>52555</th>\n",
       "      <td>0.0</td>\n",
       "      <td>2006-12-31 23:10:01</td>\n",
       "      <td>33</td>\n",
       "    </tr>\n",
       "    <tr>\n",
       "      <th>52556</th>\n",
       "      <td>0.0</td>\n",
       "      <td>2006-12-31 23:20:01</td>\n",
       "      <td>43</td>\n",
       "    </tr>\n",
       "    <tr>\n",
       "      <th>52557</th>\n",
       "      <td>0.0</td>\n",
       "      <td>2006-12-31 23:30:01</td>\n",
       "      <td>53</td>\n",
       "    </tr>\n",
       "    <tr>\n",
       "      <th>52558</th>\n",
       "      <td>0.0</td>\n",
       "      <td>2006-12-31 23:40:01</td>\n",
       "      <td>63</td>\n",
       "    </tr>\n",
       "    <tr>\n",
       "      <th>52559</th>\n",
       "      <td>0.0</td>\n",
       "      <td>2006-12-31 23:50:01</td>\n",
       "      <td>73</td>\n",
       "    </tr>\n",
       "  </tbody>\n",
       "</table>\n",
       "<p>52560 rows × 3 columns</p>\n",
       "</div>"
      ],
      "text/plain": [
       "       signal                time  cum\n",
       "0         0.0 2006-01-01 00:00:01    0\n",
       "1         0.0 2006-01-01 00:10:01   10\n",
       "2         0.0 2006-01-01 00:20:01   20\n",
       "3         0.0 2006-01-01 00:30:01   30\n",
       "4         0.0 2006-01-01 00:40:01   40\n",
       "...       ...                 ...  ...\n",
       "52555     0.0 2006-12-31 23:10:01   33\n",
       "52556     0.0 2006-12-31 23:20:01   43\n",
       "52557     0.0 2006-12-31 23:30:01   53\n",
       "52558     0.0 2006-12-31 23:40:01   63\n",
       "52559     0.0 2006-12-31 23:50:01   73\n",
       "\n",
       "[52560 rows x 3 columns]"
      ]
     },
     "execution_count": 26,
     "metadata": {},
     "output_type": "execute_result"
    }
   ],
   "source": [
    "serie"
   ]
  },
  {
   "cell_type": "code",
   "execution_count": 18,
   "id": "e1ead062-90fa-4c7d-82f8-4bfb0c4575f2",
   "metadata": {
    "tags": []
   },
   "outputs": [
    {
     "data": {
      "text/html": [
       "<div>\n",
       "<style scoped>\n",
       "    .dataframe tbody tr th:only-of-type {\n",
       "        vertical-align: middle;\n",
       "    }\n",
       "\n",
       "    .dataframe tbody tr th {\n",
       "        vertical-align: top;\n",
       "    }\n",
       "\n",
       "    .dataframe thead th {\n",
       "        text-align: right;\n",
       "    }\n",
       "</style>\n",
       "<table border=\"1\" class=\"dataframe\">\n",
       "  <thead>\n",
       "    <tr style=\"text-align: right;\">\n",
       "      <th></th>\n",
       "      <th>lag</th>\n",
       "      <th>time</th>\n",
       "      <th>signal</th>\n",
       "      <th>signal_low</th>\n",
       "      <th>signal_median</th>\n",
       "      <th>signal_high</th>\n",
       "    </tr>\n",
       "  </thead>\n",
       "  <tbody>\n",
       "    <tr>\n",
       "      <th>0</th>\n",
       "      <td>1</td>\n",
       "      <td>2006-01-01 16:40:01</td>\n",
       "      <td>-2.009074e-07</td>\n",
       "      <td>-0.817537</td>\n",
       "      <td>-0.000366</td>\n",
       "      <td>5.168141</td>\n",
       "    </tr>\n",
       "    <tr>\n",
       "      <th>1</th>\n",
       "      <td>1</td>\n",
       "      <td>2006-01-01 16:50:01</td>\n",
       "      <td>-2.009074e-07</td>\n",
       "      <td>-0.515006</td>\n",
       "      <td>-0.000368</td>\n",
       "      <td>4.710861</td>\n",
       "    </tr>\n",
       "    <tr>\n",
       "      <th>2</th>\n",
       "      <td>1</td>\n",
       "      <td>2006-01-01 17:00:01</td>\n",
       "      <td>-2.009074e-07</td>\n",
       "      <td>-0.416238</td>\n",
       "      <td>-0.000369</td>\n",
       "      <td>4.350452</td>\n",
       "    </tr>\n",
       "    <tr>\n",
       "      <th>3</th>\n",
       "      <td>1</td>\n",
       "      <td>2006-01-01 17:10:01</td>\n",
       "      <td>-2.009074e-07</td>\n",
       "      <td>-0.349064</td>\n",
       "      <td>-0.000367</td>\n",
       "      <td>4.115104</td>\n",
       "    </tr>\n",
       "    <tr>\n",
       "      <th>4</th>\n",
       "      <td>1</td>\n",
       "      <td>2006-01-01 17:20:01</td>\n",
       "      <td>-2.009074e-07</td>\n",
       "      <td>-0.306284</td>\n",
       "      <td>-0.000365</td>\n",
       "      <td>3.967124</td>\n",
       "    </tr>\n",
       "    <tr>\n",
       "      <th>...</th>\n",
       "      <td>...</td>\n",
       "      <td>...</td>\n",
       "      <td>...</td>\n",
       "      <td>...</td>\n",
       "      <td>...</td>\n",
       "      <td>...</td>\n",
       "    </tr>\n",
       "    <tr>\n",
       "      <th>157615</th>\n",
       "      <td>20</td>\n",
       "      <td>2006-02-25 12:30:01</td>\n",
       "      <td>6.800000e+00</td>\n",
       "      <td>-2.239187</td>\n",
       "      <td>1.749822</td>\n",
       "      <td>10.667901</td>\n",
       "    </tr>\n",
       "    <tr>\n",
       "      <th>157616</th>\n",
       "      <td>20</td>\n",
       "      <td>2006-02-25 12:40:01</td>\n",
       "      <td>4.850000e+00</td>\n",
       "      <td>0.974250</td>\n",
       "      <td>5.699834</td>\n",
       "      <td>15.084847</td>\n",
       "    </tr>\n",
       "    <tr>\n",
       "      <th>157617</th>\n",
       "      <td>20</td>\n",
       "      <td>2006-02-25 12:50:01</td>\n",
       "      <td>2.900000e+00</td>\n",
       "      <td>1.278800</td>\n",
       "      <td>6.899848</td>\n",
       "      <td>16.860020</td>\n",
       "    </tr>\n",
       "    <tr>\n",
       "      <th>157618</th>\n",
       "      <td>20</td>\n",
       "      <td>2006-02-25 13:00:01</td>\n",
       "      <td>1.050000e+00</td>\n",
       "      <td>2.586636</td>\n",
       "      <td>7.849844</td>\n",
       "      <td>17.594950</td>\n",
       "    </tr>\n",
       "    <tr>\n",
       "      <th>157619</th>\n",
       "      <td>20</td>\n",
       "      <td>2006-02-25 13:10:01</td>\n",
       "      <td>1.450001e+00</td>\n",
       "      <td>2.654532</td>\n",
       "      <td>7.449837</td>\n",
       "      <td>16.899357</td>\n",
       "    </tr>\n",
       "  </tbody>\n",
       "</table>\n",
       "<p>157620 rows × 6 columns</p>\n",
       "</div>"
      ],
      "text/plain": [
       "        lag                time        signal  signal_low  signal_median  \\\n",
       "0         1 2006-01-01 16:40:01 -2.009074e-07   -0.817537      -0.000366   \n",
       "1         1 2006-01-01 16:50:01 -2.009074e-07   -0.515006      -0.000368   \n",
       "2         1 2006-01-01 17:00:01 -2.009074e-07   -0.416238      -0.000369   \n",
       "3         1 2006-01-01 17:10:01 -2.009074e-07   -0.349064      -0.000367   \n",
       "4         1 2006-01-01 17:20:01 -2.009074e-07   -0.306284      -0.000365   \n",
       "...     ...                 ...           ...         ...            ...   \n",
       "157615   20 2006-02-25 12:30:01  6.800000e+00   -2.239187       1.749822   \n",
       "157616   20 2006-02-25 12:40:01  4.850000e+00    0.974250       5.699834   \n",
       "157617   20 2006-02-25 12:50:01  2.900000e+00    1.278800       6.899848   \n",
       "157618   20 2006-02-25 13:00:01  1.050000e+00    2.586636       7.849844   \n",
       "157619   20 2006-02-25 13:10:01  1.450001e+00    2.654532       7.449837   \n",
       "\n",
       "        signal_high  \n",
       "0          5.168141  \n",
       "1          4.710861  \n",
       "2          4.350452  \n",
       "3          4.115104  \n",
       "4          3.967124  \n",
       "...             ...  \n",
       "157615    10.667901  \n",
       "157616    15.084847  \n",
       "157617    16.860020  \n",
       "157618    17.594950  \n",
       "157619    16.899357  \n",
       "\n",
       "[157620 rows x 6 columns]"
      ]
     },
     "execution_count": 18,
     "metadata": {},
     "output_type": "execute_result"
    }
   ],
   "source": [
    "res = ts.inference(batch_size = 100,num_workers = 4,data=ts.dataset,steps_in_future=100)\n",
    "res"
   ]
  },
  {
   "cell_type": "code",
   "execution_count": 12,
   "id": "5d8b208e-1369-4e5f-97f4-6ea8c7dfa020",
   "metadata": {
    "tags": []
   },
   "outputs": [
    {
     "data": {
      "text/plain": [
       "<matplotlib.legend.Legend at 0x7f6e524d7970>"
      ]
     },
     "execution_count": 12,
     "metadata": {},
     "output_type": "execute_result"
    }
   ],
   "source": [
    "%matplotlib qt\n",
    "plt.plot(res.time[(res.lag==1)],res.signal_median[(res.lag==1)],label='all')\n",
    "plt.plot(res_orig.time[(res_orig.lag==1)],res_orig.signal_median[(res_orig.lag==1)],label='test')\n",
    "plt.legend()"
   ]
  },
  {
   "cell_type": "code",
   "execution_count": null,
   "id": "146d8814-6653-42be-8735-d720b7153362",
   "metadata": {
    "tags": []
   },
   "outputs": [],
   "source": [
    "res[res.time>res_orig.time.max()]"
   ]
  },
  {
   "cell_type": "code",
   "execution_count": 6,
   "id": "b165fd65-ed2d-4229-9983-85cec47262d6",
   "metadata": {},
   "outputs": [
    {
     "ename": "KeyError",
     "evalue": "'median'",
     "output_type": "error",
     "traceback": [
      "\u001b[0;31m---------------------------------------------------------------------------\u001b[0m",
      "\u001b[0;31mKeyError\u001b[0m                                  Traceback (most recent call last)",
      "File \u001b[0;32m~/.conda/envs/tt/lib/python3.10/site-packages/pandas/core/indexes/base.py:3802\u001b[0m, in \u001b[0;36mIndex.get_loc\u001b[0;34m(self, key, method, tolerance)\u001b[0m\n\u001b[1;32m   3801\u001b[0m \u001b[38;5;28;01mtry\u001b[39;00m:\n\u001b[0;32m-> 3802\u001b[0m     \u001b[38;5;28;01mreturn\u001b[39;00m \u001b[38;5;28;43mself\u001b[39;49m\u001b[38;5;241;43m.\u001b[39;49m\u001b[43m_engine\u001b[49m\u001b[38;5;241;43m.\u001b[39;49m\u001b[43mget_loc\u001b[49m\u001b[43m(\u001b[49m\u001b[43mcasted_key\u001b[49m\u001b[43m)\u001b[49m\n\u001b[1;32m   3803\u001b[0m \u001b[38;5;28;01mexcept\u001b[39;00m \u001b[38;5;167;01mKeyError\u001b[39;00m \u001b[38;5;28;01mas\u001b[39;00m err:\n",
      "File \u001b[0;32m~/.conda/envs/tt/lib/python3.10/site-packages/pandas/_libs/index.pyx:138\u001b[0m, in \u001b[0;36mpandas._libs.index.IndexEngine.get_loc\u001b[0;34m()\u001b[0m\n",
      "File \u001b[0;32m~/.conda/envs/tt/lib/python3.10/site-packages/pandas/_libs/index.pyx:165\u001b[0m, in \u001b[0;36mpandas._libs.index.IndexEngine.get_loc\u001b[0;34m()\u001b[0m\n",
      "File \u001b[0;32mpandas/_libs/hashtable_class_helper.pxi:5745\u001b[0m, in \u001b[0;36mpandas._libs.hashtable.PyObjectHashTable.get_item\u001b[0;34m()\u001b[0m\n",
      "File \u001b[0;32mpandas/_libs/hashtable_class_helper.pxi:5753\u001b[0m, in \u001b[0;36mpandas._libs.hashtable.PyObjectHashTable.get_item\u001b[0;34m()\u001b[0m\n",
      "\u001b[0;31mKeyError\u001b[0m: 'median'",
      "\nThe above exception was the direct cause of the following exception:\n",
      "\u001b[0;31mKeyError\u001b[0m                                  Traceback (most recent call last)",
      "Cell \u001b[0;32mIn[6], line 4\u001b[0m\n\u001b[1;32m      2\u001b[0m res\u001b[38;5;241m.\u001b[39msort_values(by\u001b[38;5;241m=\u001b[39m\u001b[38;5;124m'\u001b[39m\u001b[38;5;124mtime\u001b[39m\u001b[38;5;124m'\u001b[39m,inplace\u001b[38;5;241m=\u001b[39m\u001b[38;5;28;01mTrue\u001b[39;00m)\n\u001b[1;32m      3\u001b[0m plt\u001b[38;5;241m.\u001b[39mplot(res\u001b[38;5;241m.\u001b[39mtime, res[\u001b[38;5;124m'\u001b[39m\u001b[38;5;124msignal\u001b[39m\u001b[38;5;124m'\u001b[39m],label\u001b[38;5;241m=\u001b[39m\u001b[38;5;124m'\u001b[39m\u001b[38;5;124mreal\u001b[39m\u001b[38;5;124m'\u001b[39m)\n\u001b[0;32m----> 4\u001b[0m plt\u001b[38;5;241m.\u001b[39mplot(res\u001b[38;5;241m.\u001b[39mtime, \u001b[43mres\u001b[49m\u001b[43m[\u001b[49m\u001b[38;5;124;43m'\u001b[39;49m\u001b[38;5;124;43mmedian\u001b[39;49m\u001b[38;5;124;43m'\u001b[39;49m\u001b[43m]\u001b[49m,label\u001b[38;5;241m=\u001b[39m\u001b[38;5;124m'\u001b[39m\u001b[38;5;124mmedian\u001b[39m\u001b[38;5;124m'\u001b[39m)\n",
      "File \u001b[0;32m~/.conda/envs/tt/lib/python3.10/site-packages/pandas/core/frame.py:3807\u001b[0m, in \u001b[0;36mDataFrame.__getitem__\u001b[0;34m(self, key)\u001b[0m\n\u001b[1;32m   3805\u001b[0m \u001b[38;5;28;01mif\u001b[39;00m \u001b[38;5;28mself\u001b[39m\u001b[38;5;241m.\u001b[39mcolumns\u001b[38;5;241m.\u001b[39mnlevels \u001b[38;5;241m>\u001b[39m \u001b[38;5;241m1\u001b[39m:\n\u001b[1;32m   3806\u001b[0m     \u001b[38;5;28;01mreturn\u001b[39;00m \u001b[38;5;28mself\u001b[39m\u001b[38;5;241m.\u001b[39m_getitem_multilevel(key)\n\u001b[0;32m-> 3807\u001b[0m indexer \u001b[38;5;241m=\u001b[39m \u001b[38;5;28;43mself\u001b[39;49m\u001b[38;5;241;43m.\u001b[39;49m\u001b[43mcolumns\u001b[49m\u001b[38;5;241;43m.\u001b[39;49m\u001b[43mget_loc\u001b[49m\u001b[43m(\u001b[49m\u001b[43mkey\u001b[49m\u001b[43m)\u001b[49m\n\u001b[1;32m   3808\u001b[0m \u001b[38;5;28;01mif\u001b[39;00m is_integer(indexer):\n\u001b[1;32m   3809\u001b[0m     indexer \u001b[38;5;241m=\u001b[39m [indexer]\n",
      "File \u001b[0;32m~/.conda/envs/tt/lib/python3.10/site-packages/pandas/core/indexes/base.py:3804\u001b[0m, in \u001b[0;36mIndex.get_loc\u001b[0;34m(self, key, method, tolerance)\u001b[0m\n\u001b[1;32m   3802\u001b[0m     \u001b[38;5;28;01mreturn\u001b[39;00m \u001b[38;5;28mself\u001b[39m\u001b[38;5;241m.\u001b[39m_engine\u001b[38;5;241m.\u001b[39mget_loc(casted_key)\n\u001b[1;32m   3803\u001b[0m \u001b[38;5;28;01mexcept\u001b[39;00m \u001b[38;5;167;01mKeyError\u001b[39;00m \u001b[38;5;28;01mas\u001b[39;00m err:\n\u001b[0;32m-> 3804\u001b[0m     \u001b[38;5;28;01mraise\u001b[39;00m \u001b[38;5;167;01mKeyError\u001b[39;00m(key) \u001b[38;5;28;01mfrom\u001b[39;00m \u001b[38;5;21;01merr\u001b[39;00m\n\u001b[1;32m   3805\u001b[0m \u001b[38;5;28;01mexcept\u001b[39;00m \u001b[38;5;167;01mTypeError\u001b[39;00m:\n\u001b[1;32m   3806\u001b[0m     \u001b[38;5;66;03m# If we have a listlike key, _check_indexing_error will raise\u001b[39;00m\n\u001b[1;32m   3807\u001b[0m     \u001b[38;5;66;03m#  InvalidIndexError. Otherwise we fall through and re-raise\u001b[39;00m\n\u001b[1;32m   3808\u001b[0m     \u001b[38;5;66;03m#  the TypeError.\u001b[39;00m\n\u001b[1;32m   3809\u001b[0m     \u001b[38;5;28mself\u001b[39m\u001b[38;5;241m.\u001b[39m_check_indexing_error(key)\n",
      "\u001b[0;31mKeyError\u001b[0m: 'median'"
     ]
    },
    {
     "data": {
      "image/png": "[encoded data removed]",
      "text/plain": [
       "<Figure size 640x480 with 1 Axes>"
      ]
     },
     "metadata": {},
     "output_type": "display_data"
    }
   ],
   "source": [
    "import matplotlib.pyplot as plt\n",
    "res.sort_values(by='time',inplace=True)\n",
    "plt.plot(res.time, res['signal'],label='real')\n",
    "plt.plot(res.time, res['median'],label='median')"
   ]
  },
  {
   "cell_type": "code",
   "execution_count": null,
   "id": "23bcd30c-d798-4a15-8f8c-7587c807d284",
   "metadata": {},
   "outputs": [],
   "source": [
    "res['error'] =np.abs( res['signal']-res['signal_median'])\n",
    "res.groupby('lag').error.mean().plot()"
   ]
  },
  {
   "cell_type": "code",
   "execution_count": null,
   "id": "83624fbe-da3a-4059-b779-b131293c20cc",
   "metadata": {},
   "outputs": [],
   "source": []
  },
  {
   "cell_type": "code",
   "execution_count": null,
   "id": "9f82bfbd-e8d0-48cf-b13c-42a2847eb070",
   "metadata": {},
   "outputs": [],
   "source": []
  }
 ],
 "metadata": {
  "kernelspec": {
   "display_name": "Python 3 (ipykernel)",
   "language": "python",
   "name": "python3"
  },
  "language_info": {
   "codemirror_mode": {
    "name": "ipython",
    "version": 3
   },
   "file_extension": ".py",
   "mimetype": "text/x-python",
   "name": "python",
   "nbconvert_exporter": "python",
   "pygments_lexer": "ipython3",
   "version": "3.10.9"
  }
 },
 "nbformat": 4,
 "nbformat_minor": 5
}
