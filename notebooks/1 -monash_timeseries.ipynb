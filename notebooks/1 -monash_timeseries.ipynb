{
 "cells": [
  {
   "cell_type": "code",
   "execution_count": null,
   "id": "ef8f4456-39e8-4bac-9514-dac172858380",
   "metadata": {
    "tags": []
   },
   "outputs": [],
   "source": [
    "import pandas as pd\n",
    "from dsipts import TimeSeries, RNN,Monash,get_freq\n"
   ]
  },
  {
   "cell_type": "code",
   "execution_count": null,
   "id": "98dc5459-3670-4357-8059-f3cccade6431",
   "metadata": {
    "tags": []
   },
   "outputs": [],
   "source": [
    "m = Monash(filename='monash',baseUrl='https://forecastingdata.org/', rebuild=False)\n",
    "#m.download_dataset('data',4656144,rebuild=True)\n",
    "#m.save('monash')"
   ]
  },
  {
   "cell_type": "code",
   "execution_count": null,
   "id": "7c26cb67-3215-41f5-9d46-fdb2b3f2b87e",
   "metadata": {
    "tags": []
   },
   "outputs": [],
   "source": [
    "m = Monash(filename='monash',baseUrl='https://forecastingdata.org/', rebuild=False)\n",
    "m.load('monash')\n",
    "m.downloaded.keys()\n"
   ]
  },
  {
   "cell_type": "code",
   "execution_count": null,
   "id": "da6f729c-a07b-47b7-8a03-c432c24bfa0a",
   "metadata": {
    "tags": []
   },
   "outputs": [],
   "source": [
    "\n",
    "loaded_data,frequency,forecast_horizon,contain_missing_values,contain_equal_length = m.generate_dataset(4656144)\n"
   ]
  },
  {
   "cell_type": "code",
   "execution_count": null,
   "id": "9639a836-c176-41d7-93ce-bd25d9786732",
   "metadata": {
    "tags": []
   },
   "outputs": [],
   "source": [
    "loaded_data"
   ]
  },
  {
   "cell_type": "code",
   "execution_count": null,
   "id": "b4e51045-5762-455c-9998-6129b3c7de46",
   "metadata": {
    "tags": []
   },
   "outputs": [],
   "source": [
    "serie = pd.DataFrame({'signal':loaded_data.series_value.iloc[0]})\n",
    "serie['time'] = pd.date_range(start = loaded_data.start_timestamp.iloc[0], periods=  serie.shape[0],freq=get_freq(frequency))\n",
    "serie['cum'] = serie.time.dt.minute  + serie.time.dt.hour \n",
    "starting_point = {'cum':0} ##this can be used for creating the dataset: only samples with cum=0 in the first future lag will be used as samples! \n",
    "ts = TimeSeries('4656144')\n",
    "ts.load_signal(serie.iloc[0:8000],enrich_cat=['dow','hour'],target_variables=['signal'])"
   ]
  },
  {
   "cell_type": "code",
   "execution_count": null,
   "id": "9dca9057-75da-4ca0-b599-559696fd706d",
   "metadata": {
    "tags": []
   },
   "outputs": [],
   "source": [
    "ts.plot();"
   ]
  },
  {
   "cell_type": "code",
   "execution_count": null,
   "id": "66b549a0-6b5d-4d13-b0b2-b6dbde63f37a",
   "metadata": {
    "tags": []
   },
   "outputs": [],
   "source": [
    "past_steps = 100\n",
    "future_steps = 20\n",
    "config = dict(model_configs =dict(\n",
    "                                    cat_emb_dim = 16,\n",
    "                                    kind = 'gru',\n",
    "                                    hidden_RNN = 12,\n",
    "                                    num_layers_RNN = 2,\n",
    "                                    sum_emb = True,\n",
    "                                    kernel_size = 15,\n",
    "                                    past_steps = past_steps,\n",
    "                                    future_steps = future_steps,\n",
    "                                    past_channels = len(ts.num_var),\n",
    "                                    future_channels = len(ts.future_variables),\n",
    "                                    embs = [ts.dataset[c].nunique() for c in ts.cat_var],\n",
    "                                    quantiles=[0.1,0.5,0.9],\n",
    "                                    dropout_rate= 0.5,\n",
    "                                    persistence_weight= 0.010,\n",
    "                                    loss_type= 'l1',\n",
    "                                    remove_last= True,\n",
    "                                    use_bn = False,\n",
    "                                    optim= 'torch.optim.Adam',\n",
    "                                    activation= 'torch.nn.PReLU',                            \n",
    "                                    out_channels = len(ts.target_variables)),\n",
    "                scheduler_config = dict(gamma=0.1,step_size=100),\n",
    "                optim_config = dict(lr = 0.0005,weight_decay=0.01))\n",
    "model_sum = RNN(**config['model_configs'],optim_config = config['optim_config'],scheduler_config =config['scheduler_config'] )\n",
    "ts.set_model(model_sum,config=config )"
   ]
  },
  {
   "cell_type": "code",
   "execution_count": null,
   "id": "1be1b3ad-36ef-4fdc-95df-cf0739633915",
   "metadata": {
    "tags": []
   },
   "outputs": [],
   "source": [
    "ts.set_model(model_sum,config=config )"
   ]
  },
  {
   "cell_type": "code",
   "execution_count": null,
   "id": "f7fcda7e-4b30-45d7-9991-27dedcfd58cd",
   "metadata": {
    "tags": []
   },
   "outputs": [],
   "source": [
    "ts.train_model(dirpath=\"/home/agobbi/Projects/TT/tmp/4656719v2\",split_params=dict(perc_train=0.6, perc_valid=0.2,past_steps = past_steps,future_steps=future_steps, range_train=None, range_validation=None, range_test=None,shift = 0,starting_point=None,skip_step=1),batch_size=100,num_workers=4,max_epochs=40,auto_lr_find=True,devices='auto')"
   ]
  },
  {
   "cell_type": "code",
   "execution_count": null,
   "id": "cafb6a07-4904-4466-a3a9-448abac1337a",
   "metadata": {
    "tags": []
   },
   "outputs": [],
   "source": [
    "ts.scaler_cat"
   ]
  },
  {
   "cell_type": "code",
   "execution_count": null,
   "id": "8d0974c9-fc85-436d-b7c7-c6605b2a423a",
   "metadata": {
    "tags": []
   },
   "outputs": [],
   "source": [
    "ts.losses.plot()"
   ]
  },
  {
   "cell_type": "code",
   "execution_count": null,
   "id": "96d99aef-a44d-4509-8610-bf1620d86fa8",
   "metadata": {},
   "outputs": [],
   "source": [
    "ts.modifier=None"
   ]
  },
  {
   "cell_type": "code",
   "execution_count": null,
   "id": "972f7417-48ea-4498-8724-89fb1eedccf7",
   "metadata": {
    "tags": []
   },
   "outputs": [],
   "source": [
    "res = ts.inference_on_set(batch_size = 100,num_workers = 4)"
   ]
  },
  {
   "cell_type": "code",
   "execution_count": null,
   "id": "a1712bce-071f-4ea9-92bd-e4f4637ebb07",
   "metadata": {},
   "outputs": [],
   "source": [
    "import numpy as np\n",
    "np.sqrt(np.mean((res[res.lag==2]['signal_median'] - res[res.lag==2].signal)**2))"
   ]
  },
  {
   "cell_type": "code",
   "execution_count": null,
   "id": "95186363-2c95-449e-8d68-a80877129b20",
   "metadata": {
    "tags": []
   },
   "outputs": [],
   "source": [
    "%matplotlib qt\n",
    "res[res.lag==2].drop(columns='time').plot()"
   ]
  },
  {
   "cell_type": "code",
   "execution_count": null,
   "id": "95bcaf8f-1c5b-4188-8bea-1d45de30f152",
   "metadata": {
    "tags": []
   },
   "outputs": [],
   "source": [
    "from datetime import timedelta\n",
    "res['prediction_time'] = res.apply(lambda x: x.time-timedelta(minutes=60*x.lag), axis=1)"
   ]
  },
  {
   "cell_type": "code",
   "execution_count": null,
   "id": "b713d900-e041-47c8-824c-4e26981a5047",
   "metadata": {
    "tags": []
   },
   "outputs": [],
   "source": [
    "import matplotlib.pyplot as plt\n",
    "date = '2006-02-15 02:20:01'\n",
    "\n",
    "mask = res.prediction_time==date\n",
    "plt.plot(res.lag[mask],res.signal[mask],label='real')\n",
    "plt.plot(res.lag[mask],res.signal_median[mask],label='median')\n",
    "plt.legend()"
   ]
  },
  {
   "cell_type": "code",
   "execution_count": null,
   "id": "a0feca31-3b67-4a82-95e0-6f27ecc2c26d",
   "metadata": {
    "tags": []
   },
   "outputs": [],
   "source": [
    "ts.save('tmp')"
   ]
  },
  {
   "cell_type": "code",
   "execution_count": null,
   "id": "6086f9e3-e1d6-424b-9a0b-776ac7d0368e",
   "metadata": {},
   "outputs": [],
   "source": [
    "import pandas as pd\n",
    "from dsipts import TimeSeries, RNN,Monash,get_freq\n",
    "import numpy as np\n",
    "import matplotlib.pyplot as plt\n",
    "ts = TimeSeries('4656144')\n",
    "ts.load(RNN,'tmp',load_last=False)"
   ]
  },
  {
   "cell_type": "code",
   "execution_count": null,
   "id": "bc0ea255-6cf0-4053-a439-b8a7f2270811",
   "metadata": {
    "tags": []
   },
   "outputs": [],
   "source": [
    "l = ts.dataset.shape[0]\n",
    "perc_train = 0.6\n",
    "perc_valid = 0.2\n",
    "train = ts.dataset.iloc[0:int(perc_train*l)]\n",
    "validation = ts.dataset.iloc[int(perc_train*l):int(perc_train*l+perc_valid*l)]\n",
    "test = ts.dataset.iloc[int(perc_train*l+perc_valid*l):]"
   ]
  },
  {
   "cell_type": "code",
   "execution_count": null,
   "id": "e06bea12-8dfd-4c40-a9f5-e7f531c9ebec",
   "metadata": {
    "tags": []
   },
   "outputs": [],
   "source": [
    "plt.plot(train.time, train.signal,label='train')\n",
    "plt.plot(validation.time, validation.signal,label='validation')\n",
    "plt.plot(test.time, test.signal,label='test')\n",
    "plt.legend()"
   ]
  },
  {
   "cell_type": "code",
   "execution_count": null,
   "id": "9c7178d7-c74f-4b1a-9314-7997f68dfaf5",
   "metadata": {
    "tags": []
   },
   "outputs": [],
   "source": [
    "ts.split_params"
   ]
  },
  {
   "cell_type": "code",
   "execution_count": null,
   "id": "d27de02a-77df-46ca-81aa-ff514a7b8a20",
   "metadata": {
    "tags": []
   },
   "outputs": [],
   "source": [
    "\n",
    "res_orig = ts.inference_on_set(batch_size = 100,num_workers = 4)"
   ]
  },
  {
   "cell_type": "code",
   "execution_count": null,
   "id": "e9a5f27f-224a-49ca-a26e-a533bde43d8c",
   "metadata": {
    "tags": []
   },
   "outputs": [],
   "source": [
    "m = Monash(filename='monash',baseUrl='https://forecastingdata.org/', rebuild=False)\n",
    "m.load('monash')\n",
    "loaded_data,frequency,forecast_horizon,contain_missing_values,contain_equal_length = m.generate_dataset(4656144)\n",
    "\n",
    "\n",
    "serie = pd.DataFrame({'signal':loaded_data.series_value.iloc[0]})\n",
    "serie['time'] = pd.date_range(start = loaded_data.start_timestamp.iloc[0], periods=  serie.shape[0],freq=get_freq(frequency))\n",
    "serie['cum'] = serie.time.dt.minute  + serie.time.dt.hour \n",
    "starting_point = {'cum':0}\n"
   ]
  },
  {
   "cell_type": "code",
   "execution_count": null,
   "id": "335868b2-3d60-4335-bac2-04cd7ab6bad7",
   "metadata": {
    "tags": []
   },
   "outputs": [],
   "source": [
    "serie"
   ]
  },
  {
   "cell_type": "code",
   "execution_count": null,
   "id": "e1ead062-90fa-4c7d-82f8-4bfb0c4575f2",
   "metadata": {
    "tags": []
   },
   "outputs": [],
   "source": [
    "res = ts.inference(batch_size = 100,num_workers = 4,data=ts.dataset,steps_in_future=100)\n",
    "res"
   ]
  },
  {
   "cell_type": "code",
   "execution_count": null,
   "id": "5d8b208e-1369-4e5f-97f4-6ea8c7dfa020",
   "metadata": {
    "tags": []
   },
   "outputs": [],
   "source": [
    "%matplotlib qt\n",
    "plt.plot(res.time[(res.lag==1)],res.signal_median[(res.lag==1)],label='all')\n",
    "plt.plot(res_orig.time[(res_orig.lag==1)],res_orig.signal_median[(res_orig.lag==1)],label='test')\n",
    "plt.legend()"
   ]
  },
  {
   "cell_type": "code",
   "execution_count": null,
   "id": "146d8814-6653-42be-8735-d720b7153362",
   "metadata": {
    "tags": []
   },
   "outputs": [],
   "source": [
    "res[res.time>res_orig.time.max()]"
   ]
  },
  {
   "cell_type": "code",
   "execution_count": null,
   "id": "b165fd65-ed2d-4229-9983-85cec47262d6",
   "metadata": {},
   "outputs": [],
   "source": [
    "import matplotlib.pyplot as plt\n",
    "res.sort_values(by='time',inplace=True)\n",
    "plt.plot(res.time, res['signal'],label='real')\n",
    "plt.plot(res.time, res['median'],label='median')"
   ]
  },
  {
   "cell_type": "code",
   "execution_count": null,
   "id": "23bcd30c-d798-4a15-8f8c-7587c807d284",
   "metadata": {},
   "outputs": [],
   "source": [
    "res['error'] =np.abs( res['signal']-res['signal_median'])\n",
    "res.groupby('lag').error.mean().plot()"
   ]
  },
  {
   "cell_type": "code",
   "execution_count": null,
   "id": "83624fbe-da3a-4059-b779-b131293c20cc",
   "metadata": {},
   "outputs": [],
   "source": []
  },
  {
   "cell_type": "code",
   "execution_count": null,
   "id": "9f82bfbd-e8d0-48cf-b13c-42a2847eb070",
   "metadata": {},
   "outputs": [],
   "source": []
  }
 ],
 "metadata": {
  "kernelspec": {
   "display_name": "Python 3 (ipykernel)",
   "language": "python",
   "name": "python3"
  },
  "language_info": {
   "codemirror_mode": {
    "name": "ipython",
    "version": 3
   },
   "file_extension": ".py",
   "mimetype": "text/x-python",
   "name": "python",
   "nbconvert_exporter": "python",
   "pygments_lexer": "ipython3",
   "version": "3.10.9"
  }
 },
 "nbformat": 4,
 "nbformat_minor": 5
}
